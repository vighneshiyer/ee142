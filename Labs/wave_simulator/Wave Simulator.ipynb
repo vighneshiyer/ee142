{
 "cells": [
  {
   "cell_type": "code",
   "execution_count": 1,
   "metadata": {
    "collapsed": true
   },
   "outputs": [],
   "source": [
    "%matplotlib inline\n",
    "import numpy as np\n",
    "import matplotlib.pyplot as plt"
   ]
  },
  {
   "cell_type": "code",
   "execution_count": 9,
   "metadata": {
    "collapsed": true
   },
   "outputs": [],
   "source": [
    "time_step = 1e-12 # simulate in these time steps\n",
    "sim_time = 100e-9 # simulation time in seconds\n",
    "source_impedance = 50 # ohms\n",
    "tline_impedance = 50 # ohms\n",
    "load_impedance = 50 # ohms"
   ]
  },
  {
   "cell_type": "code",
   "execution_count": 18,
   "metadata": {
    "collapsed": false
   },
   "outputs": [
    {
     "name": "stdout",
     "output_type": "stream",
     "text": [
      "[1, 1, 1, 1, 1, 1, 1, 1, 1, 1, 1, 1, 1, 1, 1, 1, 1, 1, 1, 1, 1, 1, 1, 1, 1, 1, 1, 1, 1, 1, 1, 1, 1, 1, 1, 1, 1, 1, 1, 1, 1, 1, 1, 1, 1, 1, 1, 1, 1, 1]\n",
      "100000.0\n"
     ]
    },
    {
     "data": {
      "text/plain": [
       "[<matplotlib.lines.Line2D at 0x8fb4208>]"
      ]
     },
     "execution_count": 18,
     "metadata": {},
     "output_type": "execute_result"
    },
    {
     "data": {
      "image/png": "[encoded data removed]",
      "text/plain": [
       "<matplotlib.figure.Figure at 0x8d5bbe0>"
      ]
     },
     "metadata": {},
     "output_type": "display_data"
    }
   ],
   "source": [
    "source_waveform = [1 for x in np.linspace(0, sim_time / time_step, endpoint=True)]\n",
    "print source_waveform\n",
    "print sim_time / time_step\n",
    "plt.plot(source_waveform)"
   ]
  },
  {
   "cell_type": "code",
   "execution_count": 75,
   "metadata": {
    "collapsed": false
   },
   "outputs": [
    {
     "data": {
      "text/plain": [
       "[<matplotlib.lines.Line2D at 0x4461c978>]"
      ]
     },
     "execution_count": 75,
     "metadata": {},
     "output_type": "execute_result"
    },
    {
     "data": {
      "image/png": "[encoded data removed]",
      "text/plain": [
       "<matplotlib.figure.Figure at 0x43fac358>"
      ]
     },
     "metadata": {},
     "output_type": "display_data"
    }
   ],
   "source": [
    "# HW2 Problem 5\n",
    "length = .21875\n",
    "freq = 1.2e9\n",
    "beta = 2 * np.pi * freq\n",
    "ZS = 5.0\n",
    "ZL = 16.66 + 8.4e-8j\n",
    "Z0 = 50.0\n",
    "gamma_L = (ZL - Z0) / (ZL + Z0)\n",
    "gamma_in = gamma_L * np.exp(-2j * beta * length)\n",
    "z = np.linspace(-length, 0, 100000)\n",
    "\n",
    "V0_plus = [np.exp(-1j * beta * l) * Z0 / (Z0 * (1 + gamma_in) + ZS * (1 - gamma_in)) for l in z]\n",
    "extra = [(np.exp(-1j * beta * l) + gamma_L * np.exp(1j * beta * l)) for l in z]\n",
    "V = np.multiply(V0_plus, extra)\n",
    "plt.plot(np.linspace(-length, 0, 100000)[90000:], np.abs(V)[90000:])"
   ]
  },
  {
   "cell_type": "code",
   "execution_count": null,
   "metadata": {
    "collapsed": true
   },
   "outputs": [],
   "source": []
  }
 ],
 "metadata": {
  "anaconda-cloud": {},
  "kernelspec": {
   "display_name": "Python 2",
   "language": "python",
   "name": "python2"
  },
  "language_info": {
   "codemirror_mode": {
    "name": "ipython",
    "version": 2
   },
   "file_extension": ".py",
   "mimetype": "text/x-python",
   "name": "python",
   "nbconvert_exporter": "python",
   "pygments_lexer": "ipython2",
   "version": "2.7.12"
  }
 },
 "nbformat": 4,
 "nbformat_minor": 0
}
