{
 "cells": [
  {
   "cell_type": "code",
   "execution_count": 1,
   "metadata": {
    "collapsed": true
   },
   "outputs": [],
   "source": [
    "import numpy as np"
   ]
  },
  {
   "cell_type": "code",
   "execution_count": 10,
   "metadata": {
    "collapsed": false
   },
   "outputs": [
    {
     "name": "stdout",
     "output_type": "stream",
     "text": [
      "(-0.0588235294118-0.235294117647j)\n",
      "0.242535625036\n",
      "0.015\n",
      "1.5\n",
      "418.879020479\n",
      "1.25\n",
      "(100+50j)\n",
      "1.6403882032\n"
     ]
    }
   ],
   "source": [
    "# Problem 1\n",
    "ZL = 80.0-40.0j\n",
    "Z0 = 100\n",
    "rho_L = (ZL - Z0) / (ZL + Z0)\n",
    "print rho_L\n",
    "print np.abs(rho_L)\n",
    "c0 = 3.0e8\n",
    "epsilon = 4\n",
    "cp = c0 / np.sqrt(epsilon)\n",
    "f = 10.0e9\n",
    "wavelength = cp / f\n",
    "print wavelength\n",
    "d = 22.5e-3\n",
    "print d / wavelength\n",
    "beta = 2 * np.pi / wavelength\n",
    "print beta\n",
    "print 18.75e-3 / wavelength\n",
    "print Z0**2 / ZL\n",
    "SWR = (1 + np.abs(rho_L)) / (1 - np.abs(rho_L))\n",
    "print SWR\n",
    "V_max = "
   ]
  }
 ],
 "metadata": {
  "anaconda-cloud": {},
  "kernelspec": {
   "display_name": "Python 2",
   "language": "python",
   "name": "python2"
  },
  "language_info": {
   "codemirror_mode": {
    "name": "ipython",
    "version": 2
   },
   "file_extension": ".py",
   "mimetype": "text/x-python",
   "name": "python",
   "nbconvert_exporter": "python",
   "pygments_lexer": "ipython2",
   "version": "2.7.12"
  }
 },
 "nbformat": 4,
 "nbformat_minor": 0
}
