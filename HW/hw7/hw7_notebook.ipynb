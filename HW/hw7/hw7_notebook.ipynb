{
 "cells": [
  {
   "cell_type": "code",
   "execution_count": 7,
   "metadata": {
    "collapsed": true
   },
   "outputs": [],
   "source": [
    "%matplotlib inline\n",
    "from IPython.display import display\n",
    "import sympy\n",
    "from sympy import I\n",
    "import numpy as np\n",
    "import matplotlib.pyplot as plt\n",
    "sympy.init_printing(use_latex='mathjax') # print sympy equations in MathJAX (for Jupyter)"
   ]
  },
  {
   "cell_type": "code",
   "execution_count": 58,
   "metadata": {},
   "outputs": [
    {
     "data": {
      "text/latex": [
       "$$\\frac{8 T}{3} g_{m} k$$"
      ],
      "text/plain": [
       "8⋅T⋅gₘ⋅k\n",
       "────────\n",
       "   3    "
      ]
     },
     "metadata": {},
     "output_type": "display_data"
    },
    {
     "data": {
      "text/latex": [
       "$$- \\frac{\\overline{i_n^2} g_{m}^{2}}{C_{gs}^{2} \\omega^{2}}$$"
      ],
      "text/plain": [
       "                     2 \n",
       "-\\overline{i_n__2}⋅gₘ  \n",
       "───────────────────────\n",
       "         2       2     \n",
       "     C_gs ⋅\\omega      "
      ]
     },
     "metadata": {},
     "output_type": "display_data"
    },
    {
     "data": {
      "text/latex": [
       "$$\\left\\{- \\frac{8 C_{gs}^{2} T k}{3 g_{m}} \\omega^{2}\\right\\}$$"
      ],
      "text/plain": [
       "⎧       2         2   ⎫\n",
       "⎪-8⋅C_gs ⋅T⋅\\omega ⋅k ⎪\n",
       "⎨─────────────────────⎬\n",
       "⎪         3⋅gₘ        ⎪\n",
       "⎩                     ⎭"
      ]
     },
     "metadata": {},
     "output_type": "display_data"
    }
   ],
   "source": [
    "# problem 2a\n",
    "C_gs, k, T, gm, Rg, w, vn2, in2, Rs = sympy.symbols('C_gs k T g_m R_g \\omega \\overline{v_n^2} \\overline{i_n^2} R_s', real=True)\n",
    "\n",
    "Z_gs = 1 / (I * w * C_gs)\n",
    "\n",
    "# equiv input current noise\n",
    "expr1 = (8*k*T*gm) / 3\n",
    "display(expr1)\n",
    "expr2 = in2 * Z_gs**2 * gm**2\n",
    "display(expr2)\n",
    "in2_sol = sympy.solveset(sympy.Eq(expr1, expr2), in2)\n",
    "display(sympy.simplify(in2_sol))"
   ]
  },
  {
   "cell_type": "code",
   "execution_count": 64,
   "metadata": {},
   "outputs": [
    {
     "data": {
      "text/latex": [
       "$$\\frac{8 T}{3} g_{m} k + \\frac{T k}{C_{gs}} g_{m}^{2}$$"
      ],
      "text/plain": [
       "               2  \n",
       "8⋅T⋅gₘ⋅k   T⋅gₘ ⋅k\n",
       "──────── + ───────\n",
       "   3         C_gs "
      ]
     },
     "metadata": {},
     "output_type": "display_data"
    },
    {
     "data": {
      "text/latex": [
       "$$\\frac{\\overline{v_n^2} g_{m}^{2}}{\\left(i C_{gs} R_{g} \\omega + 1\\right)^{2}}$$"
      ],
      "text/plain": [
       "                     2  \n",
       " \\overline{v_n__2}⋅gₘ   \n",
       "────────────────────────\n",
       "                       2\n",
       "(ⅈ⋅C_gs⋅R_g⋅\\omega + 1) "
      ]
     },
     "metadata": {},
     "output_type": "display_data"
    },
    {
     "data": {
      "text/latex": [
       "$$\\left\\{\\frac{T k}{3 C_{gs} g_{m}} \\left(8 C_{gs} + 3 g_{m}\\right) \\left(i C_{gs} R_{g} \\omega + 1\\right)^{2}\\right\\}$$"
      ],
      "text/plain": [
       "⎧                                           2⎫\n",
       "⎪T⋅k⋅(8⋅C_gs + 3⋅gₘ)⋅(ⅈ⋅C_gs⋅R_g⋅\\omega + 1) ⎪\n",
       "⎨────────────────────────────────────────────⎬\n",
       "⎪                 3⋅C_gs⋅gₘ                  ⎪\n",
       "⎩                                            ⎭"
      ]
     },
     "metadata": {},
     "output_type": "display_data"
    },
    {
     "name": "stdout",
     "output_type": "stream",
     "text": [
      "\\left\\{\\frac{T k}{3 C_{gs} g_{m}} \\left(8 C_{gs} + 3 g_{m}\\right) \\left(i C_{gs} R_{g} \\omega + 1\\right)^{2}\\right\\}\n"
     ]
    }
   ],
   "source": [
    "# equiv input voltage noise\n",
    "expr1 = (k*T / C_gs) * (gm**2) + 8*k*T*gm * sympy.Rational(1, 3.0)\n",
    "display(expr1)\n",
    "expr2 = vn2 * (1 / (1 + Rg*C_gs*I*w))**2 * gm**2\n",
    "display(expr2)\n",
    "vn2_sol = sympy.solveset(sympy.Eq(expr1, expr2), vn2)\n",
    "display(sympy.simplify(vn2_sol))\n",
    "print(sympy.latex(vn2_sol))"
   ]
  },
  {
   "cell_type": "code",
   "execution_count": 65,
   "metadata": {},
   "outputs": [
    {
     "data": {
      "text/latex": [
       "$$- \\frac{8 C_{gs}^{2} T k}{3 g_{m}} R_{g}^{2} \\omega^{2} - C_{gs} R_{g}^{2} T \\omega^{2} k + \\frac{16 i C_{gs} R_{g}}{3 g_{m}} T \\omega k + 2 i R_{g} T \\omega k + \\frac{8 T k}{3 g_{m}} + \\frac{T k}{C_{gs}}$$"
      ],
      "text/plain": [
       "        2    2         2                                                      \n",
       "  8⋅C_gs ⋅R_g ⋅T⋅\\omega ⋅k           2         2     16⋅ⅈ⋅C_gs⋅R_g⋅T⋅\\omega⋅k \n",
       "- ──────────────────────── - C_gs⋅R_g ⋅T⋅\\omega ⋅k + ──────────────────────── \n",
       "            3⋅gₘ                                               3⋅gₘ           \n",
       "\n",
       "                                   \n",
       "                       8⋅T⋅k   T⋅k \n",
       "+ 2⋅ⅈ⋅R_g⋅T⋅\\omega⋅k + ───── + ────\n",
       "                        3⋅gₘ   C_gs"
      ]
     },
     "metadata": {},
     "output_type": "display_data"
    },
    {
     "name": "stdout",
     "output_type": "stream",
     "text": [
      "- \\frac{8 C_{gs}^{2} T k}{3 g_{m}} R_{g}^{2} \\omega^{2} - C_{gs} R_{g}^{2} T \\omega^{2} k + \\frac{16 i C_{gs} R_{g}}{3 g_{m}} T \\omega k + 2 i R_{g} T \\omega k + \\frac{8 T k}{3 g_{m}} + \\frac{T k}{C_{gs}}\n",
      "-8*C_gs**2*R_g**2*T*\\omega**2*k/(3*g_m) - C_gs*R_g**2*T*\\omega**2*k + 16*I*C_gs*R_g*T*\\omega*k/(3*g_m) + 2*I*R_g*T*\\omega*k + 8*T*k/(3*g_m) + T*k/C_gs\n"
     ]
    }
   ],
   "source": [
    "# problem 2b\n",
    "vn2_sol = sympy.expand(vn2_sol.args[0])\n",
    "display(vn2_sol)\n",
    "print(sympy.latex(vn2_sol))\n",
    "print(str(vn2_sol))"
   ]
  },
  {
   "cell_type": "code",
   "execution_count": 71,
   "metadata": {},
   "outputs": [
    {
     "data": {
      "text/latex": [
       "$$- C_{gs} R_{g}^{2} T \\omega^{2} k + \\frac{16 i C_{gs} R_{g}}{3 g_{m}} T \\omega k + R_{g}^{2} \\overline{i_n^2} + 2 i R_{g} T \\omega k + \\frac{8 T k}{3 g_{m}} + \\frac{T k}{C_{gs}}$$"
      ],
      "text/plain": [
       "          2         2     16⋅ⅈ⋅C_gs⋅R_g⋅T⋅\\omega⋅k      2                     \n",
       "- C_gs⋅R_g ⋅T⋅\\omega ⋅k + ──────────────────────── + R_g ⋅\\overline{i_n__2} + \n",
       "                                    3⋅gₘ                                      \n",
       "\n",
       "                     8⋅T⋅k   T⋅k \n",
       "2⋅ⅈ⋅R_g⋅T⋅\\omega⋅k + ───── + ────\n",
       "                      3⋅gₘ   C_gs"
      ]
     },
     "metadata": {},
     "output_type": "display_data"
    },
    {
     "data": {
      "text/latex": [
       "$$- \\frac{8 C_{gs}^{2} T k}{3 g_{m}} \\omega^{2} \\left(R_{g} + R_{s}\\right)^{2} - C_{gs} R_{g}^{2} T \\omega^{2} k + \\frac{16 i C_{gs} R_{g}}{3 g_{m}} T \\omega k + 2 i R_{g} T \\omega k + \\frac{8 T k}{3 g_{m}} + \\frac{T k}{C_{gs}}$$"
      ],
      "text/plain": [
       "        2         2             2                                             \n",
       "  8⋅C_gs ⋅T⋅\\omega ⋅k⋅(R_g + Rₛ)            2         2     16⋅ⅈ⋅C_gs⋅R_g⋅T⋅\\o\n",
       "- ─────────────────────────────── - C_gs⋅R_g ⋅T⋅\\omega ⋅k + ──────────────────\n",
       "                3⋅gₘ                                                  3⋅gₘ    \n",
       "\n",
       "                                          \n",
       "mega⋅k                        8⋅T⋅k   T⋅k \n",
       "────── + 2⋅ⅈ⋅R_g⋅T⋅\\omega⋅k + ───── + ────\n",
       "                               3⋅gₘ   C_gs"
      ]
     },
     "metadata": {},
     "output_type": "display_data"
    },
    {
     "name": "stdout",
     "output_type": "stream",
     "text": [
      "- \\frac{8 C_{gs}^{2} T k}{3 g_{m}} \\omega^{2} \\left(R_{g} + R_{s}\\right)^{2} - C_{gs} R_{g}^{2} T \\omega^{2} k + \\frac{16 i C_{gs} R_{g}}{3 g_{m}} T \\omega k + 2 i R_{g} T \\omega k + \\frac{8 T k}{3 g_{m}} + \\frac{T k}{C_{gs}}\n"
     ]
    },
    {
     "data": {
      "text/latex": [
       "$$1 + \\frac{1}{4 R_{s} T k} \\left(- \\frac{8 C_{gs}^{2} T k}{3 g_{m}} \\omega^{2} \\left(R_{g} + R_{s}\\right)^{2} - C_{gs} R_{g}^{2} T \\omega^{2} k + \\frac{16 i C_{gs} R_{g}}{3 g_{m}} T \\omega k + 2 i R_{g} T \\omega k + \\frac{8 T k}{3 g_{m}} + \\frac{T k}{C_{gs}}\\right)$$"
      ],
      "text/plain": [
       "            2         2             2                                         \n",
       "      8⋅C_gs ⋅T⋅\\omega ⋅k⋅(R_g + Rₛ)            2         2     16⋅ⅈ⋅C_gs⋅R_g⋅\n",
       "    - ─────────────────────────────── - C_gs⋅R_g ⋅T⋅\\omega ⋅k + ──────────────\n",
       "                    3⋅gₘ                                                  3⋅gₘ\n",
       "1 + ──────────────────────────────────────────────────────────────────────────\n",
       "                                                            4⋅Rₛ⋅T⋅k          \n",
       "\n",
       "                                              \n",
       "T⋅\\omega⋅k                        8⋅T⋅k   T⋅k \n",
       "────────── + 2⋅ⅈ⋅R_g⋅T⋅\\omega⋅k + ───── + ────\n",
       "                                   3⋅gₘ   C_gs\n",
       "──────────────────────────────────────────────\n",
       "                                              "
      ]
     },
     "metadata": {},
     "output_type": "display_data"
    },
    {
     "name": "stdout",
     "output_type": "stream",
     "text": [
      "1 + \\frac{1}{4 R_{s} T k} \\left(- \\frac{8 C_{gs}^{2} T k}{3 g_{m}} \\omega^{2} \\left(R_{g} + R_{s}\\right)^{2} - C_{gs} R_{g}^{2} T \\omega^{2} k + \\frac{16 i C_{gs} R_{g}}{3 g_{m}} T \\omega k + 2 i R_{g} T \\omega k + \\frac{8 T k}{3 g_{m}} + \\frac{T k}{C_{gs}}\\right)\n"
     ]
    }
   ],
   "source": [
    "vn2_rewrite = in2*Rg**2 - C_gs*Rg**2*T*w**2*k + 16*I*C_gs*Rg*T*w*k/(3*gm) + 2*I*Rg*T*w*k + 8*T*k/(3*gm) + T*k/C_gs\n",
    "vc = in2*Rg**2\n",
    "vu2 = - C_gs*Rg**2*T*w**2*k + 16*I*C_gs*Rg*T*w*k/(3*gm) + 2*I*Rg*T*w*k + 8*T*k/(3*gm) + T*k/C_gs\n",
    "display(vn2_rewrite)\n",
    "v_eq2 = in2_sol.args[0] * (Rs + Rg)**2 + vu2\n",
    "display(v_eq2)\n",
    "print(sympy.latex(v_eq2))\n",
    "\n",
    "v_s2 = 4 * k * T * Rs\n",
    "F = 1 + (v_eq2 / v_s2)\n",
    "display(F)\n",
    "print(sympy.latex(F))"
   ]
  },
  {
   "cell_type": "code",
   "execution_count": 76,
   "metadata": {},
   "outputs": [
    {
     "data": {
      "text/latex": [
       "$$- \\frac{2 C_{gs}^{2} \\omega^{2}}{3 R_{s} g_{m}} \\left(2 R_{g} + 2 R_{s}\\right) - \\frac{1}{4 R_{s}^{2} T k} \\left(- \\frac{8 C_{gs}^{2} T k}{3 g_{m}} \\omega^{2} \\left(R_{g} + R_{s}\\right)^{2} - C_{gs} R_{g}^{2} T \\omega^{2} k + \\frac{16 i C_{gs} R_{g}}{3 g_{m}} T \\omega k + 2 i R_{g} T \\omega k + \\frac{8 T k}{3 g_{m}} + \\frac{T k}{C_{gs}}\\right)$$"
      ],
      "text/plain": [
       "                                           2         2             2          \n",
       "                                     8⋅C_gs ⋅T⋅\\omega ⋅k⋅(R_g + Rₛ)           \n",
       "        2       2                  - ─────────────────────────────── - C_gs⋅R_\n",
       "  2⋅C_gs ⋅\\omega ⋅(2⋅R_g + 2⋅Rₛ)                   3⋅gₘ                       \n",
       "- ────────────────────────────── - ───────────────────────────────────────────\n",
       "             3⋅Rₛ⋅gₘ                                                          \n",
       "                                                                              \n",
       "\n",
       "                                                                             \n",
       " 2         2     16⋅ⅈ⋅C_gs⋅R_g⋅T⋅\\omega⋅k                        8⋅T⋅k   T⋅k \n",
       "g ⋅T⋅\\omega ⋅k + ──────────────────────── + 2⋅ⅈ⋅R_g⋅T⋅\\omega⋅k + ───── + ────\n",
       "                           3⋅gₘ                                   3⋅gₘ   C_gs\n",
       "─────────────────────────────────────────────────────────────────────────────\n",
       "                2                                                            \n",
       "            4⋅Rₛ ⋅T⋅k                                                        "
      ]
     },
     "metadata": {},
     "output_type": "display_data"
    },
    {
     "data": {
      "text/latex": [
       "$$\\left\\{- \\sqrt{R_{g}^{2} + \\frac{3 R_{g}^{2} g_{m}}{8 C_{gs}} - \\frac{2 i R_{g}}{C_{gs} \\omega} - \\frac{3 i R_{g} g_{m}}{4 C_{gs}^{2} \\omega} - \\frac{1}{C_{gs}^{2} \\omega^{2}} - \\frac{3 g_{m}}{8 C_{gs}^{3} \\omega^{2}}}, \\sqrt{R_{g}^{2} + \\frac{3 R_{g}^{2} g_{m}}{8 C_{gs}} - \\frac{2 i R_{g}}{C_{gs} \\omega} - \\frac{3 i R_{g} g_{m}}{4 C_{gs}^{2} \\omega} - \\frac{1}{C_{gs}^{2} \\omega^{2}} - \\frac{3 g_{m}}{8 C_{gs}^{3} \\omega^{2}}}\\right\\} \\setminus \\left\\{0\\right\\}$$"
      ],
      "text/plain": [
       "⎧       ______________________________________________________________________\n",
       "⎪      ╱             2                                                        \n",
       "⎪     ╱     2   3⋅R_g ⋅gₘ     2⋅ⅈ⋅R_g       3⋅ⅈ⋅R_g⋅gₘ           1            \n",
       "⎨-   ╱   R_g  + ───────── - ─────────── - ────────────── - ───────────── - ───\n",
       "⎪   ╱             8⋅C_gs    C_gs⋅\\omega         2              2       2      \n",
       "⎪ ╲╱                                      4⋅C_gs ⋅\\omega   C_gs ⋅\\omega    8⋅C\n",
       "⎩                                                                             \n",
       "\n",
       "_____________        _________________________________________________________\n",
       "                    ╱             2                                           \n",
       "   3⋅gₘ            ╱     2   3⋅R_g ⋅gₘ     2⋅ⅈ⋅R_g       3⋅ⅈ⋅R_g⋅gₘ           \n",
       "──────────── ,    ╱   R_g  + ───────── - ─────────── - ────────────── - ──────\n",
       "   3       2     ╱             8⋅C_gs    C_gs⋅\\omega         2              2 \n",
       "_gs ⋅\\omega    ╲╱                                      4⋅C_gs ⋅\\omega   C_gs ⋅\n",
       "                                                                              \n",
       "\n",
       "__________________________⎫      \n",
       "                          ⎪      \n",
       "1               3⋅gₘ      ⎪      \n",
       "─────── - ─────────────── ⎬ \\ {0}\n",
       "      2         3       2 ⎪      \n",
       "\\omega    8⋅C_gs ⋅\\omega  ⎪      \n",
       "                          ⎭      "
      ]
     },
     "metadata": {},
     "output_type": "display_data"
    },
    {
     "name": "stdout",
     "output_type": "stream",
     "text": [
      "\\left\\{- \\sqrt{R_{g}^{2} + \\frac{3 R_{g}^{2} g_{m}}{8 C_{gs}} - \\frac{2 i R_{g}}{C_{gs} \\omega} - \\frac{3 i R_{g} g_{m}}{4 C_{gs}^{2} \\omega} - \\frac{1}{C_{gs}^{2} \\omega^{2}} - \\frac{3 g_{m}}{8 C_{gs}^{3} \\omega^{2}}}, \\sqrt{R_{g}^{2} + \\frac{3 R_{g}^{2} g_{m}}{8 C_{gs}} - \\frac{2 i R_{g}}{C_{gs} \\omega} - \\frac{3 i R_{g} g_{m}}{4 C_{gs}^{2} \\omega} - \\frac{1}{C_{gs}^{2} \\omega^{2}} - \\frac{3 g_{m}}{8 C_{gs}^{3} \\omega^{2}}}\\right\\} \\setminus \\left\\{0\\right\\}\n"
     ]
    }
   ],
   "source": [
    "F_diff = sympy.diff(F, Rs)\n",
    "Rs_opt = sympy.solveset(F_diff, Rs)\n",
    "display(F_diff)\n",
    "display(Rs_opt)\n",
    "print(sympy.latex(Rs_opt))"
   ]
  },
  {
   "cell_type": "code",
   "execution_count": 88,
   "metadata": {},
   "outputs": [
    {
     "data": {
      "text/latex": [
       "$$\\frac{\\left|{\\omega}\\right|}{4 \\omega^{2}} \\sqrt{16 R_{g}^{2} \\omega^{2} + \\frac{6 g_{m}}{C_{gs}} R_{g}^{2} \\omega^{2} - \\frac{32 i}{C_{gs}} R_{g} \\omega - \\frac{12 i}{C_{gs}^{2}} R_{g} \\omega g_{m} - \\frac{16}{C_{gs}^{2}} - \\frac{6 g_{m}}{C_{gs}^{3}}}$$"
      ],
      "text/plain": [
       "      ________________________________________________________________________\n",
       "     ╱                        2       2                                       \n",
       "    ╱        2       2   6⋅R_g ⋅\\omega ⋅gₘ   32⋅ⅈ⋅R_g⋅\\omega   12⋅ⅈ⋅R_g⋅\\omega\n",
       "   ╱   16⋅R_g ⋅\\omega  + ───────────────── - ─────────────── - ───────────────\n",
       "  ╱                             C_gs               C_gs                  2    \n",
       "╲╱                                                                   C_gs     \n",
       "──────────────────────────────────────────────────────────────────────────────\n",
       "                                                         2                    \n",
       "                                                 4⋅\\omega                     \n",
       "\n",
       "____________________         \n",
       "                             \n",
       "⋅gₘ     16     6⋅gₘ          \n",
       "─── - ───── - ───── ⋅│\\omega│\n",
       "          2       3          \n",
       "      C_gs    C_gs           \n",
       "─────────────────────────────\n",
       "                             \n",
       "                             "
      ]
     },
     "metadata": {},
     "output_type": "display_data"
    },
    {
     "data": {
      "text/latex": [
       "$$1 + \\frac{1}{4 T k \\sqrt{R_{g}^{2} + \\frac{3 R_{g}^{2} g_{m}}{8 C_{gs}} - \\frac{2 i R_{g}}{C_{gs} \\omega} - \\frac{3 i R_{g} g_{m}}{4 C_{gs}^{2} \\omega} - \\frac{1}{C_{gs}^{2} \\omega^{2}} - \\frac{3 g_{m}}{8 C_{gs}^{3} \\omega^{2}}}} \\left(- \\frac{8 C_{gs}^{2} T k}{3 g_{m}} \\omega^{2} \\left(R_{g} + \\sqrt{R_{g}^{2} + \\frac{3 R_{g}^{2} g_{m}}{8 C_{gs}} - \\frac{2 i R_{g}}{C_{gs} \\omega} - \\frac{3 i R_{g} g_{m}}{4 C_{gs}^{2} \\omega} - \\frac{1}{C_{gs}^{2} \\omega^{2}} - \\frac{3 g_{m}}{8 C_{gs}^{3} \\omega^{2}}}\\right)^{2} - C_{gs} R_{g}^{2} T \\omega^{2} k + \\frac{16 i C_{gs} R_{g}}{3 g_{m}} T \\omega k + 2 i R_{g} T \\omega k + \\frac{8 T k}{3 g_{m}} + \\frac{T k}{C_{gs}}\\right)$$"
      ],
      "text/plain": [
       "                                                                              \n",
       "                          ⎛            _______________________________________\n",
       "                          ⎜           ╱             2                         \n",
       "            2         2   ⎜          ╱     2   3⋅R_g ⋅gₘ     2⋅ⅈ⋅R_g       3⋅ⅈ\n",
       "      8⋅C_gs ⋅T⋅\\omega ⋅k⋅⎜R_g +    ╱   R_g  + ───────── - ─────────── - ─────\n",
       "                          ⎜        ╱             8⋅C_gs    C_gs⋅\\omega        \n",
       "                          ⎝      ╲╱                                      4⋅C_g\n",
       "    - ────────────────────────────────────────────────────────────────────────\n",
       "                                                               3⋅gₘ           \n",
       "1 + ──────────────────────────────────────────────────────────────────────────\n",
       "                                                                        ______\n",
       "                                                                       ╱      \n",
       "                                                                      ╱     2 \n",
       "                                                            4⋅T⋅k⋅   ╱   R_g  \n",
       "                                                                    ╱         \n",
       "                                                                  ╲╱          \n",
       "\n",
       "                                             2                                \n",
       "____________________________________________⎞                                 \n",
       "                                            ⎟                                 \n",
       "⋅R_g⋅gₘ           1               3⋅gₘ      ⎟                                 \n",
       "───────── - ───────────── - ─────────────── ⎟                                 \n",
       " 2              2       2         3       2 ⎟                                 \n",
       "s ⋅\\omega   C_gs ⋅\\omega    8⋅C_gs ⋅\\omega  ⎠            2         2     16⋅ⅈ⋅\n",
       "────────────────────────────────────────────── - C_gs⋅R_g ⋅T⋅\\omega ⋅k + ─────\n",
       "                                                                              \n",
       "──────────────────────────────────────────────────────────────────────────────\n",
       "_____________________________________________________________________________ \n",
       "       2                                                                      \n",
       "  3⋅R_g ⋅gₘ     2⋅ⅈ⋅R_g       3⋅ⅈ⋅R_g⋅gₘ           1               3⋅gₘ       \n",
       "+ ───────── - ─────────── - ────────────── - ───────────── - ───────────────  \n",
       "    8⋅C_gs    C_gs⋅\\omega         2              2       2         3       2  \n",
       "                            4⋅C_gs ⋅\\omega   C_gs ⋅\\omega    8⋅C_gs ⋅\\omega   \n",
       "\n",
       "                                                       \n",
       "                                                       \n",
       "                                                       \n",
       "                                                       \n",
       "                                                       \n",
       "                                                       \n",
       "C_gs⋅R_g⋅T⋅\\omega⋅k                        8⋅T⋅k   T⋅k \n",
       "─────────────────── + 2⋅ⅈ⋅R_g⋅T⋅\\omega⋅k + ───── + ────\n",
       "     3⋅gₘ                                   3⋅gₘ   C_gs\n",
       "───────────────────────────────────────────────────────\n",
       "                                                       \n",
       "                                                       \n",
       "                                                       \n",
       "                                                       \n",
       "                                                       \n",
       "                                                       "
      ]
     },
     "metadata": {},
     "output_type": "display_data"
    }
   ],
   "source": [
    "display(sympy.simplify(Rs_opt.args[0].args[0]))\n",
    "F_opt = F.subs(Rs, Rs_opt.args[0].args[0])\n",
    "display(F_opt)"
   ]
  },
  {
   "cell_type": "code",
   "execution_count": 92,
   "metadata": {},
   "outputs": [
    {
     "data": {
      "text/latex": [
       "$$1 + \\frac{1}{4 T k \\left(R_{g} - \\frac{i}{C_{gs} \\omega}\\right)} \\left(- \\frac{8 C_{gs}^{2} T k}{3 g_{m}} \\omega^{2} \\left(2 R_{g} - \\frac{i}{C_{gs} \\omega}\\right)^{2} - C_{gs} R_{g}^{2} T \\omega^{2} k + \\frac{16 i C_{gs} R_{g}}{3 g_{m}} T \\omega k + 2 i R_{g} T \\omega k + \\frac{8 T k}{3 g_{m}} + \\frac{T k}{C_{gs}}\\right)$$"
      ],
      "text/plain": [
       "                                               2                              \n",
       "            2         2   ⎛             ⅈ     ⎞                               \n",
       "      8⋅C_gs ⋅T⋅\\omega ⋅k⋅⎜2⋅R_g - ───────────⎟                               \n",
       "                          ⎝        C_gs⋅\\omega⎠            2         2     16⋅\n",
       "    - ────────────────────────────────────────── - C_gs⋅R_g ⋅T⋅\\omega ⋅k + ───\n",
       "                         3⋅gₘ                                                 \n",
       "1 + ──────────────────────────────────────────────────────────────────────────\n",
       "                                                               ⎛           ⅈ  \n",
       "                                                         4⋅T⋅k⋅⎜R_g - ────────\n",
       "                                                               ⎝      C_gs⋅\\om\n",
       "\n",
       "                                                         \n",
       "                                                         \n",
       "                                                         \n",
       "ⅈ⋅C_gs⋅R_g⋅T⋅\\omega⋅k                        8⋅T⋅k   T⋅k \n",
       "───────────────────── + 2⋅ⅈ⋅R_g⋅T⋅\\omega⋅k + ───── + ────\n",
       "       3⋅gₘ                                   3⋅gₘ   C_gs\n",
       "─────────────────────────────────────────────────────────\n",
       "   ⎞                                                     \n",
       "───⎟                                                     \n",
       "ega⎠                                                     "
      ]
     },
     "metadata": {},
     "output_type": "display_data"
    },
    {
     "name": "stdout",
     "output_type": "stream",
     "text": [
      "1 + \\frac{1}{4 T k \\left(R_{g} - \\frac{i}{C_{gs} \\omega}\\right)} \\left(- \\frac{8 C_{gs}^{2} T k}{3 g_{m}} \\omega^{2} \\left(2 R_{g} - \\frac{i}{C_{gs} \\omega}\\right)^{2} - C_{gs} R_{g}^{2} T \\omega^{2} k + \\frac{16 i C_{gs} R_{g}}{3 g_{m}} T \\omega k + 2 i R_{g} T \\omega k + \\frac{8 T k}{3 g_{m}} + \\frac{T k}{C_{gs}}\\right)\n"
     ]
    }
   ],
   "source": [
    "# problem 2e\n",
    "# find noise figure with ideal power/transconductance match\n",
    "F_max_gm = F.subs(Rs, Rg + 1 / (I * w * C_gs))\n",
    "display(F_max_gm)\n",
    "print(sympy.latex(F_max_gm))"
   ]
  },
  {
   "cell_type": "code",
   "execution_count": 98,
   "metadata": {},
   "outputs": [
    {
     "data": {
      "text/latex": [
       "$$-3872983.34625906 + 308358546.676677 i$$"
      ],
      "text/plain": [
       "-3872983.34625906 + 308358546.676677⋅ⅈ"
      ]
     },
     "metadata": {},
     "output_type": "display_data"
    }
   ],
   "source": [
    "Rs_opt_val = Rs_opt.args[0].args[1].subs([(C_gs, 0.1e-12), (gm, 0.01), (Rg, 20), (w, 2*3.14*1e9)])\n",
    "display(Rs_opt_val.evalf())"
   ]
  }
 ],
 "metadata": {
  "kernelspec": {
   "display_name": "Python 3",
   "language": "python",
   "name": "python3"
  },
  "language_info": {
   "codemirror_mode": {
    "name": "ipython",
    "version": 3
   },
   "file_extension": ".py",
   "mimetype": "text/x-python",
   "name": "python",
   "nbconvert_exporter": "python",
   "pygments_lexer": "ipython3",
   "version": "3.6.2"
  }
 },
 "nbformat": 4,
 "nbformat_minor": 2
}
