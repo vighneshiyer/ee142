{
 "cells": [
  {
   "cell_type": "code",
   "execution_count": 7,
   "metadata": {
    "collapsed": true
   },
   "outputs": [],
   "source": [
    "%matplotlib inline\n",
    "from IPython.display import display\n",
    "import sympy\n",
    "from sympy import I\n",
    "import numpy as np\n",
    "import matplotlib.pyplot as plt\n",
    "sympy.init_printing(use_latex='mathjax') # print sympy equations in MathJAX (for Jupyter)"
   ]
  },
  {
   "cell_type": "code",
   "execution_count": 17,
   "metadata": {},
   "outputs": [
    {
     "data": {
      "text/latex": [
       "$$\\frac{8 T}{3} g_{m} k + \\frac{T k}{C_{gs}} g_{m}^{2}$$"
      ],
      "text/plain": [
       "               2  \n",
       "8⋅T⋅gₘ⋅k   T⋅gₘ ⋅k\n",
       "──────── + ───────\n",
       "   3         C_gs "
      ]
     },
     "metadata": {},
     "output_type": "display_data"
    },
    {
     "data": {
      "text/latex": [
       "$$\\frac{\\overline{v_n^2} g_{m}^{2}}{\\left(i C_{gs} R_{g} \\omega + 1\\right)^{2}}$$"
      ],
      "text/plain": [
       "                     2  \n",
       " \\overline{v_n__2}⋅gₘ   \n",
       "────────────────────────\n",
       "                       2\n",
       "(ⅈ⋅C_gs⋅R_g⋅\\omega + 1) "
      ]
     },
     "metadata": {},
     "output_type": "display_data"
    },
    {
     "data": {
      "text/latex": [
       "$$\\left\\{\\frac{T k}{3 C_{gs} g_{m}} \\left(8 C_{gs} + 3 g_{m}\\right) \\left(i C_{gs} R_{g} \\omega + 1\\right)^{2}\\right\\}$$"
      ],
      "text/plain": [
       "⎧                                           2⎫\n",
       "⎪T⋅k⋅(8⋅C_gs + 3⋅gₘ)⋅(ⅈ⋅C_gs⋅R_g⋅\\omega + 1) ⎪\n",
       "⎨────────────────────────────────────────────⎬\n",
       "⎪                 3⋅C_gs⋅gₘ                  ⎪\n",
       "⎩                                            ⎭"
      ]
     },
     "metadata": {},
     "output_type": "display_data"
    },
    {
     "data": {
      "text/plain": [
       "'\\\\left\\\\{\\\\frac{T k}{3 C_{gs} g_{m}} \\\\left(8 C_{gs} + 3 g_{m}\\\\right) \\\\left(i C_{gs} R_{g} \\\\omega + 1\\\\right)^{2}\\\\right\\\\}'"
      ]
     },
     "execution_count": 17,
     "metadata": {},
     "output_type": "execute_result"
    }
   ],
   "source": [
    "# problem 1a\n",
    "C_gs, k, T, gm, Rg, w, vn = sympy.symbols('C_gs k T g_m R_g \\omega \\overline{v_n^2}', real=True)\n",
    "\n",
    "# equiv input voltage noise\n",
    "expr1 = (k*T / C_gs) * (gm**2) + 8*k*T*gm * sympy.Rational(1, 3.0)\n",
    "display(expr1)\n",
    "expr2 = vn * (1 / (1 + Rg*C_gs*I*w))**2 * gm**2\n",
    "display(expr2)\n",
    "vn_sol = sympy.solveset(sympy.Eq(expr1, expr2), vn)\n",
    "display(vn_sol)\n",
    "sympy.latex(vn_sol)"
   ]
  },
  {
   "cell_type": "code",
   "execution_count": null,
   "metadata": {
    "collapsed": true
   },
   "outputs": [],
   "source": []
  }
 ],
 "metadata": {
  "kernelspec": {
   "display_name": "Python 3",
   "language": "python",
   "name": "python3"
  },
  "language_info": {
   "codemirror_mode": {
    "name": "ipython",
    "version": 3
   },
   "file_extension": ".py",
   "mimetype": "text/x-python",
   "name": "python",
   "nbconvert_exporter": "python",
   "pygments_lexer": "ipython3",
   "version": "3.6.2"
  }
 },
 "nbformat": 4,
 "nbformat_minor": 2
}
