{
 "cells": [
  {
   "cell_type": "code",
   "execution_count": 112,
   "metadata": {
    "collapsed": true
   },
   "outputs": [],
   "source": [
    "%matplotlib inline\n",
    "import numpy as np\n",
    "import matplotlib.pyplot as plt\n",
    "import sympy as s\n",
    "s.init_printing(use_latex='mathjax') # print sympy equations in MathJAX (for Jupyter)\n",
    "\n",
    "def ll(a, b):\n",
    "    return (a*b) / (a + b)"
   ]
  },
  {
   "cell_type": "code",
   "execution_count": 113,
   "metadata": {},
   "outputs": [
    {
     "data": {
      "text/latex": [
       "$$0.005014464$$"
      ],
      "text/plain": [
       "0.005014464"
      ]
     },
     "metadata": {},
     "output_type": "display_data"
    },
    {
     "data": {
      "text/latex": [
       "$$0.0358176$$"
      ],
      "text/plain": [
       "0.0358176"
      ]
     },
     "metadata": {},
     "output_type": "display_data"
    }
   ],
   "source": [
    "# Problem 1a - Calculations\n",
    "Kp = 260e-6\n",
    "Vth = 0.4\n",
    "Vgs = 0.68\n",
    "WL_tail = 123/0.25\n",
    "WL_pair = 75/0.25\n",
    "Id_tail = 0.5 * Kp * WL_tail * (Vgs - Vth)**2\n",
    "display(Id_tail)\n",
    "gm = (2 * Id_tail) / (Vgs - Vth)\n",
    "display(gm)"
   ]
  },
  {
   "cell_type": "code",
   "execution_count": 131,
   "metadata": {},
   "outputs": [
    {
     "data": {
      "text/latex": [
       "$$-118.62942124126474$$"
      ],
      "text/plain": [
       "-118.62942124126474"
      ]
     },
     "metadata": {},
     "output_type": "display_data"
    },
    {
     "data": {
      "text/latex": [
       "$$1.23e-16$$"
      ],
      "text/plain": [
       "1.23e-16"
      ]
     },
     "metadata": {},
     "output_type": "display_data"
    },
    {
     "data": {
      "text/latex": [
       "$$-2.002069993482978$$"
      ],
      "text/plain": [
       "-2.002069993482978"
      ]
     },
     "metadata": {},
     "output_type": "display_data"
    },
    {
     "data": {
      "text/latex": [
       "$$-0.07170934219857591$$"
      ],
      "text/plain": [
       "-0.07170934219857591"
      ]
     },
     "metadata": {},
     "output_type": "display_data"
    },
    {
     "data": {
      "text/latex": [
       "$$2100000000.0$$"
      ],
      "text/plain": [
       "2100000000.0"
      ]
     },
     "metadata": {},
     "output_type": "display_data"
    },
    {
     "data": {
      "text/latex": [
       "$$1.595508686733714e-13$$"
      ],
      "text/plain": [
       "1.595508686733714e-13"
      ]
     },
     "metadata": {},
     "output_type": "display_data"
    }
   ],
   "source": [
    "Rs = ll(50 + (-1 / (2 * np.pi * 2.1e9 * 689e-15)), 2 * np.pi * 2.1e9 * 9.2e-9)\n",
    "display(Rs)\n",
    "Cgso = 1e-12 # F/m\n",
    "Cgs = Cgso * 123e-6\n",
    "display(Cgs)\n",
    "Q = 1 / (2 * np.pi * 2.1e9 * Cgs_desired * 2 * Rs)\n",
    "display(Q)\n",
    "Gm = Q * gm\n",
    "display(Gm)\n",
    "f0 = 1 / (2 * np.pi * np.sqrt(36e-9 * Cgs_desired))\n",
    "display(f0)\n",
    "Cgs_desired = 1 / (4 * np.pi**2 * (2.1e9)**2 * 36e-9)\n",
    "display(Cgs_desired)"
   ]
  },
  {
   "cell_type": "code",
   "execution_count": 136,
   "metadata": {},
   "outputs": [
    {
     "data": {
      "text/latex": [
       "$$0.039$$"
      ],
      "text/plain": [
       "0.039"
      ]
     },
     "metadata": {},
     "output_type": "display_data"
    },
    {
     "data": {
      "text/latex": [
       "$$-0.00707051079715$$"
      ],
      "text/plain": [
       "-0.00707051079715"
      ]
     },
     "metadata": {},
     "output_type": "display_data"
    },
    {
     "data": {
      "text/latex": [
       "$$-1.41410215943$$"
      ],
      "text/plain": [
       "-1.41410215943"
      ]
     },
     "metadata": {},
     "output_type": "display_data"
    }
   ],
   "source": [
    "K = 0.5 * WL_pair * Kp\n",
    "display(K)\n",
    "i_IF = np.sqrt(2 * K * Id_tail) * (Gm / (2 * Id_tail)) * (0.2/2/2)\n",
    "display(i_IF)\n",
    "v_IF = i_IF * 200\n",
    "display(v_IF)"
   ]
  },
  {
   "cell_type": "code",
   "execution_count": 143,
   "metadata": {},
   "outputs": [
    {
     "data": {
      "text/latex": [
       "$$-7.170934219857592$$"
      ],
      "text/plain": [
       "-7.170934219857592"
      ]
     },
     "metadata": {},
     "output_type": "display_data"
    },
    {
     "data": {
      "text/latex": [
       "$$0.395539222834$$"
      ],
      "text/plain": [
       "0.395539222834"
      ]
     },
     "metadata": {},
     "output_type": "display_data"
    }
   ],
   "source": [
    "# Part b)\n",
    "v_out_RF = Gm * 0.5 * 200\n",
    "display(v_out_RF)\n",
    "v_out_LO = np.sqrt(2 * K * Id_tail) * (0.2/2) * 200\n",
    "display(v_out_LO)"
   ]
  },
  {
   "cell_type": "code",
   "execution_count": 145,
   "metadata": {},
   "outputs": [
    {
     "name": "stdout",
     "output_type": "stream",
     "text": [
      "Line Solution is y = 3.0099865565584785x + 13.226193393508753\n",
      "Line Solution is y = 1.0003840983291725x + 3.7990458997503507\n"
     ]
    }
   ],
   "source": [
    "from numpy import ones,vstack\n",
    "from numpy.linalg import lstsq\n",
    "def get_line(points):\n",
    "    x_coords, y_coords = zip(*points)\n",
    "    A = vstack([x_coords,ones(len(x_coords))]).T\n",
    "    m, c = lstsq(A, y_coords)[0]\n",
    "    print(\"Line Solution is y = {m}x + {c}\".format(m=m,c=c))\n",
    "get_line([(-60, -167.373),(-39.172, -104.681)])\n",
    "get_line([(-60, -56.224),(-39.172, -35.388)])"
   ]
  }
 ],
 "metadata": {
  "kernelspec": {
   "display_name": "Python 3",
   "language": "python",
   "name": "python3"
  },
  "language_info": {
   "codemirror_mode": {
    "name": "ipython",
    "version": 3
   },
   "file_extension": ".py",
   "mimetype": "text/x-python",
   "name": "python",
   "nbconvert_exporter": "python",
   "pygments_lexer": "ipython3",
   "version": "3.6.2"
  }
 },
 "nbformat": 4,
 "nbformat_minor": 2
}
