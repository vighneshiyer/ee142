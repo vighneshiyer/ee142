{
 "cells": [
  {
   "cell_type": "code",
   "execution_count": 2,
   "metadata": {},
   "outputs": [
    {
     "name": "stdout",
     "output_type": "stream",
     "text": [
      "Once deleted, variables cannot be recovered. Proceed (y/[n])? y\n"
     ]
    }
   ],
   "source": [
    "%matplotlib inline\n",
    "%reset\n",
    "from IPython.display import display\n",
    "import numpy as np\n",
    "import matplotlib.pyplot as plt\n",
    "import scipy\n",
    "import skrf as rf # scikit-rf (install using conda -c scikit-rf scikit-rf (or pip))\n",
    "import sympy # sympy (install using conda -c sympy sympy (or pip))\n",
    "from sympy import I # imaginary symbol\n",
    "rf.stylely() # enable scikit-rf plot styles\n",
    "sympy.init_printing(use_latex='mathjax') # print sympy equations in MathJAX (for Jupyter)\n",
    "\n",
    "# Symbolic math helper functions\n",
    "def ll(a, b): # return a and b in parallel\n",
    "    return (a * b) / (a + b)"
   ]
  },
  {
   "cell_type": "code",
   "execution_count": 27,
   "metadata": {},
   "outputs": [
    {
     "data": {
      "text/latex": [
       "$$\\frac{x \\left(a + i b\\right)}{a + i b + x}$$"
      ],
      "text/plain": [
       "x⋅(a + ⅈ⋅b)\n",
       "───────────\n",
       "a + ⅈ⋅b + x"
      ]
     },
     "metadata": {},
     "output_type": "display_data"
    },
    {
     "name": "stdout",
     "output_type": "stream",
     "text": [
      "\\frac{x \\left(a + i b\\right)}{a + i b + x}\n"
     ]
    },
    {
     "data": {
      "text/latex": [
       "$$\\left\\{- \\frac{i a^{2}}{b} + a\\right\\} \\setminus \\left\\{- a - i b\\right\\}$$"
      ],
      "text/plain": [
       "⎧     2    ⎫             \n",
       "⎪  ⅈ⋅a     ⎪             \n",
       "⎨- ──── + a⎬ \\ {-a - ⅈ⋅b}\n",
       "⎪   b      ⎪             \n",
       "⎩          ⎭             "
      ]
     },
     "metadata": {},
     "output_type": "display_data"
    },
    {
     "data": {
      "text/latex": [
       "$$\\left\\{70 - 49 i\\right\\}$$"
      ],
      "text/plain": [
       "{70 - 49⋅ⅈ}"
      ]
     },
     "metadata": {},
     "output_type": "display_data"
    }
   ],
   "source": [
    "def RC_parallel_analysis():\n",
    "    w, C, R = sympy.symbols('w C R', real=True)\n",
    "    Z_in = sympy.simplify(ll(R, 1/(I * w * C)))\n",
    "    display(Z_in)\n",
    "    display(sympy.simplify(sympy.re(Z_in)))\n",
    "    display(sympy.simplify(sympy.im(Z_in)))\n",
    "def RC_series_analysis():\n",
    "    w, C, R = sympy.symbols('w C R', real=True)\n",
    "    Z_in = sympy.simplify(R + (1/(I * w * C)))\n",
    "    display(Z_in)\n",
    "    display(sympy.simplify(sympy.re(Z_in)))\n",
    "    display(sympy.simplify(sympy.im(Z_in)))\n",
    "def parallel_resonator():\n",
    "    a, b, x = sympy.symbols('a b x', real=True)\n",
    "    Z_in = sympy.simplify(ll(x, a + I*b))\n",
    "    display(Z_in)\n",
    "    print(sympy.latex(Z_in))\n",
    "    sol = sympy.solveset(sympy.Eq(Z_in, a), x)\n",
    "    display(sol)\n",
    "    sol = sol.subs([(a, 70), (b, 100)])\n",
    "    display(sol)\n",
    "    return sol\n",
    "ll_res_equ = parallel_resonator()\n"
   ]
  }
 ],
 "metadata": {
  "kernelspec": {
   "display_name": "Python 3",
   "language": "python",
   "name": "python3"
  },
  "language_info": {
   "codemirror_mode": {
    "name": "ipython",
    "version": 3
   },
   "file_extension": ".py",
   "mimetype": "text/x-python",
   "name": "python",
   "nbconvert_exporter": "python",
   "pygments_lexer": "ipython3",
   "version": "3.6.2"
  }
 },
 "nbformat": 4,
 "nbformat_minor": 2
}
