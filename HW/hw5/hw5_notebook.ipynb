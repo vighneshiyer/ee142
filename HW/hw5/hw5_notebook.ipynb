{
 "cells": [
  {
   "cell_type": "code",
   "execution_count": 63,
   "metadata": {},
   "outputs": [
    {
     "name": "stdout",
     "output_type": "stream",
     "text": [
      "Once deleted, variables cannot be recovered. Proceed (y/[n])? y\n"
     ]
    }
   ],
   "source": [
    "%matplotlib inline\n",
    "%reset\n",
    "from IPython.display import display\n",
    "import numpy as np\n",
    "import matplotlib.pyplot as plt\n",
    "import scipy\n",
    "import skrf as rf # scikit-rf (install using conda -c scikit-rf scikit-rf (or pip))\n",
    "import sympy # sympy (install using conda -c sympy sympy (or pip))\n",
    "from sympy import I # imaginary symbol\n",
    "rf.stylely() # enable scikit-rf plot styles\n",
    "sympy.init_printing(use_latex='mathjax') # print sympy equations in MathJAX (for Jupyter)\n",
    "\n",
    "# Symbolic math helper functions\n",
    "def ll(a, b): # return a and b in parallel\n",
    "    return (a * b) / (a + b)"
   ]
  },
  {
   "cell_type": "code",
   "execution_count": 28,
   "metadata": {},
   "outputs": [
    {
     "data": {
      "text/latex": [
       "$$\\frac{x \\left(a + i b\\right)}{a + i b + x}$$"
      ],
      "text/plain": [
       "x⋅(a + ⅈ⋅b)\n",
       "───────────\n",
       "a + ⅈ⋅b + x"
      ]
     },
     "metadata": {},
     "output_type": "display_data"
    },
    {
     "name": "stdout",
     "output_type": "stream",
     "text": [
      "\\frac{x \\left(a + i b\\right)}{a + i b + x}\n"
     ]
    },
    {
     "data": {
      "text/latex": [
       "$$\\left\\{- \\frac{i a^{2}}{b} + a\\right\\} \\setminus \\left\\{- a - i b\\right\\}$$"
      ],
      "text/plain": [
       "⎧     2    ⎫             \n",
       "⎪  ⅈ⋅a     ⎪             \n",
       "⎨- ──── + a⎬ \\ {-a - ⅈ⋅b}\n",
       "⎪   b      ⎪             \n",
       "⎩          ⎭             "
      ]
     },
     "metadata": {},
     "output_type": "display_data"
    },
    {
     "data": {
      "text/latex": [
       "$$\\left\\{70 - 49 i\\right\\}$$"
      ],
      "text/plain": [
       "{70 - 49⋅ⅈ}"
      ]
     },
     "metadata": {},
     "output_type": "display_data"
    }
   ],
   "source": [
    "def RC_parallel_analysis():\n",
    "    w, C, R = sympy.symbols('w C R', real=True)\n",
    "    Z_in = sympy.simplify(ll(R, 1/(I * w * C)))\n",
    "    display(Z_in)\n",
    "    display(sympy.simplify(sympy.re(Z_in)))\n",
    "    display(sympy.simplify(sympy.im(Z_in)))\n",
    "def RC_series_analysis():\n",
    "    w, C, R = sympy.symbols('w C R', real=True)\n",
    "    Z_in = sympy.simplify(R + (1/(I * w * C)))\n",
    "    display(Z_in)\n",
    "    display(sympy.simplify(sympy.re(Z_in)))\n",
    "    display(sympy.simplify(sympy.im(Z_in)))\n",
    "def parallel_resonator():\n",
    "    a, b, x = sympy.symbols('a b x', real=True)\n",
    "    Z_in = sympy.simplify(ll(x, a + I*b))\n",
    "    display(Z_in)\n",
    "    print(sympy.latex(Z_in))\n",
    "    sol = sympy.solveset(sympy.Eq(Z_in, a), x)\n",
    "    display(sol)\n",
    "    sol = sol.subs([(a, 70), (b, 100)])\n",
    "    display(sol)\n",
    "    return sol\n",
    "ll_res_equ = parallel_resonator()"
   ]
  },
  {
   "cell_type": "code",
   "execution_count": 70,
   "metadata": {},
   "outputs": [
    {
     "data": {
      "text/latex": [
       "$$\\left\\{R_{i}\\; |\\; R_{i} \\in \\left\\{\\frac{BW^{2}}{0.395061728395062 BW^{2} + 0.0438957475994513} \\left(0.0987654320987654 R_{L} + 0.0987654320987654 R_{S} - 0.111111111111111 \\sqrt{- 7.11111111111111 BW^{2} R_{L}^{2} + 14.2222222222222 BW^{2} R_{L} R_{S} - 7.11111111111111 BW^{2} R_{S}^{2} + 3.16049382716049 R_{L} R_{S}}\\right), \\frac{BW^{2}}{0.395061728395062 BW^{2} + 0.0438957475994513} \\left(0.0987654320987654 R_{L} + 0.0987654320987654 R_{S} + 0.111111111111111 \\sqrt{- 7.11111111111111 BW^{2} R_{L}^{2} + 14.2222222222222 BW^{2} R_{L} R_{S} - 7.11111111111111 BW^{2} R_{S}^{2} + 3.16049382716049 R_{L} R_{S}}\\right)\\right\\} \\wedge \\sqrt{\\frac{R_{L}}{R_{i}} - 1} + \\sqrt{\\frac{R_{S}}{R_{i}} - 1} - \\frac{0.666666666666667}{BW} = 0 \\right\\}$$"
      ],
      "text/plain": [
       "⎧          ⎧    ⎛                                                             \n",
       "⎪          ⎪  2 ⎜                                                             \n",
       "⎪          ⎪BW ⋅⎝0.0987654320987654⋅R_L + 0.0987654320987654⋅R_S - 0.111111111\n",
       "⎨Rᵢ | Rᵢ ∊ ⎨──────────────────────────────────────────────────────────────────\n",
       "⎪          ⎪                                                                  \n",
       "⎪          ⎪                                                                  \n",
       "⎩          ⎩                                                                  \n",
       "\n",
       "          ____________________________________________________________________\n",
       "         ╱                      2    2                      2                 \n",
       "111111⋅╲╱  - 7.11111111111111⋅BW ⋅R_L  + 14.2222222222222⋅BW ⋅R_L⋅R_S - 7.1111\n",
       "──────────────────────────────────────────────────────────────────────────────\n",
       "                             2                                                \n",
       "         0.395061728395062⋅BW  + 0.0438957475994513                           \n",
       "                                                                              \n",
       "\n",
       "_______________________________________________⎞      ⎛                       \n",
       "             2    2                            ⎟    2 ⎜                       \n",
       "1111111111⋅BW ⋅R_S  + 3.16049382716049⋅R_L⋅R_S ⎠  BW ⋅⎝0.0987654320987654⋅R_L \n",
       "────────────────────────────────────────────────, ────────────────────────────\n",
       "                                                                              \n",
       "                                                                              \n",
       "                                                                              \n",
       "\n",
       "                                                ______________________________\n",
       "                                               ╱                      2    2  \n",
       "+ 0.0987654320987654⋅R_S + 0.111111111111111⋅╲╱  - 7.11111111111111⋅BW ⋅R_L  +\n",
       "──────────────────────────────────────────────────────────────────────────────\n",
       "                                                                   2          \n",
       "                                               0.395061728395062⋅BW  + 0.04389\n",
       "                                                                              \n",
       "\n",
       "______________________________________________________________________________\n",
       "                    2                              2    2                     \n",
       " 14.2222222222222⋅BW ⋅R_L⋅R_S - 7.11111111111111⋅BW ⋅R_S  + 3.16049382716049⋅R\n",
       "──────────────────────────────────────────────────────────────────────────────\n",
       "                                                                              \n",
       "57475994513                                                                   \n",
       "                                                                              \n",
       "\n",
       "_______⎞⎫                                                        ⎫\n",
       "       ⎟⎪       _________       _________                        ⎪\n",
       "_L⋅R_S ⎠⎪      ╱ R_L           ╱ R_S        0.666666666666667    ⎪\n",
       "────────⎬ ∧   ╱  ─── - 1  +   ╱  ─── - 1  - ───────────────── = 0⎬\n",
       "        ⎪   ╲╱    Rᵢ        ╲╱    Rᵢ                BW           ⎪\n",
       "        ⎪                                                        ⎪\n",
       "        ⎭                                                        ⎭"
      ]
     },
     "metadata": {},
     "output_type": "display_data"
    }
   ],
   "source": [
    "# Problem 3a\n",
    "R_L, R_S, R_i, BW = sympy.symbols('R_L R_S R_i BW', real=True)\n",
    "Q_tot_needed = 1.0 / (3 * BW)\n",
    "Q1 = sympy.sqrt((R_L / R_i) - 1)\n",
    "Q2 = sympy.sqrt((R_S / R_i) - 1)\n",
    "Q_tot = (Q1 + Q2) / 2.0\n",
    "R_i_sol = sympy.solveset(sympy.Eq(Q_tot, Q_tot_needed), R_i)\n",
    "display(sympy.simplify(R_i_sol))\n",
    "\n",
    "#def find_Ri_PI_network(BW, R_L, R_S):\n",
    "#    for i in R_i_sol:\n",
    "#        return i.lambdify()\n",
    "#plt.figure()\n",
    "#for bandwidth in np.logspace(0.001, 0.1, 100):\n",
    "#    R_i = find_Ri_PI_network(0.05, 1000, 50)\n",
    "#    print(R_i)\n",
    "#    plt.plot(bandwidth, R_i)"
   ]
  },
  {
   "cell_type": "code",
   "execution_count": 84,
   "metadata": {},
   "outputs": [
    {
     "data": {
      "text/latex": [
       "$$\\left\\{5.26102378565168\\right\\}$$"
      ],
      "text/plain": [
       "{5.26102378565168}"
      ]
     },
     "metadata": {},
     "output_type": "display_data"
    },
    {
     "name": "stdout",
     "output_type": "stream",
     "text": [
      "200.0 10.0 14.1067359797 3.0\n",
      "70.8881205008 70.5336798983 2.24515676206e-12 1.12257838103e-08\n",
      "16.6666666667 15.0 9.54929658551e-12 2.38732414638e-09\n",
      "3.54440602504 0.833333333333 3.52668399492 0.75\n"
     ]
    }
   ],
   "source": [
    "# Problem 3a working\n",
    "R_i = sympy.symbols('R_i', real=True)\n",
    "R_L = 1000\n",
    "R_S = 50\n",
    "BW_desired = 0.04\n",
    "Q_tot_needed = 1.0 / (3 * BW_desired)\n",
    "Q1 = sympy.sqrt((R_L / R_i) - 1)\n",
    "Q2 = sympy.sqrt((R_S / R_i) - 1)\n",
    "Q_tot = (Q1 + Q2) / 2.0\n",
    "R_i_sol = sympy.solveset(sympy.Eq(Q_tot, Q_tot_needed), R_i)\n",
    "display(R_i_sol)\n",
    "\n",
    "R_i = 5.0\n",
    "m1 = R_L/R_i\n",
    "m2 = R_S/R_i\n",
    "Q1 = np.sqrt(m1 - 1)\n",
    "Q2 = np.sqrt(m2 - 1)\n",
    "print(m1, m2, Q1, Q2)\n",
    "\n",
    "# L-network 1 matching\n",
    "net1_Xp = R_L / Q1\n",
    "net1_Xs = net1_Xp / (1 + Q1**-2)\n",
    "net1_C = 1.0 / (1e9 * 2 * np.pi * net1_Xp)\n",
    "net1_L = net1_Xs / (1e9 * 2 * np.pi)\n",
    "print(net1_Xp, net1_Xs, net1_C, net1_L)\n",
    "\n",
    "# L-network 2 matching\n",
    "net2_Xs = Q2 * R_i\n",
    "net2_Xp = net2_Xs * (1 + Q2**-2)\n",
    "net2_C = 1.0 / (1e9 * 2 * np.pi * net2_Xp)\n",
    "net2_L = net2_Xs / (1e9 * 2 * np.pi)\n",
    "print(net2_Xp, net2_Xs, net2_C, net2_L)\n",
    "\n",
    "# finite Q component calculations\n",
    "net1_C_res = (1.0 / (1e9*2*np.pi * net1_C)) / 20.0\n",
    "net2_C_res = (1.0 / (1e9*2*np.pi * net2_C)) / 20.0\n",
    "net1_L_res = (1e9*2*np.pi * net1_L) / 20.0\n",
    "net2_L_res = (1e9*2*np.pi * net2_L) / 20.0\n",
    "print(net1_C_res, net2_C_res, net1_L_res, net2_L_res)"
   ]
  }
 ],
 "metadata": {
  "kernelspec": {
   "display_name": "Python 3",
   "language": "python",
   "name": "python3"
  },
  "language_info": {
   "codemirror_mode": {
    "name": "ipython",
    "version": 3
   },
   "file_extension": ".py",
   "mimetype": "text/x-python",
   "name": "python",
   "nbconvert_exporter": "python",
   "pygments_lexer": "ipython3",
   "version": "3.6.2"
  }
 },
 "nbformat": 4,
 "nbformat_minor": 2
}
