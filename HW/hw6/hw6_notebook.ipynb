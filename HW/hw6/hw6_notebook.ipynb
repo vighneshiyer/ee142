{
 "cells": [
  {
   "cell_type": "code",
   "execution_count": 7,
   "metadata": {
    "collapsed": true
   },
   "outputs": [],
   "source": [
    "import numpy as np\n",
    "import matplotlib.pyplot as plt\n",
    "def mag2db(mag):\n",
    "    return np.multiply(20.0, np.log10(mag))\n",
    "def db2mag(db):\n",
    "    return np.power(10, np.divide(db, 20.0))"
   ]
  },
  {
   "cell_type": "code",
   "execution_count": 31,
   "metadata": {},
   "outputs": [
    {
     "name": "stdout",
     "output_type": "stream",
     "text": [
      "1000.0 -424.41318157838765 -2.3561944901923444\n",
      "152.63324843958122 -359.63361899350053\n",
      "(152.63324843958122-359.63361899350053j)\n",
      "(0.001+0.0023561944901923444j)\n"
     ]
    }
   ],
   "source": [
    "# Problem 1, part f\n",
    "mixer_C = 75.0e-15\n",
    "mixer_R = 1000.0\n",
    "Rp = mixer_R\n",
    "Xp = -1.0 / (2 * np.pi * 5e9 * mixer_C)\n",
    "Qp = Rp / Xp\n",
    "print(Rp, Xp, Qp)\n",
    "Rs = Rp / (1 + Qp**2)\n",
    "Xs = Xp / (1 + (1/Qp**2))\n",
    "print(Rs, Xs)\n",
    "ZL = Rs + 1j*Xs\n",
    "print(ZL)\n",
    "YL = 1.0/ZL\n",
    "print(YL)"
   ]
  },
  {
   "cell_type": "code",
   "execution_count": 71,
   "metadata": {},
   "outputs": [
    {
     "name": "stdout",
     "output_type": "stream",
     "text": [
      "(571.205191257+791.739522743j)\n",
      "(66.3703128933+32.7697815535j)\n",
      "(0.938661386357+0.0781773967356j)\n",
      "(-0.873751609891+0.0575807767707j)\n"
     ]
    }
   ],
   "source": [
    "Y11 = 0.00018877830976530798 + 0.00064002450125551008j\n",
    "Y12 = -0.00004039126650098734 - 0.00013696504276319542j\n",
    "Y21 = 0.04622374427285384085 - 0.01387208821601543414j\n",
    "Y22 = 0.01191839804929870072 + 0.00570147085035360192j\n",
    "YS = 1.0/50\n",
    "Yin_opt = np.conj(Y11 - ((Y12*Y21) / (YL + Y22)))\n",
    "Yout_opt = np.conj(Y22 - ((Y12*Y21) / (YS + Y11)))\n",
    "Zin_opt = (1.0/Yin_opt)\n",
    "Zout_opt = (1.0/Yout_opt)\n",
    "print(Zin_opt)\n",
    "print(Zout_opt)\n",
    "SmGamma1 = (Zin_opt - 50) / (Zin_opt + 50)\n",
    "SmGamma2 = (Zout_opt - (1000.0)) / (Zout_opt + (1000.0))\n",
    "print(SmGamma1)\n",
    "print(SmGamma2)"
   ]
  },
  {
   "cell_type": "code",
   "execution_count": null,
   "metadata": {
    "collapsed": true
   },
   "outputs": [],
   "source": []
  }
 ],
 "metadata": {
  "kernelspec": {
   "display_name": "Python 3",
   "language": "python",
   "name": "python3"
  },
  "language_info": {
   "codemirror_mode": {
    "name": "ipython",
    "version": 3
   },
   "file_extension": ".py",
   "mimetype": "text/x-python",
   "name": "python",
   "nbconvert_exporter": "python",
   "pygments_lexer": "ipython3",
   "version": "3.6.2"
  }
 },
 "nbformat": 4,
 "nbformat_minor": 2
}
