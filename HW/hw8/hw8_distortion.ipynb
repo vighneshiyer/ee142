{
 "cells": [
  {
   "cell_type": "code",
   "execution_count": 2,
   "metadata": {},
   "outputs": [
    {
     "name": "stdout",
     "output_type": "stream",
     "text": [
      "Once deleted, variables cannot be recovered. Proceed (y/[n])? y\n"
     ]
    }
   ],
   "source": [
    "%matplotlib inline\n",
    "%reset\n",
    "from IPython.display import display\n",
    "\n",
    "import numpy as np\n",
    "import matplotlib.pyplot as plt\n",
    "import scipy\n",
    "\n",
    "import SchemDraw as schem # to draw schematics (install using 'pip install SchemDraw')\n",
    "import SchemDraw.elements as e\n",
    "\n",
    "import skrf as rf # scikit-rf (install using 'conda -c scikit-rf scikit-rf')\n",
    "\n",
    "import sympy as s # sympy (install using 'conda -c sympy sympy')\n",
    "from sympy import I # imaginary symbol\n",
    "\n",
    "rf.stylely() # enable scikit-rf plot styles\n",
    "s.init_printing(use_latex='mathjax') # print sympy equations in MathJAX (for Jupyter)"
   ]
  },
  {
   "cell_type": "code",
   "execution_count": 24,
   "metadata": {
    "collapsed": true
   },
   "outputs": [],
   "source": [
    "def mag2db(mag):\n",
    "    return np.multiply(20.0, np.log10(mag))\n",
    "def mag2pdb(mag):\n",
    "    return np.multiply(10.0, np.log10(mag))\n",
    "def db2mag(db):\n",
    "    return np.power(10, np.divide(db, 20.0))\n",
    "def pdb2mag(pdb):\n",
    "    return np.power(10, np.divide(pdb, 10.0))\n",
    "def rad2deg(rad):\n",
    "    return np.multiply(np.divide(rad, (2*np.pi)), 360.0)\n",
    "def deg2rad(deg):\n",
    "    return np.multiply(np.divide(deg, 360.0), 2*np.pi)\n",
    "def dbm2v(dbm, R = 50):\n",
    "    # P = V^2 / R\n",
    "    power = 1e-3 * np.power(10, np.divide(dbm, 10))\n",
    "    return np.sqrt(power * (R*2))    \n",
    "def v2dbm(v, R = 50):\n",
    "    power = np.divide(np.power(v, 2), R*2)\n",
    "    return 10 * np.log10(power/1e-3)"
   ]
  },
  {
   "cell_type": "code",
   "execution_count": 3,
   "metadata": {},
   "outputs": [
    {
     "data": {
      "text/latex": [
       "$$A \\cos{\\left (\\omega_1 t \\right )}$$"
      ],
      "text/plain": [
       "A⋅cos(\\omega₁⋅t)"
      ]
     },
     "metadata": {},
     "output_type": "display_data"
    },
    {
     "data": {
      "text/latex": [
       "$$\\frac{3 a_{3}}{4} A^{3} \\cos{\\left (\\omega_1 t \\right )} + \\frac{A^{3} a_{3}}{4} \\cos{\\left (3 \\omega_1 t \\right )} + \\frac{A^{2} a_{2}}{2} \\cos{\\left (2 \\omega_1 t \\right )} + \\frac{A^{2} a_{2}}{2} + A a_{1} \\cos{\\left (\\omega_1 t \\right )}$$"
      ],
      "text/plain": [
       "   3                      3                        2                        2 \n",
       "3⋅A ⋅a₃⋅cos(\\omega₁⋅t)   A ⋅a₃⋅cos(3⋅\\omega₁⋅t)   A ⋅a₂⋅cos(2⋅\\omega₁⋅t)   A ⋅\n",
       "────────────────────── + ────────────────────── + ────────────────────── + ───\n",
       "          4                        4                        2                2\n",
       "\n",
       "                        \n",
       "a₂                      \n",
       "── + A⋅a₁⋅cos(\\omega₁⋅t)\n",
       "                        "
      ]
     },
     "metadata": {},
     "output_type": "display_data"
    }
   ],
   "source": [
    "# Single tone harmonic distortion\n",
    "A, w1, t = s.symbols('A \\omega_1 t', real=True)\n",
    "a1, a2, a3 = s.symbols('a_1 a_2 a_3')\n",
    "Si = A * s.cos(w1*t)\n",
    "display(Si)\n",
    "So = a1*Si + a2*(Si**2) + a3*(Si**3)\n",
    "display(s.expand(s.fu(So, measure=lambda x: -x.count_ops())))"
   ]
  },
  {
   "cell_type": "code",
   "execution_count": 5,
   "metadata": {},
   "outputs": [
    {
     "data": {
      "text/latex": [
       "$$A \\cos{\\left (\\omega_1 t \\right )} + B \\cos{\\left (\\omega_2 t \\right )}$$"
      ],
      "text/plain": [
       "A⋅cos(\\omega₁⋅t) + B⋅cos(\\omega₂⋅t)"
      ]
     },
     "metadata": {},
     "output_type": "display_data"
    },
    {
     "data": {
      "text/latex": [
       "$$\\frac{3 a_{3}}{4} A^{3} \\cos{\\left (\\omega_1 t \\right )} + \\frac{A^{3} a_{3}}{4} \\cos{\\left (3 \\omega_1 t \\right )} + \\frac{3 a_{3}}{2} A^{2} B \\cos{\\left (\\omega_2 t \\right )} + \\frac{3 a_{3}}{4} A^{2} B \\cos{\\left (2 \\omega_1 t - \\omega_2 t \\right )} + \\frac{3 a_{3}}{4} A^{2} B \\cos{\\left (2 \\omega_1 t + \\omega_2 t \\right )} + \\frac{A^{2} a_{2}}{2} \\cos{\\left (2 \\omega_1 t \\right )} + \\frac{A^{2} a_{2}}{2} + \\frac{3 a_{3}}{2} A B^{2} \\cos{\\left (\\omega_1 t \\right )} + \\frac{3 a_{3}}{4} A B^{2} \\cos{\\left (\\omega_1 t - 2 \\omega_2 t \\right )} + \\frac{3 a_{3}}{4} A B^{2} \\cos{\\left (\\omega_1 t + 2 \\omega_2 t \\right )} + A B a_{2} \\cos{\\left (\\omega_1 t - \\omega_2 t \\right )} + A B a_{2} \\cos{\\left (\\omega_1 t + \\omega_2 t \\right )} + A a_{1} \\cos{\\left (\\omega_1 t \\right )} + \\frac{3 a_{3}}{4} B^{3} \\cos{\\left (\\omega_2 t \\right )} + \\frac{B^{3} a_{3}}{4} \\cos{\\left (3 \\omega_2 t \\right )} + \\frac{B^{2} a_{2}}{2} \\cos{\\left (2 \\omega_2 t \\right )} + \\frac{B^{2} a_{2}}{2} + B a_{1} \\cos{\\left (\\omega_2 t \\right )}$$"
      ],
      "text/plain": [
       "   3                      3                          2                        \n",
       "3⋅A ⋅a₃⋅cos(\\omega₁⋅t)   A ⋅a₃⋅cos(3⋅\\omega₁⋅t)   3⋅A ⋅B⋅a₃⋅cos(\\omega₂⋅t)   3\n",
       "────────────────────── + ────────────────────── + ──────────────────────── + ─\n",
       "          4                        4                         2                \n",
       "\n",
       "  2                                        2                                  \n",
       "⋅A ⋅B⋅a₃⋅cos(2⋅\\omega₁⋅t - \\omega₂⋅t)   3⋅A ⋅B⋅a₃⋅cos(2⋅\\omega₁⋅t + \\omega₂⋅t)\n",
       "───────────────────────────────────── + ──────────────────────────────────────\n",
       "                 4                                        4                   \n",
       "\n",
       "    2                        2           2                          2         \n",
       "   A ⋅a₂⋅cos(2⋅\\omega₁⋅t)   A ⋅a₂   3⋅A⋅B ⋅a₃⋅cos(\\omega₁⋅t)   3⋅A⋅B ⋅a₃⋅cos(\\\n",
       " + ────────────────────── + ───── + ──────────────────────── + ───────────────\n",
       "             2                2                2                              \n",
       "\n",
       "                               2                                              \n",
       "omega₁⋅t - 2⋅\\omega₂⋅t)   3⋅A⋅B ⋅a₃⋅cos(\\omega₁⋅t + 2⋅\\omega₂⋅t)              \n",
       "─────────────────────── + ────────────────────────────────────── + A⋅B⋅a₂⋅cos(\n",
       "   4                                        4                                 \n",
       "\n",
       "                                                                              \n",
       "                                                                              \n",
       "\\omega₁⋅t - \\omega₂⋅t) + A⋅B⋅a₂⋅cos(\\omega₁⋅t + \\omega₂⋅t) + A⋅a₁⋅cos(\\omega₁⋅\n",
       "                                                                              \n",
       "\n",
       "        3                      3                        2                     \n",
       "     3⋅B ⋅a₃⋅cos(\\omega₂⋅t)   B ⋅a₃⋅cos(3⋅\\omega₂⋅t)   B ⋅a₂⋅cos(2⋅\\omega₂⋅t) \n",
       "t) + ────────────────────── + ────────────────────── + ────────────────────── \n",
       "               4                        4                        2            \n",
       "\n",
       "   2                         \n",
       "  B ⋅a₂                      \n",
       "+ ───── + B⋅a₁⋅cos(\\omega₂⋅t)\n",
       "    2                        "
      ]
     },
     "metadata": {},
     "output_type": "display_data"
    }
   ],
   "source": [
    "# Two tone harmonic distortion\n",
    "A, B, w1, w2, t = s.symbols('A B \\omega_1 \\omega_2 t', real=True)\n",
    "a1, a2, a3 = s.symbols('a_1 a_2 a_3')\n",
    "Si = A * s.cos(w1*t) + B * s.cos(w2*t)\n",
    "display(Si)\n",
    "So = a1*Si + a2*(Si**2) + a3*(Si**3)\n",
    "So = s.expand(s.fu(So, measure=lambda x: -x.count_ops()))\n",
    "display(So)"
   ]
  },
  {
   "cell_type": "code",
   "execution_count": 10,
   "metadata": {},
   "outputs": [
    {
     "data": {
      "text/latex": [
       "$$\\frac{3 a_{3}}{4} A^{3} \\cos{\\left (1810 t \\right )} + \\frac{A^{3} a_{3}}{4} \\cos{\\left (5430 t \\right )} + \\frac{3 a_{3}}{2} A^{2} B \\cos{\\left (1805 t \\right )} + \\frac{3 a_{3}}{4} A^{2} B \\cos{\\left (1815 t \\right )} + \\frac{3 a_{3}}{4} A^{2} B \\cos{\\left (5425 t \\right )} + \\frac{A^{2} a_{2}}{2} \\cos{\\left (3620 t \\right )} + \\frac{A^{2} a_{2}}{2} + \\frac{3 a_{3}}{4} A B^{2} \\cos{\\left (1800 t \\right )} + \\frac{3 a_{3}}{2} A B^{2} \\cos{\\left (1810 t \\right )} + \\frac{3 a_{3}}{4} A B^{2} \\cos{\\left (5420 t \\right )} + A B a_{2} \\cos{\\left (5 t \\right )} + A B a_{2} \\cos{\\left (3615 t \\right )} + A a_{1} \\cos{\\left (1810 t \\right )} + \\frac{3 a_{3}}{4} B^{3} \\cos{\\left (1805 t \\right )} + \\frac{B^{3} a_{3}}{4} \\cos{\\left (5415 t \\right )} + \\frac{B^{2} a_{2}}{2} \\cos{\\left (3610 t \\right )} + \\frac{B^{2} a_{2}}{2} + B a_{1} \\cos{\\left (1805 t \\right )}$$"
      ],
      "text/plain": [
       "   3                   3                     2                       2        \n",
       "3⋅A ⋅a₃⋅cos(1810⋅t)   A ⋅a₃⋅cos(5430⋅t)   3⋅A ⋅B⋅a₃⋅cos(1805⋅t)   3⋅A ⋅B⋅a₃⋅co\n",
       "─────────────────── + ───────────────── + ───────────────────── + ────────────\n",
       "         4                    4                     2                       4 \n",
       "\n",
       "               2                     2                   2           2        \n",
       "s(1815⋅t)   3⋅A ⋅B⋅a₃⋅cos(5425⋅t)   A ⋅a₂⋅cos(3620⋅t)   A ⋅a₂   3⋅A⋅B ⋅a₃⋅cos(\n",
       "───────── + ───────────────────── + ───────────────── + ───── + ──────────────\n",
       "                      4                     2             2               4   \n",
       "\n",
       "               2                       2                                      \n",
       "1800⋅t)   3⋅A⋅B ⋅a₃⋅cos(1810⋅t)   3⋅A⋅B ⋅a₃⋅cos(5420⋅t)                       \n",
       "─────── + ───────────────────── + ───────────────────── + A⋅B⋅a₂⋅cos(5⋅t) + A⋅\n",
       "                    2                       4                                 \n",
       "\n",
       "                                         3                   3                \n",
       "                                      3⋅B ⋅a₃⋅cos(1805⋅t)   B ⋅a₃⋅cos(5415⋅t) \n",
       "B⋅a₂⋅cos(3615⋅t) + A⋅a₁⋅cos(1810⋅t) + ─────────────────── + ───────────────── \n",
       "                                               4                    4         \n",
       "\n",
       "   2                   2                      \n",
       "  B ⋅a₂⋅cos(3610⋅t)   B ⋅a₂                   \n",
       "+ ───────────────── + ───── + B⋅a₁⋅cos(1805⋅t)\n",
       "          2             2                     "
      ]
     },
     "metadata": {},
     "output_type": "display_data"
    }
   ],
   "source": [
    "So_1805_1810_mix = So.subs([(w1, 1810), (w2, 1805)])\n",
    "display(So_1805_1810_mix)"
   ]
  },
  {
   "cell_type": "code",
   "execution_count": 39,
   "metadata": {},
   "outputs": [
    {
     "name": "stdout",
     "output_type": "stream",
     "text": [
      "0.316227766017 1.0 10.0 0.0759746926648 -12.3866209613\n",
      "0.4472135955 0.4472135955 10.0 0.0406557814091 -20.8278537032\n",
      "Everything checks out!\n"
     ]
    }
   ],
   "source": [
    "# Work out IIP cascade stuff from discussion to verify\n",
    "# Discussion slide 4 (IIP 2 cascade)\n",
    "VIIP_2A = dbm2v(0, R=50)\n",
    "VIIP_2B = dbm2v(10, R=50)\n",
    "Av = db2mag(20)\n",
    "VIIP_2 = (1/VIIP_2A + Av/VIIP_2B)**-1\n",
    "IIP_2 = v2dbm(VIIP_2,R=50)\n",
    "print(VIIP_2A, VIIP_2B, Av, VIIP_2, IIP_2)\n",
    "\n",
    "VIIP_2A = dbm2v(0, R=100)\n",
    "VIIP_2B = dbm2v(10, R=10)\n",
    "Av = db2mag(20)\n",
    "VIIP_2 = (1/VIIP_2A + Av/VIIP_2B)**-1\n",
    "IIP_2 = v2dbm(VIIP_2,R=100)\n",
    "print(VIIP_2A, VIIP_2B, Av, VIIP_2, IIP_2)\n",
    "print('Everything checks out!')"
   ]
  },
  {
   "cell_type": "code",
   "execution_count": 49,
   "metadata": {},
   "outputs": [
    {
     "name": "stdout",
     "output_type": "stream",
     "text": [
      "0.1 0.0316227766017 10.0 0.00316069770621 -40.0043407748\n",
      "0.141421356237 0.0141421356237 31.6227766017 0.000447211359449 -60.0000434292\n",
      "Everything checks out!\n"
     ]
    }
   ],
   "source": [
    "# Discussion slide 5 (IIP3 cascade)\n",
    "VIIP_3A = dbm2v(-10, R=50)\n",
    "VIIP_3B = dbm2v(-20, R=50)\n",
    "Av = np.sqrt((50/50) * pdb2mag(20))\n",
    "VIIP_3 = np.sqrt((1/(VIIP_3A**2) + (Av**2)/(VIIP_3B**2))**-1)\n",
    "IIP_3 = v2dbm(VIIP_3, R=50)\n",
    "print(VIIP_3A, VIIP_3B, Av, VIIP_3, IIP_3)\n",
    "\n",
    "VIIP_3A = dbm2v(-10, R=100)\n",
    "VIIP_3B = dbm2v(-20, R=10)\n",
    "Av = np.sqrt((100/10) * pdb2mag(20))\n",
    "VIIP_3 = np.sqrt((1/(VIIP_3A**2) + (Av**2)/(VIIP_3B**2))**-1)\n",
    "IIP_3 = v2dbm(VIIP_3, R=100)\n",
    "print(VIIP_3A, VIIP_3B, Av, VIIP_3, IIP_3)\n",
    "print('Everything checks out!')"
   ]
  },
  {
   "cell_type": "code",
   "execution_count": 60,
   "metadata": {},
   "outputs": [
    {
     "name": "stdout",
     "output_type": "stream",
     "text": [
      "100.0 1.0 0.891250938134 1.12194783409 10.9994532901\n",
      "0.944046545971\n",
      "1.00012589254e-06\n"
     ]
    },
    {
     "data": {
      "text/latex": [
       "$$1.1220184543e-06$$"
      ],
      "text/plain": [
       "1.1220184543e-06"
      ]
     },
     "execution_count": 60,
     "metadata": {},
     "output_type": "execute_result"
    }
   ],
   "source": [
    "# Problem 1a\n",
    "VIIP_3A = dbm2v(50, R=50)\n",
    "VIIP_3B = dbm2v(10, R=50)\n",
    "Av = np.sqrt(pdb2mag(-1))\n",
    "VIIP_3 = np.sqrt((1/(VIIP_3A**2) + (Av**2)/(VIIP_3B**2))**-1)\n",
    "IIP_3 = v2dbm(VIIP_3, R=50)\n",
    "print(VIIP_3A, VIIP_3B, Av, VIIP_3, IIP_3)\n",
    "\n",
    "a3 = Av / (VIIP_3**2 * (3/4))\n",
    "print(a3)\n",
    "print((a3 *3 / 4) * dbm2v(-33, R=50) * (dbm2v(-27, R=50)**2))\n",
    "dbm2v(-109, R=50)"
   ]
  }
 ],
 "metadata": {
  "kernelspec": {
   "display_name": "Python 3",
   "language": "python",
   "name": "python3"
  },
  "language_info": {
   "codemirror_mode": {
    "name": "ipython",
    "version": 3
   },
   "file_extension": ".py",
   "mimetype": "text/x-python",
   "name": "python",
   "nbconvert_exporter": "python",
   "pygments_lexer": "ipython3",
   "version": "3.6.2"
  }
 },
 "nbformat": 4,
 "nbformat_minor": 2
}
