{
 "cells": [
  {
   "cell_type": "code",
   "execution_count": 108,
   "metadata": {},
   "outputs": [
    {
     "name": "stdout",
     "output_type": "stream",
     "text": [
      "Once deleted, variables cannot be recovered. Proceed (y/[n])? y\n"
     ]
    }
   ],
   "source": [
    "%matplotlib inline\n",
    "%reset\n",
    "from IPython.display import display\n",
    "\n",
    "import numpy as np\n",
    "import matplotlib.pyplot as plt\n",
    "import scipy\n",
    "\n",
    "import SchemDraw as schem # to draw schematics (install using 'pip install SchemDraw')\n",
    "import SchemDraw.elements as e\n",
    "\n",
    "import skrf as rf # scikit-rf (install using 'conda -c scikit-rf scikit-rf')\n",
    "\n",
    "import sympy as s # sympy (install using 'conda -c sympy sympy')\n",
    "from sympy import I # imaginary symbol\n",
    "from sympy.simplify.fu import fu, TR7\n",
    "\n",
    "rf.stylely() # enable scikit-rf plot styles\n",
    "s.init_printing(use_latex='mathjax') # print sympy equations in MathJAX (for Jupyter)"
   ]
  },
  {
   "cell_type": "code",
   "execution_count": 109,
   "metadata": {
    "collapsed": true
   },
   "outputs": [],
   "source": [
    "def mag2db(mag):\n",
    "    return np.multiply(20.0, np.log10(mag))\n",
    "def mag2pdb(mag):\n",
    "    return np.multiply(10.0, np.log10(mag))\n",
    "def db2mag(db):\n",
    "    return np.power(10, np.divide(db, 20.0))\n",
    "def pdb2mag(pdb):\n",
    "    return np.power(10, np.divide(pdb, 10.0))\n",
    "def rad2deg(rad):\n",
    "    return np.multiply(np.divide(rad, (2*np.pi)), 360.0)\n",
    "def deg2rad(deg):\n",
    "    return np.multiply(np.divide(deg, 360.0), 2*np.pi)\n",
    "def dbm2v(dbm, R = 50):\n",
    "    # P = V^2 / R\n",
    "    power = 1e-3 * np.power(10, np.divide(dbm, 10))\n",
    "    return np.sqrt(power * (R*2))    \n",
    "def v2dbm(v, R = 50):\n",
    "    power = np.divide(np.power(v, 2), R*2)\n",
    "    return 10 * np.log10(power/1e-3)"
   ]
  },
  {
   "cell_type": "code",
   "execution_count": 110,
   "metadata": {},
   "outputs": [
    {
     "data": {
      "text/latex": [
       "$$A \\cos{\\left (\\omega_1 t \\right )}$$"
      ],
      "text/plain": [
       "A⋅cos(\\omega₁⋅t)"
      ]
     },
     "metadata": {},
     "output_type": "display_data"
    },
    {
     "data": {
      "text/latex": [
       "$$\\frac{3 a_{3}}{4} A^{3} \\cos{\\left (\\omega_1 t \\right )} + \\frac{A^{3} a_{3}}{4} \\cos{\\left (3 \\omega_1 t \\right )} + \\frac{A^{2} a_{2}}{2} \\cos{\\left (2 \\omega_1 t \\right )} + \\frac{A^{2} a_{2}}{2} + A a_{1} \\cos{\\left (\\omega_1 t \\right )}$$"
      ],
      "text/plain": [
       "   3                      3                        2                        2 \n",
       "3⋅A ⋅a₃⋅cos(\\omega₁⋅t)   A ⋅a₃⋅cos(3⋅\\omega₁⋅t)   A ⋅a₂⋅cos(2⋅\\omega₁⋅t)   A ⋅\n",
       "────────────────────── + ────────────────────── + ────────────────────── + ───\n",
       "          4                        4                        2                2\n",
       "\n",
       "                        \n",
       "a₂                      \n",
       "── + A⋅a₁⋅cos(\\omega₁⋅t)\n",
       "                        "
      ]
     },
     "metadata": {},
     "output_type": "display_data"
    },
    {
     "name": "stdout",
     "output_type": "stream",
     "text": [
      "A^{3} a_{3} \\cos^{3}{\\left (\\omega_1 t \\right )} + A^{2} a_{2} \\cos^{2}{\\left (\\omega_1 t \\right )} + A a_{1} \\cos{\\left (\\omega_1 t \\right )}\n"
     ]
    }
   ],
   "source": [
    "# Single tone harmonic distortion\n",
    "A, w1, t = s.symbols('A \\omega_1 t', real=True)\n",
    "a1, a2, a3 = s.symbols('a_1 a_2 a_3')\n",
    "Si = A * s.cos(w1*t)\n",
    "display(Si)\n",
    "So = a1*Si + a2*(Si**2) + a3*(Si**3)\n",
    "display(s.expand(s.fu(So, measure=lambda x: -x.count_ops())))\n",
    "print(s.latex(So))"
   ]
  },
  {
   "cell_type": "code",
   "execution_count": 111,
   "metadata": {},
   "outputs": [
    {
     "data": {
      "text/latex": [
       "$$A \\cos{\\left (\\omega_1 t \\right )} + B \\cos{\\left (\\omega_2 t \\right )}$$"
      ],
      "text/plain": [
       "A⋅cos(\\omega₁⋅t) + B⋅cos(\\omega₂⋅t)"
      ]
     },
     "metadata": {},
     "output_type": "display_data"
    },
    {
     "data": {
      "text/latex": [
       "$$\\frac{3 a_{3}}{4} A^{3} \\cos{\\left (\\omega_1 t \\right )} + \\frac{A^{3} a_{3}}{4} \\cos{\\left (3 \\omega_1 t \\right )} + \\frac{3 a_{3}}{2} A^{2} B \\cos{\\left (\\omega_2 t \\right )} + \\frac{3 a_{3}}{4} A^{2} B \\cos{\\left (2 \\omega_1 t - \\omega_2 t \\right )} + \\frac{3 a_{3}}{4} A^{2} B \\cos{\\left (2 \\omega_1 t + \\omega_2 t \\right )} + \\frac{A^{2} a_{2}}{2} \\cos{\\left (2 \\omega_1 t \\right )} + \\frac{A^{2} a_{2}}{2} + \\frac{3 a_{3}}{2} A B^{2} \\cos{\\left (\\omega_1 t \\right )} + \\frac{3 a_{3}}{4} A B^{2} \\cos{\\left (\\omega_1 t - 2 \\omega_2 t \\right )} + \\frac{3 a_{3}}{4} A B^{2} \\cos{\\left (\\omega_1 t + 2 \\omega_2 t \\right )} + A B a_{2} \\cos{\\left (\\omega_1 t - \\omega_2 t \\right )} + A B a_{2} \\cos{\\left (\\omega_1 t + \\omega_2 t \\right )} + A a_{1} \\cos{\\left (\\omega_1 t \\right )} + \\frac{3 a_{3}}{4} B^{3} \\cos{\\left (\\omega_2 t \\right )} + \\frac{B^{3} a_{3}}{4} \\cos{\\left (3 \\omega_2 t \\right )} + \\frac{B^{2} a_{2}}{2} \\cos{\\left (2 \\omega_2 t \\right )} + \\frac{B^{2} a_{2}}{2} + B a_{1} \\cos{\\left (\\omega_2 t \\right )}$$"
      ],
      "text/plain": [
       "   3                      3                          2                        \n",
       "3⋅A ⋅a₃⋅cos(\\omega₁⋅t)   A ⋅a₃⋅cos(3⋅\\omega₁⋅t)   3⋅A ⋅B⋅a₃⋅cos(\\omega₂⋅t)   3\n",
       "────────────────────── + ────────────────────── + ──────────────────────── + ─\n",
       "          4                        4                         2                \n",
       "\n",
       "  2                                        2                                  \n",
       "⋅A ⋅B⋅a₃⋅cos(2⋅\\omega₁⋅t - \\omega₂⋅t)   3⋅A ⋅B⋅a₃⋅cos(2⋅\\omega₁⋅t + \\omega₂⋅t)\n",
       "───────────────────────────────────── + ──────────────────────────────────────\n",
       "                 4                                        4                   \n",
       "\n",
       "    2                        2           2                          2         \n",
       "   A ⋅a₂⋅cos(2⋅\\omega₁⋅t)   A ⋅a₂   3⋅A⋅B ⋅a₃⋅cos(\\omega₁⋅t)   3⋅A⋅B ⋅a₃⋅cos(\\\n",
       " + ────────────────────── + ───── + ──────────────────────── + ───────────────\n",
       "             2                2                2                              \n",
       "\n",
       "                               2                                              \n",
       "omega₁⋅t - 2⋅\\omega₂⋅t)   3⋅A⋅B ⋅a₃⋅cos(\\omega₁⋅t + 2⋅\\omega₂⋅t)              \n",
       "─────────────────────── + ────────────────────────────────────── + A⋅B⋅a₂⋅cos(\n",
       "   4                                        4                                 \n",
       "\n",
       "                                                                              \n",
       "                                                                              \n",
       "\\omega₁⋅t - \\omega₂⋅t) + A⋅B⋅a₂⋅cos(\\omega₁⋅t + \\omega₂⋅t) + A⋅a₁⋅cos(\\omega₁⋅\n",
       "                                                                              \n",
       "\n",
       "        3                      3                        2                     \n",
       "     3⋅B ⋅a₃⋅cos(\\omega₂⋅t)   B ⋅a₃⋅cos(3⋅\\omega₂⋅t)   B ⋅a₂⋅cos(2⋅\\omega₂⋅t) \n",
       "t) + ────────────────────── + ────────────────────── + ────────────────────── \n",
       "               4                        4                        2            \n",
       "\n",
       "   2                         \n",
       "  B ⋅a₂                      \n",
       "+ ───── + B⋅a₁⋅cos(\\omega₂⋅t)\n",
       "    2                        "
      ]
     },
     "metadata": {},
     "output_type": "display_data"
    }
   ],
   "source": [
    "# Two tone harmonic distortion\n",
    "A, B, w1, w2, t = s.symbols('A B \\omega_1 \\omega_2 t', real=True)\n",
    "a1, a2, a3 = s.symbols('a_1 a_2 a_3')\n",
    "Si = A * s.cos(w1*t) + B * s.cos(w2*t)\n",
    "display(Si)\n",
    "So = a1*Si + a2*(Si**2) + a3*(Si**3)\n",
    "So = s.expand(s.fu(So, measure=lambda x: -x.count_ops()))\n",
    "display(So)"
   ]
  },
  {
   "cell_type": "code",
   "execution_count": 112,
   "metadata": {},
   "outputs": [
    {
     "data": {
      "text/latex": [
       "$$\\frac{3 a_{3}}{4} A^{3} \\cos{\\left (1810 t \\right )} + \\frac{A^{3} a_{3}}{4} \\cos{\\left (5430 t \\right )} + \\frac{3 a_{3}}{2} A^{2} B \\cos{\\left (1805 t \\right )} + \\frac{3 a_{3}}{4} A^{2} B \\cos{\\left (1815 t \\right )} + \\frac{3 a_{3}}{4} A^{2} B \\cos{\\left (5425 t \\right )} + \\frac{A^{2} a_{2}}{2} \\cos{\\left (3620 t \\right )} + \\frac{A^{2} a_{2}}{2} + \\frac{3 a_{3}}{4} A B^{2} \\cos{\\left (1800 t \\right )} + \\frac{3 a_{3}}{2} A B^{2} \\cos{\\left (1810 t \\right )} + \\frac{3 a_{3}}{4} A B^{2} \\cos{\\left (5420 t \\right )} + A B a_{2} \\cos{\\left (5 t \\right )} + A B a_{2} \\cos{\\left (3615 t \\right )} + A a_{1} \\cos{\\left (1810 t \\right )} + \\frac{3 a_{3}}{4} B^{3} \\cos{\\left (1805 t \\right )} + \\frac{B^{3} a_{3}}{4} \\cos{\\left (5415 t \\right )} + \\frac{B^{2} a_{2}}{2} \\cos{\\left (3610 t \\right )} + \\frac{B^{2} a_{2}}{2} + B a_{1} \\cos{\\left (1805 t \\right )}$$"
      ],
      "text/plain": [
       "   3                   3                     2                       2        \n",
       "3⋅A ⋅a₃⋅cos(1810⋅t)   A ⋅a₃⋅cos(5430⋅t)   3⋅A ⋅B⋅a₃⋅cos(1805⋅t)   3⋅A ⋅B⋅a₃⋅co\n",
       "─────────────────── + ───────────────── + ───────────────────── + ────────────\n",
       "         4                    4                     2                       4 \n",
       "\n",
       "               2                     2                   2           2        \n",
       "s(1815⋅t)   3⋅A ⋅B⋅a₃⋅cos(5425⋅t)   A ⋅a₂⋅cos(3620⋅t)   A ⋅a₂   3⋅A⋅B ⋅a₃⋅cos(\n",
       "───────── + ───────────────────── + ───────────────── + ───── + ──────────────\n",
       "                      4                     2             2               4   \n",
       "\n",
       "               2                       2                                      \n",
       "1800⋅t)   3⋅A⋅B ⋅a₃⋅cos(1810⋅t)   3⋅A⋅B ⋅a₃⋅cos(5420⋅t)                       \n",
       "─────── + ───────────────────── + ───────────────────── + A⋅B⋅a₂⋅cos(5⋅t) + A⋅\n",
       "                    2                       4                                 \n",
       "\n",
       "                                         3                   3                \n",
       "                                      3⋅B ⋅a₃⋅cos(1805⋅t)   B ⋅a₃⋅cos(5415⋅t) \n",
       "B⋅a₂⋅cos(3615⋅t) + A⋅a₁⋅cos(1810⋅t) + ─────────────────── + ───────────────── \n",
       "                                               4                    4         \n",
       "\n",
       "   2                   2                      \n",
       "  B ⋅a₂⋅cos(3610⋅t)   B ⋅a₂                   \n",
       "+ ───────────────── + ───── + B⋅a₁⋅cos(1805⋅t)\n",
       "          2             2                     "
      ]
     },
     "metadata": {},
     "output_type": "display_data"
    }
   ],
   "source": [
    "So_1805_1810_mix = So.subs([(w1, 1810), (w2, 1805)])\n",
    "display(So_1805_1810_mix)"
   ]
  },
  {
   "cell_type": "code",
   "execution_count": 113,
   "metadata": {},
   "outputs": [
    {
     "name": "stdout",
     "output_type": "stream",
     "text": [
      "0.316227766017 1.0 10.0 0.0759746926648 -12.3866209613\n",
      "0.4472135955 0.4472135955 10.0 0.0406557814091 -20.8278537032\n",
      "Everything checks out!\n"
     ]
    }
   ],
   "source": [
    "# Work out IIP cascade stuff from discussion to verify\n",
    "# Discussion slide 4 (IIP 2 cascade)\n",
    "VIIP_2A = dbm2v(0, R=50)\n",
    "VIIP_2B = dbm2v(10, R=50)\n",
    "Av = db2mag(20)\n",
    "VIIP_2 = (1/VIIP_2A + Av/VIIP_2B)**-1\n",
    "IIP_2 = v2dbm(VIIP_2,R=50)\n",
    "print(VIIP_2A, VIIP_2B, Av, VIIP_2, IIP_2)\n",
    "\n",
    "VIIP_2A = dbm2v(0, R=100)\n",
    "VIIP_2B = dbm2v(10, R=10)\n",
    "Av = db2mag(20)\n",
    "VIIP_2 = (1/VIIP_2A + Av/VIIP_2B)**-1\n",
    "IIP_2 = v2dbm(VIIP_2,R=100)\n",
    "print(VIIP_2A, VIIP_2B, Av, VIIP_2, IIP_2)\n",
    "print('Everything checks out!')"
   ]
  },
  {
   "cell_type": "code",
   "execution_count": 49,
   "metadata": {},
   "outputs": [
    {
     "name": "stdout",
     "output_type": "stream",
     "text": [
      "0.1 0.0316227766017 10.0 0.00316069770621 -40.0043407748\n",
      "0.141421356237 0.0141421356237 31.6227766017 0.000447211359449 -60.0000434292\n",
      "Everything checks out!\n"
     ]
    }
   ],
   "source": [
    "# Discussion slide 5 (IIP3 cascade)\n",
    "VIIP_3A = dbm2v(-10, R=50)\n",
    "VIIP_3B = dbm2v(-20, R=50)\n",
    "Av = np.sqrt((50/50) * pdb2mag(20))\n",
    "VIIP_3 = np.sqrt((1/(VIIP_3A**2) + (Av**2)/(VIIP_3B**2))**-1)\n",
    "IIP_3 = v2dbm(VIIP_3, R=50)\n",
    "print(VIIP_3A, VIIP_3B, Av, VIIP_3, IIP_3)\n",
    "\n",
    "VIIP_3A = dbm2v(-10, R=100)\n",
    "VIIP_3B = dbm2v(-20, R=10)\n",
    "Av = np.sqrt((100/10) * pdb2mag(20))\n",
    "VIIP_3 = np.sqrt((1/(VIIP_3A**2) + (Av**2)/(VIIP_3B**2))**-1)\n",
    "IIP_3 = v2dbm(VIIP_3, R=100)\n",
    "print(VIIP_3A, VIIP_3B, Av, VIIP_3, IIP_3)\n",
    "print('Everything checks out!')"
   ]
  },
  {
   "cell_type": "code",
   "execution_count": 61,
   "metadata": {},
   "outputs": [
    {
     "name": "stdout",
     "output_type": "stream",
     "text": [
      "100.0 1.0 0.891250938134 1.12194783409 10.9994532901\n",
      "0.944046545971\n",
      "1.00012589254e-06\n"
     ]
    },
    {
     "data": {
      "text/latex": [
       "$$1.1220184543e-06$$"
      ],
      "text/plain": [
       "1.1220184543e-06"
      ]
     },
     "execution_count": 61,
     "metadata": {},
     "output_type": "execute_result"
    }
   ],
   "source": [
    "# Problem 1a\n",
    "VIIP_3A = dbm2v(50, R=50)\n",
    "VIIP_3B = dbm2v(10, R=50)\n",
    "Av = np.sqrt(pdb2mag(-1))\n",
    "VIIP_3 = np.sqrt((1/(VIIP_3A**2) + (Av**2)/(VIIP_3B**2))**-1)\n",
    "IIP_3 = v2dbm(VIIP_3, R=50)\n",
    "print(VIIP_3A, VIIP_3B, Av, VIIP_3, IIP_3)\n",
    "\n",
    "a3 = Av / (VIIP_3**2 * (3/4))\n",
    "print(a3)\n",
    "print((a3 *3 / 4) * dbm2v(-33, R=50) * (dbm2v(-27, R=50)**2))\n",
    "dbm2v(-109, R=50)"
   ]
  },
  {
   "cell_type": "code",
   "execution_count": 154,
   "metadata": {},
   "outputs": [
    {
     "name": "stdout",
     "output_type": "stream",
     "text": [
      "-9.91357252435\n"
     ]
    }
   ],
   "source": [
    "# problem 1b\n",
    "val = (1 / dbm2v(70, R=50)) + (Av / dbm2v(50,R=50))\n",
    "print(v2dbm(val, R=50))"
   ]
  },
  {
   "cell_type": "code",
   "execution_count": 75,
   "metadata": {},
   "outputs": [
    {
     "data": {
      "text/latex": [
       "$$50.0 v_{in}^{2} + 20.0 v_{in}$$"
      ],
      "text/plain": [
       "           2              \n",
       "50.0⋅v_{in}  + 20.0⋅v_{in}"
      ]
     },
     "metadata": {},
     "output_type": "display_data"
    },
    {
     "data": {
      "text/latex": [
       "$$125000.0 v_{in}^{4} + 100000.0 v_{in}^{3} + 21500.0 v_{in}^{2} + 600.0 v_{in}$$"
      ],
      "text/plain": [
       "               4                  3                 2               \n",
       "125000.0⋅v_{in}  + 100000.0⋅v_{in}  + 21500.0⋅v_{in}  + 600.0⋅v_{in}"
      ]
     },
     "metadata": {},
     "output_type": "display_data"
    },
    {
     "name": "stdout",
     "output_type": "stream",
     "text": [
      "0.0894427191 -10.9691001301\n",
      "0.4 0.6 0.027906976744186046\n",
      "2.04119982656 5.56302500767 -21.0857441906\n",
      "0.027906976744186046\n"
     ]
    }
   ],
   "source": [
    "# Problem 2\n",
    "v_in, v_mid, v_out = s.symbols('v_{in} v_{mid} v_{out}')\n",
    "v_mid = (0.2*v_in + 0.5*v_in**2)*100\n",
    "v_out = (0.6 * v_mid + 1*v_mid**2)*50\n",
    "display(s.expand(v_mid))\n",
    "display(s.expand(v_out))\n",
    "\n",
    "VIIP3_cascade = np.sqrt((4/3) * (600 / 100000))\n",
    "print(VIIP3_cascade, v2dbm(VIIP3_cascade, R=50))\n",
    "\n",
    "VIIP2_A = 20/50\n",
    "VIIP2_B = 0.6*50 / 50\n",
    "VIIP2 = 600 / 21500\n",
    "print(VIIP2_A, VIIP2_B, VIIP2)\n",
    "print(v2dbm(VIIP2_A), v2dbm(VIIP2_B), v2dbm(VIIP2))\n",
    "VIIP2_cascade = 1 / (1/VIIP2_A + 20/VIIP2_B)\n",
    "print(VIIP2_cascade)"
   ]
  },
  {
   "cell_type": "code",
   "execution_count": 78,
   "metadata": {},
   "outputs": [
    {
     "name": "stdout",
     "output_type": "stream",
     "text": [
      "17.916666666666668 41.666666666666664\n"
     ]
    }
   ],
   "source": [
    "# Problem 2\n",
    "HD2 = 0.5 * (21500 / 600)\n",
    "HD3 = 0.25 * (100000 / 600)\n",
    "print(HD2, HD3)"
   ]
  },
  {
   "cell_type": "code",
   "execution_count": 138,
   "metadata": {},
   "outputs": [
    {
     "data": {
      "text/latex": [
       "$$A \\cos{\\left (\\omega_1 t \\right )} + B \\cos{\\left (\\omega_2 t \\right )}$$"
      ],
      "text/plain": [
       "A⋅cos(\\omega₁⋅t) + B⋅cos(\\omega₂⋅t)"
      ]
     },
     "metadata": {},
     "output_type": "display_data"
    },
    {
     "data": {
      "text/latex": [
       "$$R \\left(a_{1} \\left(A \\cos{\\left (\\omega_1 t \\right )} + B \\cos{\\left (\\omega_2 t \\right )}\\right) + a_{2} \\left(A \\cos{\\left (\\omega_1 t \\right )} + B \\cos{\\left (\\omega_2 t \\right )}\\right)^{2}\\right)$$"
      ],
      "text/plain": [
       "  ⎛                                                                           \n",
       "R⋅⎝a₁⋅(A⋅cos(\\omega₁⋅t) + B⋅cos(\\omega₂⋅t)) + a₂⋅(A⋅cos(\\omega₁⋅t) + B⋅cos(\\om\n",
       "\n",
       "        2⎞\n",
       "ega₂⋅t)) ⎠"
      ]
     },
     "metadata": {},
     "output_type": "display_data"
    },
    {
     "data": {
      "text/latex": [
       "$$\\frac{R a_{2}}{2} A^{2} \\cos{\\left (2 \\omega_1 t \\right )} + \\frac{R a_{2}}{2} A^{2} + 2 A B R a_{2} \\cos{\\left (\\omega_1 t \\right )} \\cos{\\left (\\omega_2 t \\right )} + A R a_{1} \\cos{\\left (\\omega_1 t \\right )} + \\frac{R a_{2}}{2} B^{2} \\cos{\\left (2 \\omega_2 t \\right )} + \\frac{R a_{2}}{2} B^{2} + B R a_{1} \\cos{\\left (\\omega_2 t \\right )}$$"
      ],
      "text/plain": [
       " 2                          2                                                 \n",
       "A ⋅R⋅a₂⋅cos(2⋅\\omega₁⋅t)   A ⋅R⋅a₂                                            \n",
       "──────────────────────── + ─────── + 2⋅A⋅B⋅R⋅a₂⋅cos(\\omega₁⋅t)⋅cos(\\omega₂⋅t) \n",
       "           2                  2                                               \n",
       "\n",
       "                           2                          2                       \n",
       "                          B ⋅R⋅a₂⋅cos(2⋅\\omega₂⋅t)   B ⋅R⋅a₂                  \n",
       "+ A⋅R⋅a₁⋅cos(\\omega₁⋅t) + ──────────────────────── + ─────── + B⋅R⋅a₁⋅cos(\\ome\n",
       "                                     2                  2                     \n",
       "\n",
       "      \n",
       "      \n",
       "ga₂⋅t)\n",
       "      "
      ]
     },
     "metadata": {},
     "output_type": "display_data"
    },
    {
     "name": "stdout",
     "output_type": "stream",
     "text": [
      "\\frac{R a_{2}}{2} A^{2} \\cos{\\left (2 \\omega_1 t \\right )} + \\frac{R a_{2}}{2} A^{2} + 2 A B R a_{2} \\cos{\\left (\\omega_1 t \\right )} \\cos{\\left (\\omega_2 t \\right )} + A R a_{1} \\cos{\\left (\\omega_1 t \\right )} + \\frac{R a_{2}}{2} B^{2} \\cos{\\left (2 \\omega_2 t \\right )} + \\frac{R a_{2}}{2} B^{2} + B R a_{1} \\cos{\\left (\\omega_2 t \\right )}\n"
     ]
    }
   ],
   "source": [
    "# Problem 3\n",
    "a1, a2, b1, b2, R, A, w1, w2, t = s.symbols('a_1 a_2 b_1 b_2 R A \\omega_1 \\omega_2 t', real=True)\n",
    "v_in, v_mid, v_out = s.symbols('v_{in} v_{mid} v_{out}')\n",
    "v_in = A * s.cos(w1*t) + A * s.cos(w2*t)\n",
    "v_mid = (a1*v_in + a2*v_in**2)*R\n",
    "display(v_in)\n",
    "display(v_mid)\n",
    "v_mid = s.expand(TR7(s.expand(v_mid)))\n",
    "display(v_mid)\n",
    "print(s.latex(v_mid))"
   ]
  },
  {
   "cell_type": "code",
   "execution_count": 136,
   "metadata": {},
   "outputs": [
    {
     "data": {
      "text/latex": [
       "$$2 A^{2} R^{3} a_{1}^{2} b_{2} \\cos{\\left (\\omega_1 t \\right )} \\cos{\\left (\\omega_2 t \\right )} + \\frac{A^{2} b_{2}}{2} R^{3} a_{1}^{2} \\cos{\\left (2 \\omega_1 t \\right )} + \\frac{A^{2} b_{2}}{2} R^{3} a_{1}^{2} \\cos{\\left (2 \\omega_2 t \\right )} + A^{2} R^{3} a_{1}^{2} b_{2} + A R^{2} a_{1} b_{1} \\cos{\\left (\\omega_1 t \\right )} + A R^{2} a_{1} b_{1} \\cos{\\left (\\omega_2 t \\right )}$$"
      ],
      "text/plain": [
       "                                                2  3   2                      \n",
       "   2  3   2                                    A ⋅R ⋅a₁ ⋅b₂⋅cos(2⋅\\omega₁⋅t)  \n",
       "2⋅A ⋅R ⋅a₁ ⋅b₂⋅cos(\\omega₁⋅t)⋅cos(\\omega₂⋅t) + ───────────────────────────── +\n",
       "                                                             2                \n",
       "\n",
       "  2  3   2                                                                    \n",
       " A ⋅R ⋅a₁ ⋅b₂⋅cos(2⋅\\omega₂⋅t)    2  3   2         2                          \n",
       " ───────────────────────────── + A ⋅R ⋅a₁ ⋅b₂ + A⋅R ⋅a₁⋅b₁⋅cos(\\omega₁⋅t) + A⋅\n",
       "               2                                                              \n",
       "\n",
       "                       \n",
       " 2                     \n",
       "R ⋅a₁⋅b₁⋅cos(\\omega₂⋅t)\n",
       "                       "
      ]
     },
     "metadata": {},
     "output_type": "display_data"
    },
    {
     "name": "stdout",
     "output_type": "stream",
     "text": [
      "2 A^{2} R^{3} a_{1}^{2} b_{2} \\cos{\\left (\\omega_1 t \\right )} \\cos{\\left (\\omega_2 t \\right )} + \\frac{A^{2} b_{2}}{2} R^{3} a_{1}^{2} \\cos{\\left (2 \\omega_1 t \\right )} + \\frac{A^{2} b_{2}}{2} R^{3} a_{1}^{2} \\cos{\\left (2 \\omega_2 t \\right )} + A^{2} R^{3} a_{1}^{2} b_{2} + A R^{2} a_{1} b_{1} \\cos{\\left (\\omega_1 t \\right )} + A R^{2} a_{1} b_{1} \\cos{\\left (\\omega_2 t \\right )}\n"
     ]
    }
   ],
   "source": [
    "v_mid_filtered = A*R*a1*(s.cos(w1*t) + s.cos(w2*t))\n",
    "v_out = (b1*v_mid_filtered + b2*v_mid_filtered**2)*R\n",
    "v_out = s.expand(TR7(s.expand(v_out)))\n",
    "display(v_out)\n",
    "print(s.latex(v_out))"
   ]
  },
  {
   "cell_type": "code",
   "execution_count": 137,
   "metadata": {},
   "outputs": [
    {
     "data": {
      "text/latex": [
       "$$20.00376 \\cos{\\left (\\omega_1 t \\right )} \\cos{\\left (\\omega_2 t \\right )} + 47.628 \\cos{\\left (\\omega_1 t \\right )} + 5.00094 \\cos{\\left (2 \\omega_1 t \\right )} + 47.628 \\cos{\\left (\\omega_2 t \\right )} + 5.00094 \\cos{\\left (2 \\omega_2 t \\right )} + 10.00188$$"
      ],
      "text/plain": [
       "20.00376⋅cos(\\omega₁⋅t)⋅cos(\\omega₂⋅t) + 47.628⋅cos(\\omega₁⋅t) + 5.00094⋅cos(2\n",
       "⋅\\omega₁⋅t) + 47.628⋅cos(\\omega₂⋅t) + 5.00094⋅cos(2⋅\\omega₂⋅t) + 10.00188"
      ]
     },
     "metadata": {},
     "output_type": "display_data"
    }
   ],
   "source": [
    "v_out = v_out.subs([(a1, 0.2), (a2, 0.5), (b1, 0.6), (b2, 1), (R, 630), (A, 1e-3)])\n",
    "display(v_out)"
   ]
  },
  {
   "cell_type": "code",
   "execution_count": 140,
   "metadata": {},
   "outputs": [
    {
     "data": {
      "text/latex": [
       "$$A \\cos{\\left (\\omega_1 t \\right )} + B \\cos{\\left (\\omega_2 t \\right )}$$"
      ],
      "text/plain": [
       "A⋅cos(\\omega₁⋅t) + B⋅cos(\\omega₂⋅t)"
      ]
     },
     "metadata": {},
     "output_type": "display_data"
    },
    {
     "data": {
      "text/latex": [
       "$$R \\left(a_{1} \\left(A \\cos{\\left (\\omega_1 t \\right )} + B \\cos{\\left (\\omega_2 t \\right )}\\right) + a_{2} \\left(A \\cos{\\left (\\omega_1 t \\right )} + B \\cos{\\left (\\omega_2 t \\right )}\\right)^{2}\\right)$$"
      ],
      "text/plain": [
       "  ⎛                                                                           \n",
       "R⋅⎝a₁⋅(A⋅cos(\\omega₁⋅t) + B⋅cos(\\omega₂⋅t)) + a₂⋅(A⋅cos(\\omega₁⋅t) + B⋅cos(\\om\n",
       "\n",
       "        2⎞\n",
       "ega₂⋅t)) ⎠"
      ]
     },
     "metadata": {},
     "output_type": "display_data"
    },
    {
     "data": {
      "text/latex": [
       "$$\\frac{R a_{2}}{2} A^{2} \\cos{\\left (2 \\omega_1 t \\right )} + \\frac{R a_{2}}{2} A^{2} + 2 A B R a_{2} \\cos{\\left (\\omega_1 t \\right )} \\cos{\\left (\\omega_2 t \\right )} + A R a_{1} \\cos{\\left (\\omega_1 t \\right )} + \\frac{R a_{2}}{2} B^{2} \\cos{\\left (2 \\omega_2 t \\right )} + \\frac{R a_{2}}{2} B^{2} + B R a_{1} \\cos{\\left (\\omega_2 t \\right )}$$"
      ],
      "text/plain": [
       " 2                          2                                                 \n",
       "A ⋅R⋅a₂⋅cos(2⋅\\omega₁⋅t)   A ⋅R⋅a₂                                            \n",
       "──────────────────────── + ─────── + 2⋅A⋅B⋅R⋅a₂⋅cos(\\omega₁⋅t)⋅cos(\\omega₂⋅t) \n",
       "           2                  2                                               \n",
       "\n",
       "                           2                          2                       \n",
       "                          B ⋅R⋅a₂⋅cos(2⋅\\omega₂⋅t)   B ⋅R⋅a₂                  \n",
       "+ A⋅R⋅a₁⋅cos(\\omega₁⋅t) + ──────────────────────── + ─────── + B⋅R⋅a₁⋅cos(\\ome\n",
       "                                     2                  2                     \n",
       "\n",
       "      \n",
       "      \n",
       "ga₂⋅t)\n",
       "      "
      ]
     },
     "metadata": {},
     "output_type": "display_data"
    },
    {
     "name": "stdout",
     "output_type": "stream",
     "text": [
      "\\frac{R a_{2}}{2} A^{2} \\cos{\\left (2 \\omega_1 t \\right )} + \\frac{R a_{2}}{2} A^{2} + 2 A B R a_{2} \\cos{\\left (\\omega_1 t \\right )} \\cos{\\left (\\omega_2 t \\right )} + A R a_{1} \\cos{\\left (\\omega_1 t \\right )} + \\frac{R a_{2}}{2} B^{2} \\cos{\\left (2 \\omega_2 t \\right )} + \\frac{R a_{2}}{2} B^{2} + B R a_{1} \\cos{\\left (\\omega_2 t \\right )}\n"
     ]
    }
   ],
   "source": [
    "# Problem 3b\n",
    "a1, a2, b1, b2, R, A, B, w1, w2, t = s.symbols('a_1 a_2 b_1 b_2 R A B \\omega_1 \\omega_2 t', real=True)\n",
    "v_in, v_mid, v_out = s.symbols('v_{in} v_{mid} v_{out}')\n",
    "v_in = A * s.cos(w1*t) + B * s.cos(w2*t)\n",
    "v_mid = (a1*v_in + a2*v_in**2)*R\n",
    "display(v_in)\n",
    "display(v_mid)\n",
    "v_mid = s.expand(TR7(s.expand(v_mid)))\n",
    "display(v_mid)\n",
    "print(s.latex(v_mid))"
   ]
  },
  {
   "cell_type": "code",
   "execution_count": 142,
   "metadata": {},
   "outputs": [
    {
     "data": {
      "text/latex": [
       "$$\\frac{A^{2} b_{2}}{2} R^{3} a_{1}^{2} \\cos{\\left (2 \\omega_1 t \\right )} + \\frac{A^{2} b_{2}}{2} R^{3} a_{1}^{2} + 2 A B R^{3} a_{1}^{2} b_{2} \\cos{\\left (\\omega_1 t \\right )} \\cos{\\left (\\omega_2 t \\right )} + A R^{2} a_{1} b_{1} \\cos{\\left (\\omega_1 t \\right )} + \\frac{B^{2} b_{2}}{2} R^{3} a_{1}^{2} \\cos{\\left (2 \\omega_2 t \\right )} + \\frac{B^{2} b_{2}}{2} R^{3} a_{1}^{2} + B R^{2} a_{1} b_{1} \\cos{\\left (\\omega_2 t \\right )}$$"
      ],
      "text/plain": [
       " 2  3   2                        2  3   2                                     \n",
       "A ⋅R ⋅a₁ ⋅b₂⋅cos(2⋅\\omega₁⋅t)   A ⋅R ⋅a₁ ⋅b₂          3   2                   \n",
       "───────────────────────────── + ──────────── + 2⋅A⋅B⋅R ⋅a₁ ⋅b₂⋅cos(\\omega₁⋅t)⋅\n",
       "              2                      2                                        \n",
       "\n",
       "                                              2  3   2                        \n",
       "                    2                        B ⋅R ⋅a₁ ⋅b₂⋅cos(2⋅\\omega₂⋅t)   B\n",
       "cos(\\omega₂⋅t) + A⋅R ⋅a₁⋅b₁⋅cos(\\omega₁⋅t) + ───────────────────────────── + ─\n",
       "                                                           2                  \n",
       "\n",
       "2  3   2                               \n",
       " ⋅R ⋅a₁ ⋅b₂      2                     \n",
       "─────────── + B⋅R ⋅a₁⋅b₁⋅cos(\\omega₂⋅t)\n",
       "    2                                  "
      ]
     },
     "metadata": {},
     "output_type": "display_data"
    },
    {
     "name": "stdout",
     "output_type": "stream",
     "text": [
      "\\frac{A^{2} b_{2}}{2} R^{3} a_{1}^{2} \\cos{\\left (2 \\omega_1 t \\right )} + \\frac{A^{2} b_{2}}{2} R^{3} a_{1}^{2} + 2 A B R^{3} a_{1}^{2} b_{2} \\cos{\\left (\\omega_1 t \\right )} \\cos{\\left (\\omega_2 t \\right )} + A R^{2} a_{1} b_{1} \\cos{\\left (\\omega_1 t \\right )} + \\frac{B^{2} b_{2}}{2} R^{3} a_{1}^{2} \\cos{\\left (2 \\omega_2 t \\right )} + \\frac{B^{2} b_{2}}{2} R^{3} a_{1}^{2} + B R^{2} a_{1} b_{1} \\cos{\\left (\\omega_2 t \\right )}\n"
     ]
    }
   ],
   "source": [
    "v_mid_filtered = A*R*a1*s.cos(w1*t) + B*R*a1*s.cos(w2*t)\n",
    "v_out = (b1*v_mid_filtered + b2*v_mid_filtered**2)*R\n",
    "v_out = s.expand(TR7(s.expand(v_out)))\n",
    "display(v_out)\n",
    "print(s.latex(v_out))"
   ]
  },
  {
   "cell_type": "code",
   "execution_count": 144,
   "metadata": {},
   "outputs": [
    {
     "data": {
      "text/latex": [
       "$$2.000376 \\cos{\\left (\\omega_1 t \\right )} \\cos{\\left (\\omega_2 t \\right )} + 4.7628 \\cos{\\left (\\omega_1 t \\right )} + 0.0500094 \\cos{\\left (2 \\omega_1 t \\right )} + 47.628 \\cos{\\left (\\omega_2 t \\right )} + 5.00094 \\cos{\\left (2 \\omega_2 t \\right )} + 5.0509494$$"
      ],
      "text/plain": [
       "2.000376⋅cos(\\omega₁⋅t)⋅cos(\\omega₂⋅t) + 4.7628⋅cos(\\omega₁⋅t) + 0.0500094⋅cos\n",
       "(2⋅\\omega₁⋅t) + 47.628⋅cos(\\omega₂⋅t) + 5.00094⋅cos(2⋅\\omega₂⋅t) + 5.0509494"
      ]
     },
     "metadata": {},
     "output_type": "display_data"
    }
   ],
   "source": [
    "v_out = v_out.subs([(a1, 0.2), (a2, 0.5), (b1, 0.6), (b2, 1), (R, 630), (A, 0.1e-3), (B, 1e-3)])\n",
    "display(v_out)"
   ]
  },
  {
   "cell_type": "code",
   "execution_count": 149,
   "metadata": {},
   "outputs": [
    {
     "data": {
      "text/latex": [
       "$$-24.4031860681$$"
      ],
      "text/plain": [
       "-24.4031860681"
      ]
     },
     "execution_count": 149,
     "metadata": {},
     "output_type": "execute_result"
    }
   ],
   "source": [
    "v2dbm((4*0.6) / (1*630 * 0.2))"
   ]
  }
 ],
 "metadata": {
  "kernelspec": {
   "display_name": "Python 3",
   "language": "python",
   "name": "python3"
  },
  "language_info": {
   "codemirror_mode": {
    "name": "ipython",
    "version": 3
   },
   "file_extension": ".py",
   "mimetype": "text/x-python",
   "name": "python",
   "nbconvert_exporter": "python",
   "pygments_lexer": "ipython3",
   "version": "3.6.2"
  }
 },
 "nbformat": 4,
 "nbformat_minor": 2
}
