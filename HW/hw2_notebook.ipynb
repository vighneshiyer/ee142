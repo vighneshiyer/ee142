{
 "cells": [
  {
   "cell_type": "code",
   "execution_count": 1,
   "metadata": {
    "collapsed": false
   },
   "outputs": [
    {
     "ename": "NameError",
     "evalue": "name 'np' is not defined",
     "output_type": "error",
     "traceback": [
      "\u001b[0;31m---------------------------------------------------------------------------\u001b[0m",
      "\u001b[0;31mNameError\u001b[0m                                 Traceback (most recent call last)",
      "\u001b[0;32m<ipython-input-1-bff0fc1a720d>\u001b[0m in \u001b[0;36m<module>\u001b[0;34m()\u001b[0m\n\u001b[1;32m      2\u001b[0m \u001b[0mlength\u001b[0m \u001b[1;33m=\u001b[0m \u001b[1;36m.21875\u001b[0m\u001b[1;33m\u001b[0m\u001b[0m\n\u001b[1;32m      3\u001b[0m \u001b[0mfreq\u001b[0m \u001b[1;33m=\u001b[0m \u001b[1;36m1.2e9\u001b[0m\u001b[1;33m\u001b[0m\u001b[0m\n\u001b[0;32m----> 4\u001b[0;31m \u001b[0mbeta\u001b[0m \u001b[1;33m=\u001b[0m \u001b[1;36m2\u001b[0m \u001b[1;33m*\u001b[0m \u001b[0mnp\u001b[0m\u001b[1;33m.\u001b[0m\u001b[0mpi\u001b[0m \u001b[1;33m*\u001b[0m \u001b[0mfreq\u001b[0m\u001b[1;33m\u001b[0m\u001b[0m\n\u001b[0m\u001b[1;32m      5\u001b[0m \u001b[0mZS\u001b[0m \u001b[1;33m=\u001b[0m \u001b[1;36m5.0\u001b[0m\u001b[1;33m\u001b[0m\u001b[0m\n\u001b[1;32m      6\u001b[0m \u001b[0mZL\u001b[0m \u001b[1;33m=\u001b[0m \u001b[1;36m16.66\u001b[0m \u001b[1;33m+\u001b[0m \u001b[1;36m8.4e-8j\u001b[0m\u001b[1;33m\u001b[0m\u001b[0m\n",
      "\u001b[0;31mNameError\u001b[0m: name 'np' is not defined"
     ]
    }
   ],
   "source": [
    "# HW2 Problem 5\n",
    "length = .21875\n",
    "freq = 1.2e9\n",
    "beta = 2 * np.pi * freq\n",
    "ZS = 5.0\n",
    "ZL = 16.66 + 8.4e-8j\n",
    "Z0 = 50.0\n",
    "gamma_L = (ZL - Z0) / (ZL + Z0)\n",
    "gamma_in = gamma_L * np.exp(-2j * beta * length)\n",
    "z = np.linspace(-length, 0, 100000)\n",
    "\n",
    "V0_plus = [np.exp(-1j * beta * l) * Z0 / (Z0 * (1 + gamma_in) + ZS * (1 - gamma_in)) for l in z]\n",
    "extra = [(np.exp(-1j * beta * l) + gamma_L * np.exp(1j * beta * l)) for l in z]\n",
    "extra_i = [(np.exp(-1j * beta * l) - gamma_L * np.exp(1j * beta * l)) for l in z]\n",
    "V = np.multiply(V0_plus, extra)\n",
    "I = np.divide(np.multiply(V0_plus, extra), Z0)\n",
    "plt.plot(np.linspace(-length, 0, 100000)[90000:], np.abs(V)[90000:])\n",
    "\n",
    "print I[0]"
   ]
  },
  {
   "cell_type": "code",
   "execution_count": null,
   "metadata": {
    "collapsed": true
   },
   "outputs": [],
   "source": [
    "import csv\n",
    "hw2_data = []\n",
    "with open('hw2_data.csv', 'r') as f:\n",
    "    reader = csv.reader(f)\n",
    "    next(reader)\n",
    "    for row in reader:\n",
    "        row = [float(d) for d in row]\n",
    "        hw2_data += [row]\n",
    "deg = [d[0]/360.0 * length for d in hw2_data]\n",
    "v_mag = [d[1] for d in hw2_data]\n",
    "plt.plot(deg, v_mag)\n",
    "plt.xlabel('Distance Along tline (m)')\n",
    "plt.ylabel('Voltage Magnitude')\n",
    "plt.savefig('hw2_problem5_picture', bbox_inches='tight', dpi=300)"
   ]
  }
 ],
 "metadata": {
  "anaconda-cloud": {},
  "kernelspec": {
   "display_name": "Python 2",
   "language": "python",
   "name": "python2"
  },
  "language_info": {
   "codemirror_mode": {
    "name": "ipython",
    "version": 2
   },
   "file_extension": ".py",
   "mimetype": "text/x-python",
   "name": "python",
   "nbconvert_exporter": "python",
   "pygments_lexer": "ipython2",
   "version": "2.7.12"
  }
 },
 "nbformat": 4,
 "nbformat_minor": 0
}
