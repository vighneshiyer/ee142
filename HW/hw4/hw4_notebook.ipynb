{
 "cells": [
  {
   "cell_type": "code",
   "execution_count": 1,
   "metadata": {
    "collapsed": true
   },
   "outputs": [],
   "source": [
    "import numpy as np"
   ]
  },
  {
   "cell_type": "code",
   "execution_count": 20,
   "metadata": {
    "collapsed": false
   },
   "outputs": [
    {
     "name": "stdout",
     "output_type": "stream",
     "text": [
      "(-0.149425287356+0.459770114943j)\n",
      "(-0.141577646049+0.423130981807j)\n"
     ]
    }
   ],
   "source": [
    "# Problem 2a\n",
    "ZL = 25 + 30j\n",
    "Z0 = 50\n",
    "rho_L = (ZL-Z0) / (ZL+Z0)\n",
    "print rho_L\n",
    "#print 'actual mag: ' + str(np.abs(rho_L))\n",
    "#print 'actual phase: ' + str(np.arctan2(rho_L.imag, rho_L.real) / (2 * np.pi) * 360)\n",
    "\n",
    "smith_mag = 0.15\n",
    "smith_phase = 108.5 #degrees\n",
    "smith_phase = (smith_phase / 360) * 2 * np.pi\n",
    "smith_mag = smith_mag * (smith_phase / 2 * np.pi)\n",
    "smith_real = np.cos(smith_phase) * smith_mag\n",
    "smith_imag = np.sin(smith_phase) * smith_mag\n",
    "print smith_real + 1j*smith_imag"
   ]
  },
  {
   "cell_type": "code",
   "execution_count": 29,
   "metadata": {
    "collapsed": false
   },
   "outputs": [
    {
     "name": "stdout",
     "output_type": "stream",
     "text": [
      "71.062401546\n",
      "16.2303977421\n",
      "(142.307692308+38.4615384615j)\n"
     ]
    }
   ],
   "source": [
    "# Problem 2b\n",
    "rho_L = 0.5 + 0.1j\n",
    "phase = np.arctan2(rho_L.imag, rho_L.real)\n",
    "mag = np.abs(rho_L)\n",
    "print phase * 360\n",
    "print mag * 360 / (phase / (2*np.pi) * 360)\n",
    "actual_ZL = -Z0 * (1 + rho_L) / (rho_L - 1)\n",
    "print actual_ZL"
   ]
  },
  {
   "cell_type": "code",
   "execution_count": 31,
   "metadata": {
    "collapsed": false
   },
   "outputs": [
    {
     "name": "stdout",
     "output_type": "stream",
     "text": [
      "0.818181818182\n"
     ]
    }
   ],
   "source": [
    "ZL = 500.0\n",
    "Z0 = 50.0\n",
    "rho_L = (ZL-Z0) / (ZL+Z0)\n",
    "print rho_L"
   ]
  },
  {
   "cell_type": "code",
   "execution_count": 50,
   "metadata": {
    "collapsed": false
   },
   "outputs": [
    {
     "name": "stdout",
     "output_type": "stream",
     "text": [
      "0.50908491235\n",
      "(0.00995324042561+4.49291982447e-05j)\n"
     ]
    }
   ],
   "source": [
    "#problem 4\n",
    "L = 23.9e-9\n",
    "C = 0.95e-12\n",
    "Z1 = 50.0 + 2*np.pi*L*1j*1e9\n",
    "Z2 = 500.0 / (1 + 1j*2*np.pi*1e9*C)\n",
    "\n",
    "Z2 = 500*(1/(1j*2*np.pi*1e9*C)) / (500 + (1/(1j*2*np.pi*1e9*C)))\n",
    "print(np.real(Z2 / (Z1 + Z2))) #v = ir\n",
    "current = 1 / (Z1 + Z2)\n",
    "print(current)"
   ]
  }
 ],
 "metadata": {
  "anaconda-cloud": {},
  "kernelspec": {
   "display_name": "Python 2",
   "language": "python",
   "name": "python2"
  },
  "language_info": {
   "codemirror_mode": {
    "name": "ipython",
    "version": 2
   },
   "file_extension": ".py",
   "mimetype": "text/x-python",
   "name": "python",
   "nbconvert_exporter": "python",
   "pygments_lexer": "ipython2",
   "version": "2.7.12"
  }
 },
 "nbformat": 4,
 "nbformat_minor": 0
}
