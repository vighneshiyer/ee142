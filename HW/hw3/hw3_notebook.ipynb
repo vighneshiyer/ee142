{
 "cells": [
  {
   "cell_type": "code",
   "execution_count": 8,
   "metadata": {
    "collapsed": true
   },
   "outputs": [],
   "source": [
    "%matplotlib inline\n",
    "import csv\n",
    "import math\n",
    "import numpy as np\n",
    "import matplotlib.pyplot as plt\n",
    "plt.rc('text', usetex=True)\n",
    "plt.rc('font', family='serif')\n",
    "plt.rcParams.update({'axes.titlesize': 'large'})\n",
    "plt.rcParams.update({'axes.labelsize': 'large'})"
   ]
  },
  {
   "cell_type": "code",
   "execution_count": 2,
   "metadata": {
    "collapsed": false
   },
   "outputs": [
    {
     "name": "stdout",
     "output_type": "stream",
     "text": [
      "(-0.0588235294118-0.235294117647j)\n",
      "0.242535625036\n",
      "0.015\n",
      "1.5\n",
      "418.879020479\n",
      "1.25\n",
      "(100+50j)\n",
      "1.6403882032\n",
      "6.21267812518 3.78732187482\n"
     ]
    }
   ],
   "source": [
    "# Problem 1\n",
    "ZL = 80.0-40.0j\n",
    "Z0 = 100\n",
    "rho_L = (ZL - Z0) / (ZL + Z0)\n",
    "print rho_L\n",
    "print np.abs(rho_L)\n",
    "c0 = 3.0e8\n",
    "epsilon = 4\n",
    "cp = c0 / np.sqrt(epsilon)\n",
    "f = 10.0e9\n",
    "wavelength = cp / f\n",
    "print wavelength\n",
    "d = 22.5e-3\n",
    "print d / wavelength\n",
    "beta = (2 * np.pi) / wavelength\n",
    "print beta\n",
    "print 18.75e-3 / wavelength\n",
    "print Z0**2 / ZL\n",
    "SWR = (1 + np.abs(rho_L)) / (1 - np.abs(rho_L))\n",
    "print SWR\n",
    "V_plus = 5\n",
    "V_max = 5 * (1 + np.abs(rho_L))\n",
    "V_min = 5 * (1 - np.abs(rho_L))\n",
    "print V_max, V_min"
   ]
  },
  {
   "cell_type": "code",
   "execution_count": 4,
   "metadata": {
    "collapsed": false
   },
   "outputs": [
    {
     "data": {
      "image/png": "[encoded data removed]",
      "text/plain": [
       "<matplotlib.figure.Figure at 0x75a41d0>"
      ]
     },
     "metadata": {},
     "output_type": "display_data"
    }
   ],
   "source": [
    "# Problem 1 Plot\n",
    "v_l = lambda l: 5 * (1 + np.abs(rho_L) * np.e ** (- 2 * 1j * beta * l))\n",
    "l_vals = np.linspace(-22.5e-3, 0, 10000)\n",
    "v_l_line = [v_l(l) for l in l_vals]\n",
    "\n",
    "width, height = plt.figaspect(0.3)\n",
    "fig = plt.figure(figsize=(width,height))\n",
    "plt.plot(l_vals, v_l_line)\n",
    "plt.ylabel('Voltage (V)')\n",
    "plt.xlabel('Distance to Load (m)')\n",
    "plt.title('Voltage Magnitude Along T-line')\n",
    "plt.savefig('images/problem1.png', bbox_inches='tight', dpi=300)\n",
    "plt.show()"
   ]
  },
  {
   "cell_type": "code",
   "execution_count": 40,
   "metadata": {
    "collapsed": false
   },
   "outputs": [
    {
     "name": "stdout",
     "output_type": "stream",
     "text": [
      "(49.928-8.70863190014e-15j)\n",
      "41.8879020479\n"
     ]
    },
    {
     "data": {
      "text/plain": [
       "[<matplotlib.lines.Line2D at 0xa7e9400>]"
      ]
     },
     "execution_count": 40,
     "metadata": {},
     "output_type": "execute_result"
    },
    {
     "data": {
      "image/png": "[encoded data removed]",
      "text/plain": [
       "<matplotlib.figure.Figure at 0xa253978>"
      ]
     },
     "metadata": {},
     "output_type": "display_data"
    }
   ],
   "source": [
    "# Problem 3\n",
    "frequency = 1.0e9\n",
    "wavelength = (cp / frequency)\n",
    "beta = (2 * np.pi) / wavelength\n",
    "length = wavelength * 0.25\n",
    "Z_L = 500\n",
    "Z_0 = 158\n",
    "Z_in = lambda l,beta: Z_0 * (Z_L + 1j*Z_0*np.tan(beta*l)) / (Z_0 + 1j*Z_L*np.tan(beta*l))\n",
    "print Z_in(length, beta)\n",
    "print beta\n",
    "test_betas = np.linspace(75, 80, 1000)\n",
    "test_impedances = [Z_in(length, beta) for beta in test_betas]\n",
    "plt.plot(test_betas, test_impedances)"
   ]
  },
  {
   "cell_type": "code",
   "execution_count": 43,
   "metadata": {
    "collapsed": false
   },
   "outputs": [
    {
     "name": "stdout",
     "output_type": "stream",
     "text": [
      "1816753675.39\n",
      "41.8879020479\n"
     ]
    }
   ],
   "source": [
    "critical_wavelength = (2 * np.pi) / 76.1\n",
    "critical_frequency = cp / critical_wavelength\n",
    "print critical_frequency\n",
    "print (2 * np.pi) / (cp / frequency)"
   ]
  }
 ],
 "metadata": {
  "anaconda-cloud": {},
  "kernelspec": {
   "display_name": "Python 2",
   "language": "python",
   "name": "python2"
  },
  "language_info": {
   "codemirror_mode": {
    "name": "ipython",
    "version": 2
   },
   "file_extension": ".py",
   "mimetype": "text/x-python",
   "name": "python",
   "nbconvert_exporter": "python",
   "pygments_lexer": "ipython2",
   "version": "2.7.12"
  }
 },
 "nbformat": 4,
 "nbformat_minor": 0
}
