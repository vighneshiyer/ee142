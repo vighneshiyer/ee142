{
 "cells": [
  {
   "cell_type": "code",
   "execution_count": 2,
   "metadata": {},
   "outputs": [
    {
     "name": "stdout",
     "output_type": "stream",
     "text": [
      "Once deleted, variables cannot be recovered. Proceed (y/[n])? y\n"
     ]
    }
   ],
   "source": [
    "%matplotlib inline\n",
    "%reset\n",
    "from IPython.display import display\n",
    "\n",
    "import numpy as np\n",
    "import matplotlib.pyplot as plt\n",
    "import scipy\n",
    "\n",
    "import SchemDraw as schem # to draw schematics (install using 'pip install SchemDraw')\n",
    "import SchemDraw.elements as e\n",
    "\n",
    "import skrf as rf # scikit-rf (install using 'conda -c scikit-rf scikit-rf')\n",
    "\n",
    "import sympy as s # sympy (install using 'conda -c sympy sympy')\n",
    "from sympy import I # imaginary symbol\n",
    "from sympy.simplify.fu import fu, TR7\n",
    "\n",
    "rf.stylely() # enable scikit-rf plot styles\n",
    "s.init_printing(use_latex='mathjax') # print sympy equations in MathJAX (for Jupyter)"
   ]
  },
  {
   "cell_type": "code",
   "execution_count": 89,
   "metadata": {
    "collapsed": true
   },
   "outputs": [],
   "source": [
    "def ll(a, b): # return a and b in parallel (symbolically)\n",
    "    return (a * b) / (a + b)\n",
    "def mag2db(mag):\n",
    "    return np.multiply(20.0, np.log10(mag))\n",
    "def mag2pdb(mag):\n",
    "    return np.multiply(10.0, np.log10(mag))\n",
    "def db2mag(db):\n",
    "    return np.power(10, np.divide(db, 20.0))\n",
    "def pdb2mag(pdb):\n",
    "    return np.power(10, np.divide(pdb, 10.0))\n",
    "def rad2deg(rad):\n",
    "    return np.multiply(np.divide(rad, (2*np.pi)), 360.0)\n",
    "def deg2rad(deg):\n",
    "    return np.multiply(np.divide(deg, 360.0), 2*np.pi)\n",
    "def dbm2v(dbm, R = 50):\n",
    "    # P = V^2 / R\n",
    "    power = 1e-3 * np.power(10, np.divide(dbm, 10))\n",
    "    return np.sqrt(power * (R*2))    \n",
    "def v2dbm(v, R = 50):\n",
    "    power = np.divide(np.power(v, 2), R*2)\n",
    "    return 10 * np.log10(power/1e-3)"
   ]
  },
  {
   "cell_type": "code",
   "execution_count": 7,
   "metadata": {},
   "outputs": [
    {
     "data": {
      "text/latex": [
       "$$A \\cos{\\left (\\omega_1 t \\right )}$$"
      ],
      "text/plain": [
       "A⋅cos(\\omega₁⋅t)"
      ]
     },
     "metadata": {},
     "output_type": "display_data"
    },
    {
     "data": {
      "text/latex": [
       "$$\\frac{3 a_{3}}{4} A^{3} \\cos{\\left (\\omega_1 t \\right )} + \\frac{A^{3} a_{3}}{4} \\cos{\\left (3 \\omega_1 t \\right )} + \\frac{A^{2} a_{2}}{2} \\cos{\\left (2 \\omega_1 t \\right )} + \\frac{A^{2} a_{2}}{2} + A a_{1} \\cos{\\left (\\omega_1 t \\right )}$$"
      ],
      "text/plain": [
       "   3                      3                        2                        2 \n",
       "3⋅A ⋅a₃⋅cos(\\omega₁⋅t)   A ⋅a₃⋅cos(3⋅\\omega₁⋅t)   A ⋅a₂⋅cos(2⋅\\omega₁⋅t)   A ⋅\n",
       "────────────────────── + ────────────────────── + ────────────────────── + ───\n",
       "          4                        4                        2                2\n",
       "\n",
       "                        \n",
       "a₂                      \n",
       "── + A⋅a₁⋅cos(\\omega₁⋅t)\n",
       "                        "
      ]
     },
     "metadata": {},
     "output_type": "display_data"
    },
    {
     "name": "stdout",
     "output_type": "stream",
     "text": [
      "\\frac{3 a_{3}}{4} A^{3} \\cos{\\left (\\omega_1 t \\right )} + \\frac{A^{3} a_{3}}{4} \\cos{\\left (3 \\omega_1 t \\right )} + \\frac{A^{2} a_{2}}{2} \\cos{\\left (2 \\omega_1 t \\right )} + \\frac{A^{2} a_{2}}{2} + A a_{1} \\cos{\\left (\\omega_1 t \\right )}\n"
     ]
    }
   ],
   "source": [
    "# Single tone harmonic distortion\n",
    "A, w1, t = s.symbols('A \\omega_1 t', real=True)\n",
    "a1, a2, a3 = s.symbols('a_1 a_2 a_3')\n",
    "Si = A * s.cos(w1*t)\n",
    "display(Si)\n",
    "So = a1*Si + a2*(Si**2) + a3*(Si**3)\n",
    "So = s.expand(s.fu(So, measure=lambda x: -x.count_ops()))\n",
    "display(So)\n",
    "print(s.latex(So))"
   ]
  },
  {
   "cell_type": "code",
   "execution_count": 6,
   "metadata": {},
   "outputs": [
    {
     "data": {
      "text/latex": [
       "$$A \\cos{\\left (\\omega_1 t \\right )} + A \\cos{\\left (\\omega_2 t \\right )}$$"
      ],
      "text/plain": [
       "A⋅cos(\\omega₁⋅t) + A⋅cos(\\omega₂⋅t)"
      ]
     },
     "metadata": {},
     "output_type": "display_data"
    },
    {
     "data": {
      "text/latex": [
       "$$\\frac{9 a_{3}}{4} A^{3} \\cos{\\left (\\omega_1 t \\right )} + \\frac{A^{3} a_{3}}{4} \\cos{\\left (3 \\omega_1 t \\right )} + \\frac{9 a_{3}}{4} A^{3} \\cos{\\left (\\omega_2 t \\right )} + \\frac{A^{3} a_{3}}{4} \\cos{\\left (3 \\omega_2 t \\right )} + \\frac{3 a_{3}}{4} A^{3} \\cos{\\left (\\omega_1 t - 2 \\omega_2 t \\right )} + \\frac{3 a_{3}}{4} A^{3} \\cos{\\left (\\omega_1 t + 2 \\omega_2 t \\right )} + \\frac{3 a_{3}}{4} A^{3} \\cos{\\left (2 \\omega_1 t - \\omega_2 t \\right )} + \\frac{3 a_{3}}{4} A^{3} \\cos{\\left (2 \\omega_1 t + \\omega_2 t \\right )} + \\frac{A^{2} a_{2}}{2} \\cos{\\left (2 \\omega_1 t \\right )} + \\frac{A^{2} a_{2}}{2} \\cos{\\left (2 \\omega_2 t \\right )} + A^{2} a_{2} \\cos{\\left (\\omega_1 t - \\omega_2 t \\right )} + A^{2} a_{2} \\cos{\\left (\\omega_1 t + \\omega_2 t \\right )} + A^{2} a_{2} + A a_{1} \\cos{\\left (\\omega_1 t \\right )} + A a_{1} \\cos{\\left (\\omega_2 t \\right )}$$"
      ],
      "text/plain": [
       "   3                      3                          3                      3 \n",
       "9⋅A ⋅a₃⋅cos(\\omega₁⋅t)   A ⋅a₃⋅cos(3⋅\\omega₁⋅t)   9⋅A ⋅a₃⋅cos(\\omega₂⋅t)   A ⋅\n",
       "────────────────────── + ────────────────────── + ────────────────────── + ───\n",
       "          4                        4                        4                 \n",
       "\n",
       "                         3                                      3             \n",
       "a₃⋅cos(3⋅\\omega₂⋅t)   3⋅A ⋅a₃⋅cos(\\omega₁⋅t - 2⋅\\omega₂⋅t)   3⋅A ⋅a₃⋅cos(\\omeg\n",
       "─────────────────── + ──────────────────────────────────── + ─────────────────\n",
       "       4                               4                                      \n",
       "\n",
       "                         3                                      3             \n",
       "a₁⋅t + 2⋅\\omega₂⋅t)   3⋅A ⋅a₃⋅cos(2⋅\\omega₁⋅t - \\omega₂⋅t)   3⋅A ⋅a₃⋅cos(2⋅\\om\n",
       "─────────────────── + ──────────────────────────────────── + ─────────────────\n",
       "4                                      4                                      \n",
       "\n",
       "                       2                        2                             \n",
       "ega₁⋅t + \\omega₂⋅t)   A ⋅a₂⋅cos(2⋅\\omega₁⋅t)   A ⋅a₂⋅cos(2⋅\\omega₂⋅t)    2    \n",
       "─────────────────── + ────────────────────── + ────────────────────── + A ⋅a₂⋅\n",
       "4                               2                        2                    \n",
       "\n",
       "                                                                              \n",
       "                              2                                  2            \n",
       "cos(\\omega₁⋅t - \\omega₂⋅t) + A ⋅a₂⋅cos(\\omega₁⋅t + \\omega₂⋅t) + A ⋅a₂ + A⋅a₁⋅c\n",
       "                                                                              \n",
       "\n",
       "                                   \n",
       "                                   \n",
       "os(\\omega₁⋅t) + A⋅a₁⋅cos(\\omega₂⋅t)\n",
       "                                   "
      ]
     },
     "metadata": {},
     "output_type": "display_data"
    },
    {
     "name": "stdout",
     "output_type": "stream",
     "text": [
      "A \\cos{\\left (\\omega_1 t \\right )} + A \\cos{\\left (\\omega_2 t \\right )}\n",
      "\\frac{9 a_{3}}{4} A^{3} \\cos{\\left (\\omega_1 t \\right )} + \\frac{A^{3} a_{3}}{4} \\cos{\\left (3 \\omega_1 t \\right )} + \\frac{9 a_{3}}{4} A^{3} \\cos{\\left (\\omega_2 t \\right )} + \\frac{A^{3} a_{3}}{4} \\cos{\\left (3 \\omega_2 t \\right )} + \\frac{3 a_{3}}{4} A^{3} \\cos{\\left (\\omega_1 t - 2 \\omega_2 t \\right )} + \\frac{3 a_{3}}{4} A^{3} \\cos{\\left (\\omega_1 t + 2 \\omega_2 t \\right )} + \\frac{3 a_{3}}{4} A^{3} \\cos{\\left (2 \\omega_1 t - \\omega_2 t \\right )} + \\frac{3 a_{3}}{4} A^{3} \\cos{\\left (2 \\omega_1 t + \\omega_2 t \\right )} + \\frac{A^{2} a_{2}}{2} \\cos{\\left (2 \\omega_1 t \\right )} + \\frac{A^{2} a_{2}}{2} \\cos{\\left (2 \\omega_2 t \\right )} + A^{2} a_{2} \\cos{\\left (\\omega_1 t - \\omega_2 t \\right )} + A^{2} a_{2} \\cos{\\left (\\omega_1 t + \\omega_2 t \\right )} + A^{2} a_{2} + A a_{1} \\cos{\\left (\\omega_1 t \\right )} + A a_{1} \\cos{\\left (\\omega_2 t \\right )}\n"
     ]
    }
   ],
   "source": [
    "# Two tone harmonic distortion\n",
    "A, w1, w2, t = s.symbols('A \\omega_1 \\omega_2 t', real=True)\n",
    "a1, a2, a3 = s.symbols('a_1 a_2 a_3')\n",
    "Si = A * s.cos(w1*t) + A * s.cos(w2*t)\n",
    "display(Si)\n",
    "So = a1*Si + a2*(Si**2) + a3*(Si**3)\n",
    "So = s.expand(s.fu(So, measure=lambda x: -x.count_ops()))\n",
    "display(So)\n",
    "print(s.latex(Si))\n",
    "print(s.latex(So))"
   ]
  },
  {
   "cell_type": "code",
   "execution_count": 12,
   "metadata": {},
   "outputs": [
    {
     "data": {
      "text/latex": [
       "$$0.0849189356218$$"
      ],
      "text/plain": [
       "0.0849189356218"
      ]
     },
     "execution_count": 12,
     "metadata": {},
     "output_type": "execute_result"
    }
   ],
   "source": [
    "# Problem 1a\n",
    "10**(db2mag(-3) / 20.0) - 1"
   ]
  },
  {
   "cell_type": "code",
   "execution_count": 13,
   "metadata": {},
   "outputs": [
    {
     "data": {
      "text/latex": [
       "$$A \\cos{\\left (\\omega_1 t \\right )} + B \\cos{\\left (\\omega_2 t \\right )}$$"
      ],
      "text/plain": [
       "A⋅cos(\\omega₁⋅t) + B⋅cos(\\omega₂⋅t)"
      ]
     },
     "metadata": {},
     "output_type": "display_data"
    },
    {
     "data": {
      "text/latex": [
       "$$\\frac{3 a_{3}}{4} A^{3} \\cos{\\left (\\omega_1 t \\right )} + \\frac{A^{3} a_{3}}{4} \\cos{\\left (3 \\omega_1 t \\right )} + \\frac{3 a_{3}}{2} A^{2} B \\cos{\\left (\\omega_2 t \\right )} + \\frac{3 a_{3}}{4} A^{2} B \\cos{\\left (2 \\omega_1 t - \\omega_2 t \\right )} + \\frac{3 a_{3}}{4} A^{2} B \\cos{\\left (2 \\omega_1 t + \\omega_2 t \\right )} + \\frac{A^{2} a_{2}}{2} \\cos{\\left (2 \\omega_1 t \\right )} + \\frac{A^{2} a_{2}}{2} + \\frac{3 a_{3}}{2} A B^{2} \\cos{\\left (\\omega_1 t \\right )} + \\frac{3 a_{3}}{4} A B^{2} \\cos{\\left (\\omega_1 t - 2 \\omega_2 t \\right )} + \\frac{3 a_{3}}{4} A B^{2} \\cos{\\left (\\omega_1 t + 2 \\omega_2 t \\right )} + A B a_{2} \\cos{\\left (\\omega_1 t - \\omega_2 t \\right )} + A B a_{2} \\cos{\\left (\\omega_1 t + \\omega_2 t \\right )} + A a_{1} \\cos{\\left (\\omega_1 t \\right )} + \\frac{3 a_{3}}{4} B^{3} \\cos{\\left (\\omega_2 t \\right )} + \\frac{B^{3} a_{3}}{4} \\cos{\\left (3 \\omega_2 t \\right )} + \\frac{B^{2} a_{2}}{2} \\cos{\\left (2 \\omega_2 t \\right )} + \\frac{B^{2} a_{2}}{2} + B a_{1} \\cos{\\left (\\omega_2 t \\right )}$$"
      ],
      "text/plain": [
       "   3                      3                          2                        \n",
       "3⋅A ⋅a₃⋅cos(\\omega₁⋅t)   A ⋅a₃⋅cos(3⋅\\omega₁⋅t)   3⋅A ⋅B⋅a₃⋅cos(\\omega₂⋅t)   3\n",
       "────────────────────── + ────────────────────── + ──────────────────────── + ─\n",
       "          4                        4                         2                \n",
       "\n",
       "  2                                        2                                  \n",
       "⋅A ⋅B⋅a₃⋅cos(2⋅\\omega₁⋅t - \\omega₂⋅t)   3⋅A ⋅B⋅a₃⋅cos(2⋅\\omega₁⋅t + \\omega₂⋅t)\n",
       "───────────────────────────────────── + ──────────────────────────────────────\n",
       "                 4                                        4                   \n",
       "\n",
       "    2                        2           2                          2         \n",
       "   A ⋅a₂⋅cos(2⋅\\omega₁⋅t)   A ⋅a₂   3⋅A⋅B ⋅a₃⋅cos(\\omega₁⋅t)   3⋅A⋅B ⋅a₃⋅cos(\\\n",
       " + ────────────────────── + ───── + ──────────────────────── + ───────────────\n",
       "             2                2                2                              \n",
       "\n",
       "                               2                                              \n",
       "omega₁⋅t - 2⋅\\omega₂⋅t)   3⋅A⋅B ⋅a₃⋅cos(\\omega₁⋅t + 2⋅\\omega₂⋅t)              \n",
       "─────────────────────── + ────────────────────────────────────── + A⋅B⋅a₂⋅cos(\n",
       "   4                                        4                                 \n",
       "\n",
       "                                                                              \n",
       "                                                                              \n",
       "\\omega₁⋅t - \\omega₂⋅t) + A⋅B⋅a₂⋅cos(\\omega₁⋅t + \\omega₂⋅t) + A⋅a₁⋅cos(\\omega₁⋅\n",
       "                                                                              \n",
       "\n",
       "        3                      3                        2                     \n",
       "     3⋅B ⋅a₃⋅cos(\\omega₂⋅t)   B ⋅a₃⋅cos(3⋅\\omega₂⋅t)   B ⋅a₂⋅cos(2⋅\\omega₂⋅t) \n",
       "t) + ────────────────────── + ────────────────────── + ────────────────────── \n",
       "               4                        4                        2            \n",
       "\n",
       "   2                         \n",
       "  B ⋅a₂                      \n",
       "+ ───── + B⋅a₁⋅cos(\\omega₂⋅t)\n",
       "    2                        "
      ]
     },
     "metadata": {},
     "output_type": "display_data"
    },
    {
     "name": "stdout",
     "output_type": "stream",
     "text": [
      "A \\cos{\\left (\\omega_1 t \\right )} + B \\cos{\\left (\\omega_2 t \\right )}\n",
      "\\frac{3 a_{3}}{4} A^{3} \\cos{\\left (\\omega_1 t \\right )} + \\frac{A^{3} a_{3}}{4} \\cos{\\left (3 \\omega_1 t \\right )} + \\frac{3 a_{3}}{2} A^{2} B \\cos{\\left (\\omega_2 t \\right )} + \\frac{3 a_{3}}{4} A^{2} B \\cos{\\left (2 \\omega_1 t - \\omega_2 t \\right )} + \\frac{3 a_{3}}{4} A^{2} B \\cos{\\left (2 \\omega_1 t + \\omega_2 t \\right )} + \\frac{A^{2} a_{2}}{2} \\cos{\\left (2 \\omega_1 t \\right )} + \\frac{A^{2} a_{2}}{2} + \\frac{3 a_{3}}{2} A B^{2} \\cos{\\left (\\omega_1 t \\right )} + \\frac{3 a_{3}}{4} A B^{2} \\cos{\\left (\\omega_1 t - 2 \\omega_2 t \\right )} + \\frac{3 a_{3}}{4} A B^{2} \\cos{\\left (\\omega_1 t + 2 \\omega_2 t \\right )} + A B a_{2} \\cos{\\left (\\omega_1 t - \\omega_2 t \\right )} + A B a_{2} \\cos{\\left (\\omega_1 t + \\omega_2 t \\right )} + A a_{1} \\cos{\\left (\\omega_1 t \\right )} + \\frac{3 a_{3}}{4} B^{3} \\cos{\\left (\\omega_2 t \\right )} + \\frac{B^{3} a_{3}}{4} \\cos{\\left (3 \\omega_2 t \\right )} + \\frac{B^{2} a_{2}}{2} \\cos{\\left (2 \\omega_2 t \\right )} + \\frac{B^{2} a_{2}}{2} + B a_{1} \\cos{\\left (\\omega_2 t \\right )}\n"
     ]
    }
   ],
   "source": [
    "# Blocker apparent gain effect (w1 = blocker, w2 = desired, A = blocker amplitude, B = desired amplitude)\n",
    "# Problem 1b\n",
    "A, B, w1, w2, t = s.symbols('A B \\omega_1 \\omega_2 t', real=True)\n",
    "a1, a2, a3 = s.symbols('a_1 a_2 a_3')\n",
    "Si = A * s.cos(w1*t) + B * s.cos(w2*t)\n",
    "display(Si)\n",
    "So = a1*Si + a2*(Si**2) + a3*(Si**3)\n",
    "So = s.expand(s.fu(So, measure=lambda x: -x.count_ops()))\n",
    "display(So)\n",
    "print(s.latex(Si))\n",
    "print(s.latex(So))"
   ]
  },
  {
   "cell_type": "code",
   "execution_count": 15,
   "metadata": {},
   "outputs": [
    {
     "data": {
      "text/latex": [
       "$$2.18817783585$$"
      ],
      "text/plain": [
       "2.18817783585"
      ]
     },
     "execution_count": 15,
     "metadata": {},
     "output_type": "execute_result"
    }
   ],
   "source": [
    "temp = 10**(db2mag(-2)/20.0)-1\n",
    "np.sqrt(temp/2 * (10**2))"
   ]
  },
  {
   "cell_type": "code",
   "execution_count": 17,
   "metadata": {},
   "outputs": [
    {
     "data": {
      "text/latex": [
       "$$A \\cos{\\left (\\omega_{d} t \\right )} + B \\cos{\\left (\\omega_{b1} t \\right )} + B \\cos{\\left (\\omega_{b2} t \\right )}$$"
      ],
      "text/plain": [
       "A⋅cos(\\omega_{d}⋅t) + B⋅cos(\\omega_{b1}⋅t) + B⋅cos(\\omega_{b2}⋅t)"
      ]
     },
     "metadata": {},
     "output_type": "display_data"
    }
   ],
   "source": [
    "# Two-tone blocker apparent gain effect\n",
    "# Problem 1b\n",
    "A, B, wb1, wb2, wd, t = s.symbols('A B \\omega_{b1} \\omega_{b2} \\omega_{d} t', real=True)\n",
    "a1, a2, a3 = s.symbols('a_1 a_2 a_3')\n",
    "Si = A * s.cos(wd*t) + B * s.cos(wb1*t) + B * s.cos(wb2*t)\n",
    "display(Si)\n",
    "So = a1*Si + a2*(Si**2) + a3*(Si**3)\n",
    "So = s.expand(s.fu(So, measure=lambda x: -x.count_ops()))\n",
    "#display(So)\n",
    "#print(s.latex(Si))\n",
    "#print(s.latex(So))"
   ]
  },
  {
   "cell_type": "code",
   "execution_count": 20,
   "metadata": {},
   "outputs": [
    {
     "data": {
      "text/latex": [
       "$$A \\cos{\\left (\\omega_1 t \\right )} + A \\cos{\\left (\\omega_2 t \\right )} + A \\cos{\\left (\\omega_3 t \\right )}$$"
      ],
      "text/plain": [
       "A⋅cos(\\omega₁⋅t) + A⋅cos(\\omega₂⋅t) + A⋅cos(\\omega₃⋅t)"
      ]
     },
     "metadata": {},
     "output_type": "display_data"
    },
    {
     "data": {
      "text/latex": [
       "$$\\frac{15 a_{3}}{4} A^{3} \\cos{\\left (\\omega_1 t \\right )} + \\frac{A^{3} a_{3}}{4} \\cos{\\left (3 \\omega_1 t \\right )} + \\frac{15 a_{3}}{4} A^{3} \\cos{\\left (\\omega_2 t \\right )} + \\frac{A^{3} a_{3}}{4} \\cos{\\left (3 \\omega_2 t \\right )} + \\frac{15 a_{3}}{4} A^{3} \\cos{\\left (\\omega_3 t \\right )} + \\frac{A^{3} a_{3}}{4} \\cos{\\left (3 \\omega_3 t \\right )} + \\frac{3 a_{3}}{4} A^{3} \\cos{\\left (\\omega_1 t - 2 \\omega_2 t \\right )} + \\frac{3 a_{3}}{4} A^{3} \\cos{\\left (\\omega_1 t + 2 \\omega_2 t \\right )} + \\frac{3 a_{3}}{4} A^{3} \\cos{\\left (\\omega_1 t - 2 \\omega_3 t \\right )} + \\frac{3 a_{3}}{4} A^{3} \\cos{\\left (\\omega_1 t + 2 \\omega_3 t \\right )} + \\frac{3 a_{3}}{4} A^{3} \\cos{\\left (2 \\omega_1 t - \\omega_2 t \\right )} + \\frac{3 a_{3}}{4} A^{3} \\cos{\\left (2 \\omega_1 t + \\omega_2 t \\right )} + \\frac{3 a_{3}}{4} A^{3} \\cos{\\left (2 \\omega_1 t - \\omega_3 t \\right )} + \\frac{3 a_{3}}{4} A^{3} \\cos{\\left (2 \\omega_1 t + \\omega_3 t \\right )} + \\frac{3 a_{3}}{4} A^{3} \\cos{\\left (\\omega_2 t - 2 \\omega_3 t \\right )} + \\frac{3 a_{3}}{4} A^{3} \\cos{\\left (\\omega_2 t + 2 \\omega_3 t \\right )} + \\frac{3 a_{3}}{4} A^{3} \\cos{\\left (2 \\omega_2 t - \\omega_3 t \\right )} + \\frac{3 a_{3}}{4} A^{3} \\cos{\\left (2 \\omega_2 t + \\omega_3 t \\right )} + \\frac{3 a_{3}}{2} A^{3} \\cos{\\left (- \\omega_1 t + \\omega_2 t + \\omega_3 t \\right )} + \\frac{3 a_{3}}{2} A^{3} \\cos{\\left (\\omega_1 t - \\omega_2 t + \\omega_3 t \\right )} + \\frac{3 a_{3}}{2} A^{3} \\cos{\\left (\\omega_1 t + \\omega_2 t - \\omega_3 t \\right )} + \\frac{3 a_{3}}{2} A^{3} \\cos{\\left (\\omega_1 t + \\omega_2 t + \\omega_3 t \\right )} + \\frac{A^{2} a_{2}}{2} \\cos{\\left (2 \\omega_1 t \\right )} + \\frac{A^{2} a_{2}}{2} \\cos{\\left (2 \\omega_2 t \\right )} + \\frac{A^{2} a_{2}}{2} \\cos{\\left (2 \\omega_3 t \\right )} + A^{2} a_{2} \\cos{\\left (\\omega_1 t - \\omega_2 t \\right )} + A^{2} a_{2} \\cos{\\left (\\omega_1 t + \\omega_2 t \\right )} + A^{2} a_{2} \\cos{\\left (\\omega_1 t - \\omega_3 t \\right )} + A^{2} a_{2} \\cos{\\left (\\omega_1 t + \\omega_3 t \\right )} + A^{2} a_{2} \\cos{\\left (\\omega_2 t - \\omega_3 t \\right )} + A^{2} a_{2} \\cos{\\left (\\omega_2 t + \\omega_3 t \\right )} + \\frac{3 a_{2}}{2} A^{2} + A a_{1} \\cos{\\left (\\omega_1 t \\right )} + A a_{1} \\cos{\\left (\\omega_2 t \\right )} + A a_{1} \\cos{\\left (\\omega_3 t \\right )}$$"
      ],
      "text/plain": [
       "    3                      3                           3                      \n",
       "15⋅A ⋅a₃⋅cos(\\omega₁⋅t)   A ⋅a₃⋅cos(3⋅\\omega₁⋅t)   15⋅A ⋅a₃⋅cos(\\omega₂⋅t)   A\n",
       "─────────────────────── + ────────────────────── + ─────────────────────── + ─\n",
       "           4                        4                         4               \n",
       "\n",
       "3                           3                      3                          \n",
       " ⋅a₃⋅cos(3⋅\\omega₂⋅t)   15⋅A ⋅a₃⋅cos(\\omega₃⋅t)   A ⋅a₃⋅cos(3⋅\\omega₃⋅t)   3⋅A\n",
       "───────────────────── + ─────────────────────── + ────────────────────── + ───\n",
       "         4                         4                        4                 \n",
       "\n",
       "3                                      3                                      \n",
       " ⋅a₃⋅cos(\\omega₁⋅t - 2⋅\\omega₂⋅t)   3⋅A ⋅a₃⋅cos(\\omega₁⋅t + 2⋅\\omega₂⋅t)   3⋅A\n",
       "───────────────────────────────── + ──────────────────────────────────── + ───\n",
       "              4                                      4                        \n",
       "\n",
       "3                                      3                                      \n",
       " ⋅a₃⋅cos(\\omega₁⋅t - 2⋅\\omega₃⋅t)   3⋅A ⋅a₃⋅cos(\\omega₁⋅t + 2⋅\\omega₃⋅t)   3⋅A\n",
       "───────────────────────────────── + ──────────────────────────────────── + ───\n",
       "              4                                      4                        \n",
       "\n",
       "3                                      3                                      \n",
       " ⋅a₃⋅cos(2⋅\\omega₁⋅t - \\omega₂⋅t)   3⋅A ⋅a₃⋅cos(2⋅\\omega₁⋅t + \\omega₂⋅t)   3⋅A\n",
       "───────────────────────────────── + ──────────────────────────────────── + ───\n",
       "              4                                      4                        \n",
       "\n",
       "3                                      3                                      \n",
       " ⋅a₃⋅cos(2⋅\\omega₁⋅t - \\omega₃⋅t)   3⋅A ⋅a₃⋅cos(2⋅\\omega₁⋅t + \\omega₃⋅t)   3⋅A\n",
       "───────────────────────────────── + ──────────────────────────────────── + ───\n",
       "              4                                      4                        \n",
       "\n",
       "3                                      3                                      \n",
       " ⋅a₃⋅cos(\\omega₂⋅t - 2⋅\\omega₃⋅t)   3⋅A ⋅a₃⋅cos(\\omega₂⋅t + 2⋅\\omega₃⋅t)   3⋅A\n",
       "───────────────────────────────── + ──────────────────────────────────── + ───\n",
       "              4                                      4                        \n",
       "\n",
       "3                                      3                                      \n",
       " ⋅a₃⋅cos(2⋅\\omega₂⋅t - \\omega₃⋅t)   3⋅A ⋅a₃⋅cos(2⋅\\omega₂⋅t + \\omega₃⋅t)   3⋅A\n",
       "───────────────────────────────── + ──────────────────────────────────── + ───\n",
       "              4                                      4                        \n",
       "\n",
       "3                                                 3                           \n",
       " ⋅a₃⋅cos(-\\omega₁⋅t + \\omega₂⋅t + \\omega₃⋅t)   3⋅A ⋅a₃⋅cos(\\omega₁⋅t - \\omega₂\n",
       "──────────────────────────────────────────── + ───────────────────────────────\n",
       "                    2                                                2        \n",
       "\n",
       "                     3                                                3       \n",
       "⋅t + \\omega₃⋅t)   3⋅A ⋅a₃⋅cos(\\omega₁⋅t + \\omega₂⋅t - \\omega₃⋅t)   3⋅A ⋅a₃⋅cos\n",
       "─────────────── + ────────────────────────────────────────────── + ───────────\n",
       "                                        2                                     \n",
       "\n",
       "                                       2                        2             \n",
       "(\\omega₁⋅t + \\omega₂⋅t + \\omega₃⋅t)   A ⋅a₂⋅cos(2⋅\\omega₁⋅t)   A ⋅a₂⋅cos(2⋅\\om\n",
       "─────────────────────────────────── + ────────────────────── + ───────────────\n",
       "           2                                    2                        2    \n",
       "\n",
       "           2                                                                  \n",
       "ega₂⋅t)   A ⋅a₂⋅cos(2⋅\\omega₃⋅t)    2                                  2      \n",
       "─────── + ────────────────────── + A ⋅a₂⋅cos(\\omega₁⋅t - \\omega₂⋅t) + A ⋅a₂⋅co\n",
       "                    2                                                         \n",
       "\n",
       "                                                                              \n",
       "                            2                                  2              \n",
       "s(\\omega₁⋅t + \\omega₂⋅t) + A ⋅a₂⋅cos(\\omega₁⋅t - \\omega₃⋅t) + A ⋅a₂⋅cos(\\omega\n",
       "                                                                              \n",
       "\n",
       "                                                                              \n",
       "                    2                                  2                      \n",
       "₁⋅t + \\omega₃⋅t) + A ⋅a₂⋅cos(\\omega₂⋅t - \\omega₃⋅t) + A ⋅a₂⋅cos(\\omega₂⋅t + \\o\n",
       "                                                                              \n",
       "\n",
       "              2                                                               \n",
       "           3⋅A ⋅a₂                                                            \n",
       "mega₃⋅t) + ─────── + A⋅a₁⋅cos(\\omega₁⋅t) + A⋅a₁⋅cos(\\omega₂⋅t) + A⋅a₁⋅cos(\\ome\n",
       "              2                                                               \n",
       "\n",
       "      \n",
       "      \n",
       "ga₃⋅t)\n",
       "      "
      ]
     },
     "metadata": {},
     "output_type": "display_data"
    }
   ],
   "source": [
    "# Three-tone gain compression\n",
    "# Problem 1d\n",
    "A, w1, w2, w3, t = s.symbols('A \\omega_1 \\omega_2 \\omega_3 t', real=True)\n",
    "a1, a2, a3 = s.symbols('a_1 a_2 a_3')\n",
    "Si = A * s.cos(w1*t) + A * s.cos(w2*t) + A * s.cos(w3*t)\n",
    "display(Si)\n",
    "So = a1*Si + a2*(Si**2) + a3*(Si**3)\n",
    "So = s.expand(s.fu(So, measure=lambda x: -x.count_ops()))\n",
    "display(So)"
   ]
  },
  {
   "cell_type": "code",
   "execution_count": 22,
   "metadata": {},
   "outputs": [
    {
     "name": "stdout",
     "output_type": "stream",
     "text": [
      "3.31662479036 1.91485421551 1.48323969742\n"
     ]
    }
   ],
   "source": [
    "# Problem 1d\n",
    "IIP3 = 10\n",
    "IP_one_tone = IIP3 * np.sqrt(0.11)\n",
    "a1_over_a3 = (IIP3**2) * (3/4)\n",
    "IP_two_tone = np.sqrt((4/9) * a1_over_a3) * np.sqrt(0.11)\n",
    "IP_three_tone = np.sqrt((4/15) * a1_over_a3) * np.sqrt(0.11)\n",
    "print(IP_one_tone, IP_two_tone, IP_three_tone)"
   ]
  },
  {
   "cell_type": "code",
   "execution_count": 42,
   "metadata": {},
   "outputs": [
    {
     "data": {
      "image/png": "[encoded data removed]",
      "text/plain": [
       "<matplotlib.figure.Figure at 0xd672048>"
      ]
     },
     "metadata": {},
     "output_type": "display_data"
    }
   ],
   "source": [
    "# Problem 1e\n",
    "Vt = 25e-3\n",
    "Is = 1.633E-14\n",
    "VQ = 0.7\n",
    "def I_out(A, perform_plot=False):\n",
    "    Fs = 1e9   # sampling rate\n",
    "    Ts = 1.0/Fs # sampling interval (period)\n",
    "    t = np.arange(0, 1000e-9, Ts)\n",
    "    Vbe = (A * np.cos(2 * np.pi * 100e6 * t)) + VQ\n",
    "    I_out = Is * np.exp(np.divide(Vbe, Vt))\n",
    "\n",
    "    n = len(I_out)\n",
    "    k = np.arange(n)\n",
    "    T = n/Fs\n",
    "    frq = k/T\n",
    "    frq = frq[range(int(n/2))]\n",
    "\n",
    "    Y = np.fft.fft(I_out)/n\n",
    "    Y = Y[range(int(n/2))]\n",
    "    if perform_plot:\n",
    "        plt.plot(frq, abs(Y))\n",
    "        plt.xlabel('Frequency (Hz)')\n",
    "        plt.title('A = %.3f' % A)\n",
    "    return Y, frq\n",
    "As = [1, 0.1, 0.01, 0.001]\n",
    "w, h = plt.figaspect(0.35)\n",
    "fig = plt.figure(figsize=(w,h))\n",
    "for x in range(0, len(As)):\n",
    "    plt.subplot(1, 4, x+1)\n",
    "    I_out(As[x], perform_plot=True)\n",
    "plt.savefig('figs/problem1e_spectrum.pdf', bbox_inches='tight', dpi=300)"
   ]
  },
  {
   "cell_type": "code",
   "execution_count": 47,
   "metadata": {},
   "outputs": [
    {
     "data": {
      "image/png": "[encoded data removed]",
      "text/plain": [
       "<matplotlib.figure.Figure at 0xd203ba8>"
      ]
     },
     "metadata": {},
     "output_type": "display_data"
    }
   ],
   "source": [
    "# Problem 1e\n",
    "w, h = plt.figaspect(0.35)\n",
    "fig = plt.figure(figsize=(w,h))\n",
    "As = []\n",
    "Ratios = []\n",
    "for A in np.linspace(0.0001, 1, 1000):\n",
    "    Y, frq = I_out(A, perform_plot=False)\n",
    "    fund_index = np.where(frq==100e6)\n",
    "    third_harm_index = np.where(frq==300e6)\n",
    "    As.append(A)\n",
    "    Ratios.append((np.abs(Y[third_harm_index]) /np.abs(Y[fund_index])))\n",
    "    #print('A: %f, fund amp: %f, 3rd harm amp: %f' % (A, np.abs(Y[fund_index]), np.abs(Y[third_harm_index])))\n",
    "    #print('ratio: %f' % (np.abs(Y[fund_index]) /np.abs(Y[third_harm_index])))\n",
    "plt.plot(As, Ratios)\n",
    "plt.xlabel('Amplitude of Input Cosine')\n",
    "plt.title('Ratio of 3rd Harmonic Amplitude vs Fund Amplitude at Output vs. Input Amplitude')\n",
    "plt.ylabel('Ratio')\n",
    "plt.savefig('figs/problem1e_A_sweep.pdf', bbox_inches='tight', dpi=300)"
   ]
  },
  {
   "cell_type": "code",
   "execution_count": 56,
   "metadata": {},
   "outputs": [
    {
     "data": {
      "image/png": "[encoded data removed]",
      "text/plain": [
       "<matplotlib.figure.Figure at 0xcb38080>"
      ]
     },
     "metadata": {},
     "output_type": "display_data"
    }
   ],
   "source": [
    "IQ = Is * np.exp(VQ/Vt)\n",
    "a1 = IQ/Vt\n",
    "a3 = (1/6) * (1/Vt)**3 * IQ\n",
    "def HD3(A):\n",
    "    return (1/4) * (a3 / a1) * A**2\n",
    "w, h = plt.figaspect(0.35)\n",
    "fig = plt.figure(figsize=(w,h))\n",
    "\n",
    "As = []\n",
    "vals = []\n",
    "for A in np.linspace(0.0001, 0.1, 1000):\n",
    "    As.append(A)\n",
    "    vals.append(HD3(A))\n",
    "plt.plot(As, vals)\n",
    "plt.xlabel('Amplitude of Input Cosine')\n",
    "plt.title('HD3 (from formula) vs. Input Amplitude')\n",
    "plt.ylabel('HD3')\n",
    "plt.savefig('figs/problem1e_HD3.pdf', bbox_inches='tight', dpi=300)"
   ]
  },
  {
   "cell_type": "code",
   "execution_count": 59,
   "metadata": {},
   "outputs": [
    {
     "data": {
      "text/latex": [
       "$$i_{o} = K \\left(R_{L}^{2} i_{o}^{2} - 2 R_{L} i_{o} v_{i} - 2 R_{L} i_{o} \\left(V_{Q} - V_{th}\\right) + v_{i}^{2} + 2 v_{i} \\left(V_{Q} - V_{th}\\right)\\right)$$"
      ],
      "text/plain": [
       "       ⎛   2   2                                             2                \n",
       "iₒ = K⋅⎝R_L ⋅iₒ  - 2⋅R_L⋅iₒ⋅vᵢ - 2⋅R_L⋅iₒ⋅(V_Q - V_{th}) + vᵢ  + 2⋅vᵢ⋅(V_Q - V\n",
       "\n",
       "      ⎞\n",
       "_{th})⎠"
      ]
     },
     "metadata": {},
     "output_type": "display_data"
    },
    {
     "data": {
      "text/latex": [
       "$$\\left\\{\\frac{1}{2 K R_{L}^{2}} \\left(2 K R_{L} V_{Q} - 2 K R_{L} V_{th} + 2 K R_{L} v_{i} + 1\\right) - \\frac{1}{2 K R_{L}^{2}} \\sqrt{4 K^{2} R_{L}^{2} V_{Q}^{2} - 8 K^{2} R_{L}^{2} V_{Q} V_{th} + 4 K^{2} R_{L}^{2} V_{th}^{2} + 4 K R_{L} V_{Q} - 4 K R_{L} V_{th} + 4 K R_{L} v_{i} + 1}, \\frac{1}{2 K R_{L}^{2}} \\left(2 K R_{L} V_{Q} - 2 K R_{L} V_{th} + 2 K R_{L} v_{i} + 1\\right) + \\frac{1}{2 K R_{L}^{2}} \\sqrt{4 K^{2} R_{L}^{2} V_{Q}^{2} - 8 K^{2} R_{L}^{2} V_{Q} V_{th} + 4 K^{2} R_{L}^{2} V_{th}^{2} + 4 K R_{L} V_{Q} - 4 K R_{L} V_{th} + 4 K R_{L} v_{i} + 1}\\right\\}$$"
      ],
      "text/plain": [
       "⎧                                                   __________________________\n",
       "⎪                                                  ╱    2    2    2      2    \n",
       "⎪2⋅K⋅R_L⋅V_Q - 2⋅K⋅R_L⋅V_{th} + 2⋅K⋅R_L⋅vᵢ + 1   ╲╱  4⋅K ⋅R_L ⋅V_Q  - 8⋅K ⋅R_L\n",
       "⎨───────────────────────────────────────────── - ─────────────────────────────\n",
       "⎪                          2                                                  \n",
       "⎪                   2⋅K⋅R_L                                                   \n",
       "⎩                                                                             \n",
       "\n",
       "______________________________________________________________________________\n",
       "2                 2    2       2                                              \n",
       " ⋅V_Q⋅V_{th} + 4⋅K ⋅R_L ⋅V_{th}  + 4⋅K⋅R_L⋅V_Q - 4⋅K⋅R_L⋅V_{th} + 4⋅K⋅R_L⋅vᵢ +\n",
       "──────────────────────────────────────────────────────────────────────────────\n",
       "                             2                                                \n",
       "                      2⋅K⋅R_L                                                 \n",
       "                                                                              \n",
       "\n",
       "___                                                     ______________________\n",
       "                                                       ╱    2    2    2      2\n",
       " 1   2⋅K⋅R_L⋅V_Q - 2⋅K⋅R_L⋅V_{th} + 2⋅K⋅R_L⋅vᵢ + 1   ╲╱  4⋅K ⋅R_L ⋅V_Q  - 8⋅K \n",
       "───, ───────────────────────────────────────────── + ─────────────────────────\n",
       "                               2                                              \n",
       "                        2⋅K⋅R_L                                               \n",
       "                                                                              \n",
       "\n",
       "______________________________________________________________________________\n",
       "    2                 2    2       2                                          \n",
       "⋅R_L ⋅V_Q⋅V_{th} + 4⋅K ⋅R_L ⋅V_{th}  + 4⋅K⋅R_L⋅V_Q - 4⋅K⋅R_L⋅V_{th} + 4⋅K⋅R_L⋅\n",
       "──────────────────────────────────────────────────────────────────────────────\n",
       "                                 2                                            \n",
       "                          2⋅K⋅R_L                                             \n",
       "                                                                              \n",
       "\n",
       "_______⎫\n",
       "       ⎪\n",
       "vᵢ + 1 ⎪\n",
       "───────⎬\n",
       "       ⎪\n",
       "       ⎪\n",
       "       ⎭"
      ]
     },
     "execution_count": 59,
     "metadata": {},
     "output_type": "execute_result"
    }
   ],
   "source": [
    "# Problem 2\n",
    "K, VQ, Vth, vi, io, RL = s.symbols('K V_Q V_{th} v_i i_o R_L', real=True)\n",
    "expr = s.Eq(io, K*(2*vi*(VQ-Vth) + vi**2 - 2*io*RL*(VQ-Vth) - 2*io*RL*vi + io**2*RL**2))\n",
    "display(expr)\n",
    "#So = a1*Si + a2*(Si**2) + a3*(Si**3)\n",
    "#So = s.expand(s.fu(So, measure=lambda x: -x.count_ops()))\n",
    "s.solveset(expr, io)"
   ]
  },
  {
   "cell_type": "code",
   "execution_count": 142,
   "metadata": {},
   "outputs": [
    {
     "data": {
      "text/latex": [
       "$$\\frac{g_{m}}{R_{L} g_{m} + 1}$$"
      ],
      "text/plain": [
       "    gₘ    \n",
       "──────────\n",
       "R_L⋅gₘ + 1"
      ]
     },
     "metadata": {},
     "output_type": "display_data"
    },
    {
     "data": {
      "text/latex": [
       "$$\\frac{0.5 (W/L) \\mu C_{ox}}{\\left(R_{L} g_{m} + 1\\right)^{3}}$$"
      ],
      "text/plain": [
       "0.5⋅(W/L)⋅\\mu C_{ox}\n",
       "────────────────────\n",
       "               3    \n",
       "   (R_L⋅gₘ + 1)     "
      ]
     },
     "metadata": {},
     "output_type": "display_data"
    },
    {
     "data": {
      "text/latex": [
       "$$- \\frac{0.5 (W/L)^{2} R_{L} \\mu C_{ox}^{2}}{\\left(R_{L} g_{m} + 1\\right)^{5}}$$"
      ],
      "text/plain": [
       "          2               2 \n",
       "-0.5⋅(W/L) ⋅R_L⋅\\mu C_{ox}  \n",
       "────────────────────────────\n",
       "                   5        \n",
       "       (R_L⋅gₘ + 1)         "
      ]
     },
     "metadata": {},
     "output_type": "display_data"
    },
    {
     "data": {
      "text/latex": [
       "$$\\frac{0.375 (W/L)^{2} A^{2} R_{L} \\mu C_{ox}^{2}}{g_{m} \\left(R_{L} g_{m} + 1\\right)^{4}}$$"
      ],
      "text/plain": [
       "           2  2               2\n",
       "0.375⋅(W/L) ⋅A ⋅R_L⋅\\mu C_{ox} \n",
       "───────────────────────────────\n",
       "                       4       \n",
       "        gₘ⋅(R_L⋅gₘ + 1)        "
      ]
     },
     "metadata": {},
     "output_type": "display_data"
    },
    {
     "data": {
      "text/latex": [
       "$$\\frac{50 \\left(- \\frac{3.24 \\cdot 10^{-8} (W/L)^{2}}{g_{m} \\left(50 g_{m} + 1\\right)^{4}} + 1\\right)}{\\left(50 + \\frac{1}{g_{m}}\\right) \\left(50 g_{m} + 1\\right)}$$"
      ],
      "text/plain": [
       "   ⎛                2    ⎞\n",
       "   ⎜   3.24e-8⋅(W/L)     ⎟\n",
       "50⋅⎜- ─────────────── + 1⎟\n",
       "   ⎜                4    ⎟\n",
       "   ⎝  gₘ⋅(50⋅gₘ + 1)     ⎠\n",
       "──────────────────────────\n",
       "  ⎛     1 ⎞               \n",
       "  ⎜50 + ──⎟⋅(50⋅gₘ + 1)   \n",
       "  ⎝     gₘ⎠               "
      ]
     },
     "metadata": {},
     "output_type": "display_data"
    },
    {
     "data": {
      "text/latex": [
       "$$\\frac{1.08 \\cdot 10^{-8} (W/L)^{2} \\left(R_{L} + \\frac{1}{g_{m}}\\right)}{R_{L} \\left(50 g_{m} + 1\\right)^{4}}$$"
      ],
      "text/plain": [
       "             2 ⎛      1 ⎞\n",
       "1.08e-8⋅(W/L) ⋅⎜R_L + ──⎟\n",
       "               ⎝      gₘ⎠\n",
       "─────────────────────────\n",
       "                    4    \n",
       "     R_L⋅(50⋅gₘ + 1)     "
      ]
     },
     "metadata": {},
     "output_type": "display_data"
    },
    {
     "data": {
      "text/latex": [
       "$$\\emptyset$$"
      ],
      "text/plain": [
       "∅"
      ]
     },
     "execution_count": 142,
     "metadata": {},
     "output_type": "execute_result"
    }
   ],
   "source": [
    "# Problem 2\n",
    "gm, uCox, WL, RL, A = s.symbols('g_m \\mu\\ C_{ox} (W/L) R_L A', real=True)\n",
    "f = RL\n",
    "a1 = gm\n",
    "a2 = 0.5 * uCox * WL\n",
    "a3 = 0\n",
    "b1 = a1 / (1 + a1 * f)\n",
    "b2 = a2 / (1 + a1 * f)**3\n",
    "b3 = (a3 * (1 + a1*f) - 2*(a2**2)*f) / ((1 + a1*f)**5)\n",
    "display(b1)\n",
    "display(b2)\n",
    "display(b3)\n",
    "IM3 = 0.75 * (-b3/b1) * A**2\n",
    "display(IM3)\n",
    "Av = (b1 * (1 + s.Rational(9,4) * (b3/b1) * A**2)) * ll(1/gm, RL)\n",
    "#Av = gm*RL / (1 + gm*RL)\n",
    "Av = Av.subs([(RL, 50), (A, 0.120), (uCox, 200e-6)])\n",
    "IM3 = IM3.subs([(RL, 50), (A, 0.120), (uCox, 200e-6)]) / (ll(1/gm,RL))\n",
    "display(Av)\n",
    "display(IM3)\n",
    "equ1 = s.Eq(Av, 100/120)\n",
    "equ2 = s.Eq(IM3, db2mag(-50))\n",
    "#sol1 = s.solveset(equ1, gm)\n",
    "#sol2 = s.solveset(equ2, WL)\n",
    "#print(sol1)\n",
    "#print(sol2)\n",
    "s.linsolve([equ1, equ2], (gm, WL))"
   ]
  },
  {
   "cell_type": "code",
   "execution_count": 139,
   "metadata": {},
   "outputs": [
    {
     "data": {
      "text/latex": [
       "$$5.65685424949238 \\sqrt{\\frac{V_{T}^{3} g_{m} \\left(R_{E} g_{m} + 1\\right)^{3}}{I_{Q} \\left(- \\frac{3.0 I_{Q} R_{E}}{V_{T} \\left(R_{E} g_{m} + 1\\right)} + 1\\right)}}$$"
      ],
      "text/plain": [
       "                        ______________________________\n",
       "                       ╱       3                3     \n",
       "                      ╱     V_T ⋅gₘ⋅(R_E⋅gₘ + 1)      \n",
       "5.65685424949238⋅    ╱   ──────────────────────────── \n",
       "                    ╱        ⎛    3.0⋅I_Q⋅R_E       ⎞ \n",
       "                   ╱     I_Q⋅⎜- ──────────────── + 1⎟ \n",
       "                 ╲╱          ⎝  V_T⋅(R_E⋅gₘ + 1)    ⎠ "
      ]
     },
     "metadata": {},
     "output_type": "display_data"
    },
    {
     "data": {
      "text/latex": [
       "$$0.147078210486802$$"
      ],
      "text/plain": [
       "0.147078210486802"
      ]
     },
     "metadata": {},
     "output_type": "display_data"
    },
    {
     "data": {
      "text/latex": [
       "$$0.627393421621956 i$$"
      ],
      "text/plain": [
       "0.627393421621956⋅ⅈ"
      ]
     },
     "metadata": {},
     "output_type": "display_data"
    },
    {
     "data": {
      "text/latex": [
       "$$5.65685424949238$$"
      ],
      "text/plain": [
       "5.65685424949238"
      ]
     },
     "metadata": {},
     "output_type": "display_data"
    },
    {
     "data": {
      "text/latex": [
       "$$13.6389874265643 i$$"
      ],
      "text/plain": [
       "13.6389874265643⋅ⅈ"
      ]
     },
     "metadata": {},
     "output_type": "display_data"
    }
   ],
   "source": [
    "# Problem 3\n",
    "gm, RE, IQ, VT = s.symbols('g_m R_E, I_Q, V_T')\n",
    "b1 = gm / (1 + gm*RE)\n",
    "b2 = (0.5*(1/VT)**2 * IQ) / (1 + gm * RE)**3\n",
    "b3 = (1/24) * ((1/VT)**3 * IQ)/(1 + gm*RE)**4 * (1 - (2*(0.5*(1/VT)**2 * IQ)**2 * RE)/((1/6)*(1/VT)**3 * IQ * (1 + gm*RE)))\n",
    "IIP3 = s.sqrt(s.Rational(4,3) * (b1/b3))\n",
    "display(IIP3)\n",
    "IIP3_nodegen = IIP3.subs([(IQ, 1), (RE, 0), (gm, 1/VT), (VT, 26e-3)])\n",
    "display(IIP3_nodegen)\n",
    "IIP3_degen = IIP3.subs([(IQ, 1), (RE, 0.02), (gm, 1/VT), (VT, 26e-3)])\n",
    "display(IIP3_degen.evalf())\n",
    "display((IIP3_nodegen * (1/26e-3)).evalf())\n",
    "display((IIP3_degen * ((1/26e-3) / (1 + (1/26e-3)*0.02))).evalf())"
   ]
  },
  {
   "cell_type": "code",
   "execution_count": 140,
   "metadata": {},
   "outputs": [
    {
     "data": {
      "text/latex": [
       "$$\\left\\{0.0065\\right\\}$$"
      ],
      "text/plain": [
       "{0.0065}"
      ]
     },
     "execution_count": 140,
     "metadata": {},
     "output_type": "execute_result"
    }
   ],
   "source": [
    "OIP3 = IIP3 * (gm / (1 + gm*RE))\n",
    "OIP3_equ = s.Eq(OIP3.subs([(IQ, 1), (gm, 1/VT), (VT, 26e-3)]), 10)\n",
    "s.solveset(OIP3_equ, RE)"
   ]
  }
 ],
 "metadata": {
  "kernelspec": {
   "display_name": "Python 3",
   "language": "python",
   "name": "python3"
  }
 },
 "nbformat": 4,
 "nbformat_minor": 2
}
