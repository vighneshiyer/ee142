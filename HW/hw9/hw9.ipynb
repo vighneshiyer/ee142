{
 "cells": [
  {
   "cell_type": "code",
   "execution_count": 1,
   "metadata": {},
   "outputs": [
    {
     "name": "stdout",
     "output_type": "stream",
     "text": [
      "Once deleted, variables cannot be recovered. Proceed (y/[n])? y\n"
     ]
    }
   ],
   "source": [
    "%matplotlib inline\n",
    "%reset\n",
    "from IPython.display import display\n",
    "\n",
    "import numpy as np\n",
    "import matplotlib.pyplot as plt\n",
    "import scipy\n",
    "\n",
    "import SchemDraw as schem # to draw schematics (install using 'pip install SchemDraw')\n",
    "import SchemDraw.elements as e\n",
    "\n",
    "import skrf as rf # scikit-rf (install using 'conda -c scikit-rf scikit-rf')\n",
    "\n",
    "import sympy as s # sympy (install using 'conda -c sympy sympy')\n",
    "from sympy import I # imaginary symbol\n",
    "from sympy.simplify.fu import fu, TR7\n",
    "\n",
    "rf.stylely() # enable scikit-rf plot styles\n",
    "s.init_printing(use_latex='mathjax') # print sympy equations in MathJAX (for Jupyter)"
   ]
  },
  {
   "cell_type": "code",
   "execution_count": 2,
   "metadata": {
    "collapsed": true
   },
   "outputs": [],
   "source": [
    "def mag2db(mag):\n",
    "    return np.multiply(20.0, np.log10(mag))\n",
    "def mag2pdb(mag):\n",
    "    return np.multiply(10.0, np.log10(mag))\n",
    "def db2mag(db):\n",
    "    return np.power(10, np.divide(db, 20.0))\n",
    "def pdb2mag(pdb):\n",
    "    return np.power(10, np.divide(pdb, 10.0))\n",
    "def rad2deg(rad):\n",
    "    return np.multiply(np.divide(rad, (2*np.pi)), 360.0)\n",
    "def deg2rad(deg):\n",
    "    return np.multiply(np.divide(deg, 360.0), 2*np.pi)\n",
    "def dbm2v(dbm, R = 50):\n",
    "    # P = V^2 / R\n",
    "    power = 1e-3 * np.power(10, np.divide(dbm, 10))\n",
    "    return np.sqrt(power * (R*2))    \n",
    "def v2dbm(v, R = 50):\n",
    "    power = np.divide(np.power(v, 2), R*2)\n",
    "    return 10 * np.log10(power/1e-3)"
   ]
  },
  {
   "cell_type": "code",
   "execution_count": 7,
   "metadata": {},
   "outputs": [
    {
     "data": {
      "text/latex": [
       "$$A \\cos{\\left (\\omega_1 t \\right )}$$"
      ],
      "text/plain": [
       "A⋅cos(\\omega₁⋅t)"
      ]
     },
     "metadata": {},
     "output_type": "display_data"
    },
    {
     "data": {
      "text/latex": [
       "$$\\frac{3 a_{3}}{4} A^{3} \\cos{\\left (\\omega_1 t \\right )} + \\frac{A^{3} a_{3}}{4} \\cos{\\left (3 \\omega_1 t \\right )} + \\frac{A^{2} a_{2}}{2} \\cos{\\left (2 \\omega_1 t \\right )} + \\frac{A^{2} a_{2}}{2} + A a_{1} \\cos{\\left (\\omega_1 t \\right )}$$"
      ],
      "text/plain": [
       "   3                      3                        2                        2 \n",
       "3⋅A ⋅a₃⋅cos(\\omega₁⋅t)   A ⋅a₃⋅cos(3⋅\\omega₁⋅t)   A ⋅a₂⋅cos(2⋅\\omega₁⋅t)   A ⋅\n",
       "────────────────────── + ────────────────────── + ────────────────────── + ───\n",
       "          4                        4                        2                2\n",
       "\n",
       "                        \n",
       "a₂                      \n",
       "── + A⋅a₁⋅cos(\\omega₁⋅t)\n",
       "                        "
      ]
     },
     "metadata": {},
     "output_type": "display_data"
    },
    {
     "name": "stdout",
     "output_type": "stream",
     "text": [
      "\\frac{3 a_{3}}{4} A^{3} \\cos{\\left (\\omega_1 t \\right )} + \\frac{A^{3} a_{3}}{4} \\cos{\\left (3 \\omega_1 t \\right )} + \\frac{A^{2} a_{2}}{2} \\cos{\\left (2 \\omega_1 t \\right )} + \\frac{A^{2} a_{2}}{2} + A a_{1} \\cos{\\left (\\omega_1 t \\right )}\n"
     ]
    }
   ],
   "source": [
    "# Single tone harmonic distortion\n",
    "A, w1, t = s.symbols('A \\omega_1 t', real=True)\n",
    "a1, a2, a3 = s.symbols('a_1 a_2 a_3')\n",
    "Si = A * s.cos(w1*t)\n",
    "display(Si)\n",
    "So = a1*Si + a2*(Si**2) + a3*(Si**3)\n",
    "So = s.expand(s.fu(So, measure=lambda x: -x.count_ops()))\n",
    "display(So)\n",
    "print(s.latex(So))"
   ]
  },
  {
   "cell_type": "code",
   "execution_count": 6,
   "metadata": {},
   "outputs": [
    {
     "data": {
      "text/latex": [
       "$$A \\cos{\\left (\\omega_1 t \\right )} + A \\cos{\\left (\\omega_2 t \\right )}$$"
      ],
      "text/plain": [
       "A⋅cos(\\omega₁⋅t) + A⋅cos(\\omega₂⋅t)"
      ]
     },
     "metadata": {},
     "output_type": "display_data"
    },
    {
     "data": {
      "text/latex": [
       "$$\\frac{9 a_{3}}{4} A^{3} \\cos{\\left (\\omega_1 t \\right )} + \\frac{A^{3} a_{3}}{4} \\cos{\\left (3 \\omega_1 t \\right )} + \\frac{9 a_{3}}{4} A^{3} \\cos{\\left (\\omega_2 t \\right )} + \\frac{A^{3} a_{3}}{4} \\cos{\\left (3 \\omega_2 t \\right )} + \\frac{3 a_{3}}{4} A^{3} \\cos{\\left (\\omega_1 t - 2 \\omega_2 t \\right )} + \\frac{3 a_{3}}{4} A^{3} \\cos{\\left (\\omega_1 t + 2 \\omega_2 t \\right )} + \\frac{3 a_{3}}{4} A^{3} \\cos{\\left (2 \\omega_1 t - \\omega_2 t \\right )} + \\frac{3 a_{3}}{4} A^{3} \\cos{\\left (2 \\omega_1 t + \\omega_2 t \\right )} + \\frac{A^{2} a_{2}}{2} \\cos{\\left (2 \\omega_1 t \\right )} + \\frac{A^{2} a_{2}}{2} \\cos{\\left (2 \\omega_2 t \\right )} + A^{2} a_{2} \\cos{\\left (\\omega_1 t - \\omega_2 t \\right )} + A^{2} a_{2} \\cos{\\left (\\omega_1 t + \\omega_2 t \\right )} + A^{2} a_{2} + A a_{1} \\cos{\\left (\\omega_1 t \\right )} + A a_{1} \\cos{\\left (\\omega_2 t \\right )}$$"
      ],
      "text/plain": [
       "   3                      3                          3                      3 \n",
       "9⋅A ⋅a₃⋅cos(\\omega₁⋅t)   A ⋅a₃⋅cos(3⋅\\omega₁⋅t)   9⋅A ⋅a₃⋅cos(\\omega₂⋅t)   A ⋅\n",
       "────────────────────── + ────────────────────── + ────────────────────── + ───\n",
       "          4                        4                        4                 \n",
       "\n",
       "                         3                                      3             \n",
       "a₃⋅cos(3⋅\\omega₂⋅t)   3⋅A ⋅a₃⋅cos(\\omega₁⋅t - 2⋅\\omega₂⋅t)   3⋅A ⋅a₃⋅cos(\\omeg\n",
       "─────────────────── + ──────────────────────────────────── + ─────────────────\n",
       "       4                               4                                      \n",
       "\n",
       "                         3                                      3             \n",
       "a₁⋅t + 2⋅\\omega₂⋅t)   3⋅A ⋅a₃⋅cos(2⋅\\omega₁⋅t - \\omega₂⋅t)   3⋅A ⋅a₃⋅cos(2⋅\\om\n",
       "─────────────────── + ──────────────────────────────────── + ─────────────────\n",
       "4                                      4                                      \n",
       "\n",
       "                       2                        2                             \n",
       "ega₁⋅t + \\omega₂⋅t)   A ⋅a₂⋅cos(2⋅\\omega₁⋅t)   A ⋅a₂⋅cos(2⋅\\omega₂⋅t)    2    \n",
       "─────────────────── + ────────────────────── + ────────────────────── + A ⋅a₂⋅\n",
       "4                               2                        2                    \n",
       "\n",
       "                                                                              \n",
       "                              2                                  2            \n",
       "cos(\\omega₁⋅t - \\omega₂⋅t) + A ⋅a₂⋅cos(\\omega₁⋅t + \\omega₂⋅t) + A ⋅a₂ + A⋅a₁⋅c\n",
       "                                                                              \n",
       "\n",
       "                                   \n",
       "                                   \n",
       "os(\\omega₁⋅t) + A⋅a₁⋅cos(\\omega₂⋅t)\n",
       "                                   "
      ]
     },
     "metadata": {},
     "output_type": "display_data"
    },
    {
     "name": "stdout",
     "output_type": "stream",
     "text": [
      "A \\cos{\\left (\\omega_1 t \\right )} + A \\cos{\\left (\\omega_2 t \\right )}\n",
      "\\frac{9 a_{3}}{4} A^{3} \\cos{\\left (\\omega_1 t \\right )} + \\frac{A^{3} a_{3}}{4} \\cos{\\left (3 \\omega_1 t \\right )} + \\frac{9 a_{3}}{4} A^{3} \\cos{\\left (\\omega_2 t \\right )} + \\frac{A^{3} a_{3}}{4} \\cos{\\left (3 \\omega_2 t \\right )} + \\frac{3 a_{3}}{4} A^{3} \\cos{\\left (\\omega_1 t - 2 \\omega_2 t \\right )} + \\frac{3 a_{3}}{4} A^{3} \\cos{\\left (\\omega_1 t + 2 \\omega_2 t \\right )} + \\frac{3 a_{3}}{4} A^{3} \\cos{\\left (2 \\omega_1 t - \\omega_2 t \\right )} + \\frac{3 a_{3}}{4} A^{3} \\cos{\\left (2 \\omega_1 t + \\omega_2 t \\right )} + \\frac{A^{2} a_{2}}{2} \\cos{\\left (2 \\omega_1 t \\right )} + \\frac{A^{2} a_{2}}{2} \\cos{\\left (2 \\omega_2 t \\right )} + A^{2} a_{2} \\cos{\\left (\\omega_1 t - \\omega_2 t \\right )} + A^{2} a_{2} \\cos{\\left (\\omega_1 t + \\omega_2 t \\right )} + A^{2} a_{2} + A a_{1} \\cos{\\left (\\omega_1 t \\right )} + A a_{1} \\cos{\\left (\\omega_2 t \\right )}\n"
     ]
    }
   ],
   "source": [
    "# Two tone harmonic distortion\n",
    "A, w1, w2, t = s.symbols('A \\omega_1 \\omega_2 t', real=True)\n",
    "a1, a2, a3 = s.symbols('a_1 a_2 a_3')\n",
    "Si = A * s.cos(w1*t) + A * s.cos(w2*t)\n",
    "display(Si)\n",
    "So = a1*Si + a2*(Si**2) + a3*(Si**3)\n",
    "So = s.expand(s.fu(So, measure=lambda x: -x.count_ops()))\n",
    "display(So)\n",
    "print(s.latex(Si))\n",
    "print(s.latex(So))"
   ]
  },
  {
   "cell_type": "code",
   "execution_count": 12,
   "metadata": {},
   "outputs": [
    {
     "data": {
      "text/latex": [
       "$$0.0849189356218$$"
      ],
      "text/plain": [
       "0.0849189356218"
      ]
     },
     "execution_count": 12,
     "metadata": {},
     "output_type": "execute_result"
    }
   ],
   "source": [
    "# Problem 1a\n",
    "10**(db2mag(-3) / 20.0) - 1"
   ]
  },
  {
   "cell_type": "code",
   "execution_count": 13,
   "metadata": {},
   "outputs": [
    {
     "data": {
      "text/latex": [
       "$$A \\cos{\\left (\\omega_1 t \\right )} + B \\cos{\\left (\\omega_2 t \\right )}$$"
      ],
      "text/plain": [
       "A⋅cos(\\omega₁⋅t) + B⋅cos(\\omega₂⋅t)"
      ]
     },
     "metadata": {},
     "output_type": "display_data"
    },
    {
     "data": {
      "text/latex": [
       "$$\\frac{3 a_{3}}{4} A^{3} \\cos{\\left (\\omega_1 t \\right )} + \\frac{A^{3} a_{3}}{4} \\cos{\\left (3 \\omega_1 t \\right )} + \\frac{3 a_{3}}{2} A^{2} B \\cos{\\left (\\omega_2 t \\right )} + \\frac{3 a_{3}}{4} A^{2} B \\cos{\\left (2 \\omega_1 t - \\omega_2 t \\right )} + \\frac{3 a_{3}}{4} A^{2} B \\cos{\\left (2 \\omega_1 t + \\omega_2 t \\right )} + \\frac{A^{2} a_{2}}{2} \\cos{\\left (2 \\omega_1 t \\right )} + \\frac{A^{2} a_{2}}{2} + \\frac{3 a_{3}}{2} A B^{2} \\cos{\\left (\\omega_1 t \\right )} + \\frac{3 a_{3}}{4} A B^{2} \\cos{\\left (\\omega_1 t - 2 \\omega_2 t \\right )} + \\frac{3 a_{3}}{4} A B^{2} \\cos{\\left (\\omega_1 t + 2 \\omega_2 t \\right )} + A B a_{2} \\cos{\\left (\\omega_1 t - \\omega_2 t \\right )} + A B a_{2} \\cos{\\left (\\omega_1 t + \\omega_2 t \\right )} + A a_{1} \\cos{\\left (\\omega_1 t \\right )} + \\frac{3 a_{3}}{4} B^{3} \\cos{\\left (\\omega_2 t \\right )} + \\frac{B^{3} a_{3}}{4} \\cos{\\left (3 \\omega_2 t \\right )} + \\frac{B^{2} a_{2}}{2} \\cos{\\left (2 \\omega_2 t \\right )} + \\frac{B^{2} a_{2}}{2} + B a_{1} \\cos{\\left (\\omega_2 t \\right )}$$"
      ],
      "text/plain": [
       "   3                      3                          2                        \n",
       "3⋅A ⋅a₃⋅cos(\\omega₁⋅t)   A ⋅a₃⋅cos(3⋅\\omega₁⋅t)   3⋅A ⋅B⋅a₃⋅cos(\\omega₂⋅t)   3\n",
       "────────────────────── + ────────────────────── + ──────────────────────── + ─\n",
       "          4                        4                         2                \n",
       "\n",
       "  2                                        2                                  \n",
       "⋅A ⋅B⋅a₃⋅cos(2⋅\\omega₁⋅t - \\omega₂⋅t)   3⋅A ⋅B⋅a₃⋅cos(2⋅\\omega₁⋅t + \\omega₂⋅t)\n",
       "───────────────────────────────────── + ──────────────────────────────────────\n",
       "                 4                                        4                   \n",
       "\n",
       "    2                        2           2                          2         \n",
       "   A ⋅a₂⋅cos(2⋅\\omega₁⋅t)   A ⋅a₂   3⋅A⋅B ⋅a₃⋅cos(\\omega₁⋅t)   3⋅A⋅B ⋅a₃⋅cos(\\\n",
       " + ────────────────────── + ───── + ──────────────────────── + ───────────────\n",
       "             2                2                2                              \n",
       "\n",
       "                               2                                              \n",
       "omega₁⋅t - 2⋅\\omega₂⋅t)   3⋅A⋅B ⋅a₃⋅cos(\\omega₁⋅t + 2⋅\\omega₂⋅t)              \n",
       "─────────────────────── + ────────────────────────────────────── + A⋅B⋅a₂⋅cos(\n",
       "   4                                        4                                 \n",
       "\n",
       "                                                                              \n",
       "                                                                              \n",
       "\\omega₁⋅t - \\omega₂⋅t) + A⋅B⋅a₂⋅cos(\\omega₁⋅t + \\omega₂⋅t) + A⋅a₁⋅cos(\\omega₁⋅\n",
       "                                                                              \n",
       "\n",
       "        3                      3                        2                     \n",
       "     3⋅B ⋅a₃⋅cos(\\omega₂⋅t)   B ⋅a₃⋅cos(3⋅\\omega₂⋅t)   B ⋅a₂⋅cos(2⋅\\omega₂⋅t) \n",
       "t) + ────────────────────── + ────────────────────── + ────────────────────── \n",
       "               4                        4                        2            \n",
       "\n",
       "   2                         \n",
       "  B ⋅a₂                      \n",
       "+ ───── + B⋅a₁⋅cos(\\omega₂⋅t)\n",
       "    2                        "
      ]
     },
     "metadata": {},
     "output_type": "display_data"
    },
    {
     "name": "stdout",
     "output_type": "stream",
     "text": [
      "A \\cos{\\left (\\omega_1 t \\right )} + B \\cos{\\left (\\omega_2 t \\right )}\n",
      "\\frac{3 a_{3}}{4} A^{3} \\cos{\\left (\\omega_1 t \\right )} + \\frac{A^{3} a_{3}}{4} \\cos{\\left (3 \\omega_1 t \\right )} + \\frac{3 a_{3}}{2} A^{2} B \\cos{\\left (\\omega_2 t \\right )} + \\frac{3 a_{3}}{4} A^{2} B \\cos{\\left (2 \\omega_1 t - \\omega_2 t \\right )} + \\frac{3 a_{3}}{4} A^{2} B \\cos{\\left (2 \\omega_1 t + \\omega_2 t \\right )} + \\frac{A^{2} a_{2}}{2} \\cos{\\left (2 \\omega_1 t \\right )} + \\frac{A^{2} a_{2}}{2} + \\frac{3 a_{3}}{2} A B^{2} \\cos{\\left (\\omega_1 t \\right )} + \\frac{3 a_{3}}{4} A B^{2} \\cos{\\left (\\omega_1 t - 2 \\omega_2 t \\right )} + \\frac{3 a_{3}}{4} A B^{2} \\cos{\\left (\\omega_1 t + 2 \\omega_2 t \\right )} + A B a_{2} \\cos{\\left (\\omega_1 t - \\omega_2 t \\right )} + A B a_{2} \\cos{\\left (\\omega_1 t + \\omega_2 t \\right )} + A a_{1} \\cos{\\left (\\omega_1 t \\right )} + \\frac{3 a_{3}}{4} B^{3} \\cos{\\left (\\omega_2 t \\right )} + \\frac{B^{3} a_{3}}{4} \\cos{\\left (3 \\omega_2 t \\right )} + \\frac{B^{2} a_{2}}{2} \\cos{\\left (2 \\omega_2 t \\right )} + \\frac{B^{2} a_{2}}{2} + B a_{1} \\cos{\\left (\\omega_2 t \\right )}\n"
     ]
    }
   ],
   "source": [
    "# Blocker apparent gain effect (w1 = blocker, w2 = desired, A = blocker amplitude, B = desired amplitude)\n",
    "# Problem 1b\n",
    "A, B, w1, w2, t = s.symbols('A B \\omega_1 \\omega_2 t', real=True)\n",
    "a1, a2, a3 = s.symbols('a_1 a_2 a_3')\n",
    "Si = A * s.cos(w1*t) + B * s.cos(w2*t)\n",
    "display(Si)\n",
    "So = a1*Si + a2*(Si**2) + a3*(Si**3)\n",
    "So = s.expand(s.fu(So, measure=lambda x: -x.count_ops()))\n",
    "display(So)\n",
    "print(s.latex(Si))\n",
    "print(s.latex(So))"
   ]
  },
  {
   "cell_type": "code",
   "execution_count": 14,
   "metadata": {},
   "outputs": [
    {
     "data": {
      "text/latex": [
       "$$0.0957624448258$$"
      ],
      "text/plain": [
       "0.0957624448258"
      ]
     },
     "execution_count": 14,
     "metadata": {},
     "output_type": "execute_result"
    }
   ],
   "source": [
    "10**(db2mag(-2)/20.0)-1"
   ]
  }
 ],
 "metadata": {
  "kernelspec": {
   "display_name": "Python 3",
   "language": "python",
   "name": "python3"
  },
  "language_info": {
   "codemirror_mode": {
    "name": "ipython",
    "version": 3
   },
   "file_extension": ".py",
   "mimetype": "text/x-python",
   "name": "python",
   "nbconvert_exporter": "python",
   "pygments_lexer": "ipython3",
   "version": "3.6.2"
  }
 },
 "nbformat": 4,
 "nbformat_minor": 2
}
